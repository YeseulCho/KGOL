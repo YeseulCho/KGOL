{
 "cells": [
  {
   "cell_type": "markdown",
   "metadata": {},
   "source": [
    "## 아주쉬운 유전체 분석 - 실습편(2019)\n",
    "\n",
    "    작성일자 : 2020/05/29\n",
    "    작성자 : 조예슬\n",
    "\n",
    "    강의 : 제 14강\n",
    "           Clustering and Classification (아주대 지별아) - 1. Classification and Clustering 이론 설명\n",
    "           \n",
    "           제 15강\n",
    "           Clustering and Classification (아주대 지별아) - 2. hclust in R -1 \n",
    "           \n",
    "           제 16강\n",
    "           Clustering and Classification (아주대 지별아) - 2. hclust in R -2 "
   ]
  },
  {
   "cell_type": "markdown",
   "metadata": {},
   "source": [
    "#### Genomic data anlaysis\n",
    "\n",
    "    - Clustering\n",
    "    - Classification\n",
    "    - hclust & heatmap"
   ]
  },
  {
   "cell_type": "markdown",
   "metadata": {},
   "source": [
    "#### Classification vs Clustering\n",
    "\n",
    "    * Classification\n",
    "        : Pre-defined classes\n",
    "        : Dataset consist of attributes and a class labels\n",
    "          (어떤 데이터가 있게 된다면 그 데이터를 카테고리화 하는 것)\n",
    "        : Goal is to predict classes from the object properties/attribute values\n",
    "          (Pre-defined classes로 학습하여 데이터의 클래스를 정해줌 )\n",
    "        : Classifiers are learned from sets od classified examples\n",
    "        : Important : classifiers need to have a high accuracy\n",
    "        : Supervised learning\n",
    "          (학습 필요)\n",
    "        : Provided Training Sample\n",
    "    \n",
    "    * Clustering\n",
    "        : Goal id to identify similar groups of objects\n",
    "          (어떤 데이터가 있게 되면 데이터를 유사한 것 끼리 묶게 되는것)\n",
    "        : Groups(clusters, new classes) are discovered\n",
    "          ( ex) 암종 molecular classification이 다르므로 group으로 구분되기 적합)\n",
    "        : Important : similarity assessment which derives a \"distance function\" is critical, \n",
    "                      because clusters are discovered based on distance/density\n",
    "                      (유사성 평가 -> data distance function으로 구하게 됨)\n",
    "        : Unsuperviesed learning \n",
    "          (학습의 필요가 없음)\n",
    "        : Not provided Training Sample\n",
    "          (training 하는 샘플 자체가 필요 없음)\n",
    "          \n",
    "#### Classification\n",
    "    1. Dataset은 반드시 class 정보가 있는 데이터셋을 준비해야함\n",
    "        ex) 동그라미가 tumor, 네모가 normal이다 조직적으로 보게되니까 s1, s2로 나뉘어진다\n",
    "    2. Dataset을 Training dataset/Test dataset으로 나눈다 \n",
    "        ex) data가 어느정도 volume, size가 있어야한다 \n",
    "            input으로 넣어줘야하는 sample수가 많아야 정확한 학습이 된다\n",
    "    3. training dataset을 이용하여 모델을 트레이닝함\n",
    "            training을 잘 할수 있는 classifier를 찾아내서 모델 트레이닝\n",
    "    4. 학습모델을 이용한 test dataset의 class를 예측하고 예측정확도를 평가함\n",
    "            정확도가 높아야함 예측에대한 정확도 평가는 실제값이 true, 아닌 값이 false라 하면\n",
    "            \n",
    "    * 예측정확도 평가\n",
    "                                         (TP + TN)\n",
    "                        Accuracy = ---------------------\n",
    "                                    (TP + FP + FN + TN) \n",
    "\n",
    "            --------------------------------------------------------------\n",
    "                                                   Fact (실제값)\n",
    "            --------------------------------------------------------------\n",
    "                                          Fact is True      Fact is False\n",
    "             Predict  ----------------------------------------------------\n",
    "            (예측치)    Predict as True        TP                 FP\n",
    "                        Predict as False       FN                 TN\n",
    "            --------------------------------------------------------------\n",
    "    \n",
    "#### Clustering\n",
    "    1. Dataset\n",
    "    \n",
    "    2. Data preprocessing\n",
    "        - Log2 transformation\n",
    "        - Quantile normalization\n",
    "        - Remove outliers : outlier가 많은 경우 사용\n",
    "        - Z-normalization : 평균 0, 분산 1로 맞추기 \n",
    "\n",
    "    3. Calculate distance\n",
    "       (input data 자체를 가지고 distance 구하기)\n",
    "        - Euclidean\n",
    "        - Manhattan\n",
    "        \n",
    "    4. Select clustering algorithm\n",
    "        - Single\n",
    "        - Complete\n",
    "        - Average\n",
    "        - Centroid\n",
    "        - Ward's\n",
    "        \n",
    "    5. Visualization & interpretation\n",
    "    \n",
    "#### Clustering - Hierarchical clustering (계층적 군집합)\n",
    "\n",
    "    * 응집형(Agglomerative : Bottom-up)\n",
    "        : 관찰된 모든 데이터를 하나의 cluster로 봄\n",
    "          각 cluster의 유사성을 평가하여 군집화시킴\n",
    "          반복해서 하나의 final cluster를 만들기\n",
    "\n",
    "    * 분리형(Divisive : Top-down)\n",
    "        : bottom-up에서 역으로 간다고 생각하면됨\n",
    "          First cluster로 모든 data를 하나의 cluster로 만듦\n",
    "          개체의 속성에 따라 cluster divide시킴\n",
    "          \n",
    "#### Clustering - Agglomerative clustering algorithm\n",
    "    - Most popular hierarchical clustering technique\n",
    "    - Basic algorithm : \n",
    "        Compute the distance matrix between input data points\n",
    "        Let each data point be a cluster\n",
    "        \n",
    "        Repeat\n",
    "        1. Merge the two closet clusters\n",
    "        2. Update the distance matrix\n",
    "        3. Until only a single cluster remain\n",
    "        \n",
    "    - Key operation is the computation of the distance between two clusters\n",
    "    - Different definitions of the distance between clusters lead to different algorithms\n",
    "    \n",
    "    \n",
    "#### Clustering - Calculate Distance\n",
    "\n",
    "    * Euclidean distance\n",
    "      : This is pretty much the most common distance measure\n",
    "        대각선으로 연결한 가장 빠른길\n",
    "      : sqrt(x - y)^2\n",
    "      : euclidean distance in R : dist(data)  # default method = \"euclidean\"\n",
    "      : Clustering distance matrix\n",
    "          - Single linkage : 한 군집의 점과 다른 군집의 점 사이의 가장 짧은 거리(shortest distance, min)\n",
    "          - Complete linkage : 한 군집의 점과 다른 군집의 점 사이의 가장 긴 거리(longest distance, max)\n",
    "          - Centroid linkage : 한 군집의 평균과 다른 군집의 평균과의 거리 \n",
    "          - Average linkage : 한 군집의 점과 다른 군집의 점 사이의 평균 거리, UPGMA(Unweighted pair group mean averaging)\n",
    "          - Ward's method : 군집 내 편차들의 제곱합(within group sum of squares)에 근거를 두고 군집들을 병합시키는 방법\n",
    "    \n",
    "    * Manhattan distance\n",
    "      : Also known as city block distance, Canberra distance.\n",
    "        Incidentally, they're also pretty descriptive : The Manhattan distance is the shortest distance a car would have to drive in a city block structure to get from x to y\n",
    "      : abs(x - y)"
   ]
  },
  {
   "cell_type": "code",
   "execution_count": 43,
   "metadata": {},
   "outputs": [],
   "source": [
    "library(\"RColorBrewer\")\n",
    "library(\"ggplot2\")\n",
    "library(\"gplots\")\n",
    "library(Biobase)"
   ]
  },
  {
   "cell_type": "markdown",
   "metadata": {},
   "source": [
    "#### Distance (example)"
   ]
  },
  {
   "cell_type": "code",
   "execution_count": 22,
   "metadata": {},
   "outputs": [
    {
     "data": {
      "image/png": "[encoded data removed]",
      "text/plain": [
       "plot without title"
      ]
     },
     "metadata": {},
     "output_type": "display_data"
    }
   ],
   "source": [
    "## data 만들기\n",
    "Gene1 = c(1, 1.5, 5, 3, 4, 3)\n",
    "Gene2 = c(1, 1.5, 5, 4, 4, 3.5)\n",
    "\n",
    "df = cbind(Gene1, Gene2)\n",
    "rownames(df) = c(\"S1\", \"S2\", \"S3\", \"S4\", \"S5\", \"S6\")\n",
    "\n",
    "df = as.data.frame(df) # ggplot으로 시각화시키려면 dataframe으로 만들어줘야함\n",
    "ggplot(df, aes(x = Gene1, y = Gene2)) + geom_point(size = 2.5) + \n",
    "    geom_text(label = rownames(df), vjust = -0.5, hjust = 1) + theme(text = element_text(size=15))\n",
    "# S1과 S2, S4와 S6이 비슷한 cluster를 가질것으로 보인다"
   ]
  },
  {
   "cell_type": "code",
   "execution_count": 28,
   "metadata": {},
   "outputs": [
    {
     "data": {
      "text/html": [
       "<table>\n",
       "<thead><tr><th></th><th scope=col>S1</th><th scope=col>S2</th><th scope=col>S3</th><th scope=col>S4</th><th scope=col>S5</th><th scope=col>S6</th></tr></thead>\n",
       "<tbody>\n",
       "\t<tr><th scope=row>S1</th><td>0.0000000</td><td>0.7071068</td><td>5.656854 </td><td>3.605551 </td><td>4.242641 </td><td>3.201562 </td></tr>\n",
       "\t<tr><th scope=row>S2</th><td>0.7071068</td><td>0.0000000</td><td>4.949747 </td><td>2.915476 </td><td>3.535534 </td><td>2.500000 </td></tr>\n",
       "\t<tr><th scope=row>S3</th><td>5.6568542</td><td>4.9497475</td><td>0.000000 </td><td>2.236068 </td><td>1.414214 </td><td>2.500000 </td></tr>\n",
       "\t<tr><th scope=row>S4</th><td>3.6055513</td><td>2.9154759</td><td>2.236068 </td><td>0.000000 </td><td>1.000000 </td><td>0.500000 </td></tr>\n",
       "\t<tr><th scope=row>S5</th><td>4.2426407</td><td>3.5355339</td><td>1.414214 </td><td>1.000000 </td><td>0.000000 </td><td>1.118034 </td></tr>\n",
       "\t<tr><th scope=row>S6</th><td>3.2015621</td><td>2.5000000</td><td>2.500000 </td><td>0.500000 </td><td>1.118034 </td><td>0.000000 </td></tr>\n",
       "</tbody>\n",
       "</table>\n"
      ],
      "text/latex": [
       "\\begin{tabular}{r|llllll}\n",
       "  & S1 & S2 & S3 & S4 & S5 & S6\\\\\n",
       "\\hline\n",
       "\tS1 & 0.0000000 & 0.7071068 & 5.656854  & 3.605551  & 4.242641  & 3.201562 \\\\\n",
       "\tS2 & 0.7071068 & 0.0000000 & 4.949747  & 2.915476  & 3.535534  & 2.500000 \\\\\n",
       "\tS3 & 5.6568542 & 4.9497475 & 0.000000  & 2.236068  & 1.414214  & 2.500000 \\\\\n",
       "\tS4 & 3.6055513 & 2.9154759 & 2.236068  & 0.000000  & 1.000000  & 0.500000 \\\\\n",
       "\tS5 & 4.2426407 & 3.5355339 & 1.414214  & 1.000000  & 0.000000  & 1.118034 \\\\\n",
       "\tS6 & 3.2015621 & 2.5000000 & 2.500000  & 0.500000  & 1.118034  & 0.000000 \\\\\n",
       "\\end{tabular}\n"
      ],
      "text/markdown": [
       "\n",
       "| <!--/--> | S1 | S2 | S3 | S4 | S5 | S6 |\n",
       "|---|---|---|---|---|---|---|\n",
       "| S1 | 0.0000000 | 0.7071068 | 5.656854  | 3.605551  | 4.242641  | 3.201562  |\n",
       "| S2 | 0.7071068 | 0.0000000 | 4.949747  | 2.915476  | 3.535534  | 2.500000  |\n",
       "| S3 | 5.6568542 | 4.9497475 | 0.000000  | 2.236068  | 1.414214  | 2.500000  |\n",
       "| S4 | 3.6055513 | 2.9154759 | 2.236068  | 0.000000  | 1.000000  | 0.500000  |\n",
       "| S5 | 4.2426407 | 3.5355339 | 1.414214  | 1.000000  | 0.000000  | 1.118034  |\n",
       "| S6 | 3.2015621 | 2.5000000 | 2.500000  | 0.500000  | 1.118034  | 0.000000  |\n",
       "\n"
      ],
      "text/plain": [
       "   S1        S2        S3       S4       S5       S6      \n",
       "S1 0.0000000 0.7071068 5.656854 3.605551 4.242641 3.201562\n",
       "S2 0.7071068 0.0000000 4.949747 2.915476 3.535534 2.500000\n",
       "S3 5.6568542 4.9497475 0.000000 2.236068 1.414214 2.500000\n",
       "S4 3.6055513 2.9154759 2.236068 0.000000 1.000000 0.500000\n",
       "S5 4.2426407 3.5355339 1.414214 1.000000 0.000000 1.118034\n",
       "S6 3.2015621 2.5000000 2.500000 0.500000 1.118034 0.000000"
      ]
     },
     "metadata": {},
     "output_type": "display_data"
    },
    {
     "data": {
      "text/html": [
       "<table>\n",
       "<thead><tr><th></th><th scope=col>S1</th><th scope=col>S2</th><th scope=col>S3</th><th scope=col>S4</th><th scope=col>S5</th><th scope=col>S6</th></tr></thead>\n",
       "<tbody>\n",
       "\t<tr><th scope=row>S1</th><td>0.0</td><td>1.0</td><td>8.0</td><td>5.0</td><td>6.0</td><td>4.5</td></tr>\n",
       "\t<tr><th scope=row>S2</th><td>1.0</td><td>0.0</td><td>7.0</td><td>4.0</td><td>5.0</td><td>3.5</td></tr>\n",
       "\t<tr><th scope=row>S3</th><td>8.0</td><td>7.0</td><td>0.0</td><td>3.0</td><td>2.0</td><td>3.5</td></tr>\n",
       "\t<tr><th scope=row>S4</th><td>5.0</td><td>4.0</td><td>3.0</td><td>0.0</td><td>1.0</td><td>0.5</td></tr>\n",
       "\t<tr><th scope=row>S5</th><td>6.0</td><td>5.0</td><td>2.0</td><td>1.0</td><td>0.0</td><td>1.5</td></tr>\n",
       "\t<tr><th scope=row>S6</th><td>4.5</td><td>3.5</td><td>3.5</td><td>0.5</td><td>1.5</td><td>0.0</td></tr>\n",
       "</tbody>\n",
       "</table>\n"
      ],
      "text/latex": [
       "\\begin{tabular}{r|llllll}\n",
       "  & S1 & S2 & S3 & S4 & S5 & S6\\\\\n",
       "\\hline\n",
       "\tS1 & 0.0 & 1.0 & 8.0 & 5.0 & 6.0 & 4.5\\\\\n",
       "\tS2 & 1.0 & 0.0 & 7.0 & 4.0 & 5.0 & 3.5\\\\\n",
       "\tS3 & 8.0 & 7.0 & 0.0 & 3.0 & 2.0 & 3.5\\\\\n",
       "\tS4 & 5.0 & 4.0 & 3.0 & 0.0 & 1.0 & 0.5\\\\\n",
       "\tS5 & 6.0 & 5.0 & 2.0 & 1.0 & 0.0 & 1.5\\\\\n",
       "\tS6 & 4.5 & 3.5 & 3.5 & 0.5 & 1.5 & 0.0\\\\\n",
       "\\end{tabular}\n"
      ],
      "text/markdown": [
       "\n",
       "| <!--/--> | S1 | S2 | S3 | S4 | S5 | S6 |\n",
       "|---|---|---|---|---|---|---|\n",
       "| S1 | 0.0 | 1.0 | 8.0 | 5.0 | 6.0 | 4.5 |\n",
       "| S2 | 1.0 | 0.0 | 7.0 | 4.0 | 5.0 | 3.5 |\n",
       "| S3 | 8.0 | 7.0 | 0.0 | 3.0 | 2.0 | 3.5 |\n",
       "| S4 | 5.0 | 4.0 | 3.0 | 0.0 | 1.0 | 0.5 |\n",
       "| S5 | 6.0 | 5.0 | 2.0 | 1.0 | 0.0 | 1.5 |\n",
       "| S6 | 4.5 | 3.5 | 3.5 | 0.5 | 1.5 | 0.0 |\n",
       "\n"
      ],
      "text/plain": [
       "   S1  S2  S3  S4  S5  S6 \n",
       "S1 0.0 1.0 8.0 5.0 6.0 4.5\n",
       "S2 1.0 0.0 7.0 4.0 5.0 3.5\n",
       "S3 8.0 7.0 0.0 3.0 2.0 3.5\n",
       "S4 5.0 4.0 3.0 0.0 1.0 0.5\n",
       "S5 6.0 5.0 2.0 1.0 0.0 1.5\n",
       "S6 4.5 3.5 3.5 0.5 1.5 0.0"
      ]
     },
     "metadata": {},
     "output_type": "display_data"
    }
   ],
   "source": [
    "## dist : distance matrix \n",
    "# Euclidean distance\n",
    "d.eu = dist(df)\n",
    "as.matrix(d.eu)  # 대각선 값\n",
    "\n",
    "# manhattan\n",
    "d.man = dist(df, method=\"manhattan\")\n",
    "as.matrix(d.man)  # 값이 상대적으로 크다 직선거리 두개를 완전히 다 지나가므로"
   ]
  },
  {
   "cell_type": "code",
   "execution_count": 32,
   "metadata": {},
   "outputs": [
    {
     "data": {
      "image/png": "[encoded data removed]",
      "text/plain": [
       "Plot with title \"Linkage Clustering\""
      ]
     },
     "metadata": {},
     "output_type": "display_data"
    }
   ],
   "source": [
    "## hclust : Hierarchical Clustering\n",
    "# d.eu single이용\n",
    "res.df = hclust(d.eu, method = \"single\")\n",
    "plot(res.df, hang = -1, cex = .8, main = \"Linkage Clustering\")\n",
    "# single linkage 방법으로 거리 계산하여 나타난 결과\n",
    "# (S1, S2), (S3, S4, S5, S6) 한묶음 \n",
    "# Height부분은 S1, S2는 0.7071068 / S4, S6는 0.5 \n",
    "# 자세한 사항은 PPT 자료 참고하기"
   ]
  },
  {
   "cell_type": "code",
   "execution_count": 33,
   "metadata": {},
   "outputs": [
    {
     "data": {
      "image/png": "[encoded data removed]",
      "text/plain": [
       "Plot with title \"Linkage Clustering\""
      ]
     },
     "metadata": {},
     "output_type": "display_data"
    }
   ],
   "source": [
    "## hclust : Hierarchical Clustering\n",
    "# d.man single이용\n",
    "res.df = hclust(d.man, method = \"single\")\n",
    "plot(res.df, hang = -1, cex = .8, main = \"Linkage Clustering\")\n",
    "# 위의 d.eu의 값과 비교하면 clustering은 동일하고 height의 값만 다름을 볼 수 있다"
   ]
  },
  {
   "cell_type": "markdown",
   "metadata": {},
   "source": [
    "#### ExpressionSet : eset"
   ]
  },
  {
   "cell_type": "code",
   "execution_count": 188,
   "metadata": {},
   "outputs": [
    {
     "data": {
      "text/plain": [
       "ExpressionSet (storageMode: lockedEnvironment)\n",
       "assayData: 15406 features, 9 samples \n",
       "  element names: exprs \n",
       "protocolData: none\n",
       "phenoData\n",
       "  sampleNames: Sample_97L_1 Sample_97L_2 ... Sample_97L_P_SRC_3 (9\n",
       "    total)\n",
       "  varLabels: SID GEO_accession ... Treatment (7 total)\n",
       "  varMetadata: labelDescription\n",
       "featureData\n",
       "  featureNames: A1BG A2M ... ZZZ3 (15406 total)\n",
       "  fvarLabels: gene_id Dbxref product\n",
       "  fvarMetadata: labelDescription\n",
       "experimentData: use 'experimentData(object)'\n",
       "Annotation:  "
      ]
     },
     "metadata": {},
     "output_type": "display_data"
    }
   ],
   "source": [
    "# load normalized ExpressionSet \n",
    "load(\"C:/Users/cho ye seul/Documents/예슬/공부/KGOL/아주쉬운유전체분석-실습(2019)/week7/data/norm_eset.rda\")\n",
    "eset\n",
    "# control 샘플 3개, AC drug treatment 샘플 3개, SRC drug treatment 샘플 3개 "
   ]
  },
  {
   "cell_type": "code",
   "execution_count": 179,
   "metadata": {},
   "outputs": [
    {
     "data": {
      "text/html": [
       "<ol class=list-inline>\n",
       "\t<li>15406</li>\n",
       "\t<li>9</li>\n",
       "</ol>\n"
      ],
      "text/latex": [
       "\\begin{enumerate*}\n",
       "\\item 15406\n",
       "\\item 9\n",
       "\\end{enumerate*}\n"
      ],
      "text/markdown": [
       "1. 15406\n",
       "2. 9\n",
       "\n",
       "\n"
      ],
      "text/plain": [
       "[1] 15406     9"
      ]
     },
     "metadata": {},
     "output_type": "display_data"
    },
    {
     "data": {
      "text/html": [
       "<table>\n",
       "<thead><tr><th></th><th scope=col>Sample_97L_1</th><th scope=col>Sample_97L_2</th><th scope=col>Sample_97L_3</th><th scope=col>Sample_97L_P_AC_1</th><th scope=col>Sample_97L_P_AC_2</th><th scope=col>Sample_97L_P_AC_3</th><th scope=col>Sample_97L_P_SRC_1</th><th scope=col>Sample_97L_P_SRC_2</th><th scope=col>Sample_97L_P_SRC_3</th></tr></thead>\n",
       "<tbody>\n",
       "\t<tr><th scope=row>A1BG</th><td>0.000000  </td><td> 0.000000 </td><td> 0.000000 </td><td> 0.0000000</td><td> 0.9840898</td><td> 0.000000 </td><td> 2.053737 </td><td> 1.174151 </td><td> 0.000000 </td></tr>\n",
       "\t<tr><th scope=row>A2M</th><td>3.966092  </td><td> 2.062618 </td><td> 3.740939 </td><td> 4.0599773</td><td> 2.5583472</td><td> 1.001643 </td><td> 4.460219 </td><td> 5.126321 </td><td> 4.551561 </td></tr>\n",
       "\t<tr><th scope=row>A3GALT2</th><td>0.000000  </td><td> 0.000000 </td><td> 0.000000 </td><td> 0.9854635</td><td> 0.0000000</td><td> 0.000000 </td><td> 1.036046 </td><td> 0.000000 </td><td> 0.000000 </td></tr>\n",
       "\t<tr><th scope=row>A4GALT</th><td>9.874880  </td><td>10.732107 </td><td>10.687444 </td><td>11.1306633</td><td>11.1222016</td><td>11.091409 </td><td>10.546899 </td><td>11.027185 </td><td>10.457006 </td></tr>\n",
       "\t<tr><th scope=row>AAAS</th><td>9.930641  </td><td>10.938505 </td><td>10.942402 </td><td>10.4394239</td><td>10.4130402</td><td>10.543410 </td><td>10.961442 </td><td>11.325856 </td><td>10.549175 </td></tr>\n",
       "\t<tr><th scope=row>AACS</th><td>9.962097  </td><td>10.708559 </td><td>10.543102 </td><td>10.9052222</td><td>10.9156555</td><td>10.980563 </td><td>10.801643 </td><td>11.044455 </td><td>10.864504 </td></tr>\n",
       "</tbody>\n",
       "</table>\n"
      ],
      "text/latex": [
       "\\begin{tabular}{r|lllllllll}\n",
       "  & Sample\\_97L\\_1 & Sample\\_97L\\_2 & Sample\\_97L\\_3 & Sample\\_97L\\_P\\_AC\\_1 & Sample\\_97L\\_P\\_AC\\_2 & Sample\\_97L\\_P\\_AC\\_3 & Sample\\_97L\\_P\\_SRC\\_1 & Sample\\_97L\\_P\\_SRC\\_2 & Sample\\_97L\\_P\\_SRC\\_3\\\\\n",
       "\\hline\n",
       "\tA1BG & 0.000000   &  0.000000  &  0.000000  &  0.0000000 &  0.9840898 &  0.000000  &  2.053737  &  1.174151  &  0.000000 \\\\\n",
       "\tA2M & 3.966092   &  2.062618  &  3.740939  &  4.0599773 &  2.5583472 &  1.001643  &  4.460219  &  5.126321  &  4.551561 \\\\\n",
       "\tA3GALT2 & 0.000000   &  0.000000  &  0.000000  &  0.9854635 &  0.0000000 &  0.000000  &  1.036046  &  0.000000  &  0.000000 \\\\\n",
       "\tA4GALT & 9.874880   & 10.732107  & 10.687444  & 11.1306633 & 11.1222016 & 11.091409  & 10.546899  & 11.027185  & 10.457006 \\\\\n",
       "\tAAAS & 9.930641   & 10.938505  & 10.942402  & 10.4394239 & 10.4130402 & 10.543410  & 10.961442  & 11.325856  & 10.549175 \\\\\n",
       "\tAACS & 9.962097   & 10.708559  & 10.543102  & 10.9052222 & 10.9156555 & 10.980563  & 10.801643  & 11.044455  & 10.864504 \\\\\n",
       "\\end{tabular}\n"
      ],
      "text/markdown": [
       "\n",
       "| <!--/--> | Sample_97L_1 | Sample_97L_2 | Sample_97L_3 | Sample_97L_P_AC_1 | Sample_97L_P_AC_2 | Sample_97L_P_AC_3 | Sample_97L_P_SRC_1 | Sample_97L_P_SRC_2 | Sample_97L_P_SRC_3 |\n",
       "|---|---|---|---|---|---|---|---|---|---|\n",
       "| A1BG | 0.000000   |  0.000000  |  0.000000  |  0.0000000 |  0.9840898 |  0.000000  |  2.053737  |  1.174151  |  0.000000  |\n",
       "| A2M | 3.966092   |  2.062618  |  3.740939  |  4.0599773 |  2.5583472 |  1.001643  |  4.460219  |  5.126321  |  4.551561  |\n",
       "| A3GALT2 | 0.000000   |  0.000000  |  0.000000  |  0.9854635 |  0.0000000 |  0.000000  |  1.036046  |  0.000000  |  0.000000  |\n",
       "| A4GALT | 9.874880   | 10.732107  | 10.687444  | 11.1306633 | 11.1222016 | 11.091409  | 10.546899  | 11.027185  | 10.457006  |\n",
       "| AAAS | 9.930641   | 10.938505  | 10.942402  | 10.4394239 | 10.4130402 | 10.543410  | 10.961442  | 11.325856  | 10.549175  |\n",
       "| AACS | 9.962097   | 10.708559  | 10.543102  | 10.9052222 | 10.9156555 | 10.980563  | 10.801643  | 11.044455  | 10.864504  |\n",
       "\n"
      ],
      "text/plain": [
       "        Sample_97L_1 Sample_97L_2 Sample_97L_3 Sample_97L_P_AC_1\n",
       "A1BG    0.000000      0.000000     0.000000     0.0000000       \n",
       "A2M     3.966092      2.062618     3.740939     4.0599773       \n",
       "A3GALT2 0.000000      0.000000     0.000000     0.9854635       \n",
       "A4GALT  9.874880     10.732107    10.687444    11.1306633       \n",
       "AAAS    9.930641     10.938505    10.942402    10.4394239       \n",
       "AACS    9.962097     10.708559    10.543102    10.9052222       \n",
       "        Sample_97L_P_AC_2 Sample_97L_P_AC_3 Sample_97L_P_SRC_1\n",
       "A1BG     0.9840898         0.000000          2.053737         \n",
       "A2M      2.5583472         1.001643          4.460219         \n",
       "A3GALT2  0.0000000         0.000000          1.036046         \n",
       "A4GALT  11.1222016        11.091409         10.546899         \n",
       "AAAS    10.4130402        10.543410         10.961442         \n",
       "AACS    10.9156555        10.980563         10.801643         \n",
       "        Sample_97L_P_SRC_2 Sample_97L_P_SRC_3\n",
       "A1BG     1.174151           0.000000         \n",
       "A2M      5.126321           4.551561         \n",
       "A3GALT2  0.000000           0.000000         \n",
       "A4GALT  11.027185          10.457006         \n",
       "AAAS    11.325856          10.549175         \n",
       "AACS    11.044455          10.864504         "
      ]
     },
     "metadata": {},
     "output_type": "display_data"
    },
    {
     "name": "stdout",
     "output_type": "stream",
     "text": [
      " num [1:15406, 1:9] 0 3.97 0 9.87 9.93 ...\n",
      " - attr(*, \"dimnames\")=List of 2\n",
      "  ..$ : chr [1:15406] \"A1BG\" \"A2M\" \"A3GALT2\" \"A4GALT\" ...\n",
      "  ..$ : chr [1:9] \"Sample_97L_1\" \"Sample_97L_2\" \"Sample_97L_3\" \"Sample_97L_P_AC_1\" ...\n"
     ]
    }
   ],
   "source": [
    "# 데이터 형태\n",
    "exp = exp.log\n",
    "dim(exp)\n",
    "head(exp)\n",
    "str(exp)"
   ]
  },
  {
   "cell_type": "code",
   "execution_count": 180,
   "metadata": {},
   "outputs": [
    {
     "data": {
      "text/html": [
       "<ol class=list-inline>\n",
       "\t<li>9</li>\n",
       "\t<li>15406</li>\n",
       "</ol>\n"
      ],
      "text/latex": [
       "\\begin{enumerate*}\n",
       "\\item 9\n",
       "\\item 15406\n",
       "\\end{enumerate*}\n"
      ],
      "text/markdown": [
       "1. 9\n",
       "2. 15406\n",
       "\n",
       "\n"
      ],
      "text/plain": [
       "[1]     9 15406"
      ]
     },
     "metadata": {},
     "output_type": "display_data"
    },
    {
     "data": {
      "text/html": [
       "<table>\n",
       "<thead><tr><th></th><th scope=col>A1BG</th><th scope=col>A2M</th><th scope=col>A3GALT2</th><th scope=col>A4GALT</th><th scope=col>AAAS</th></tr></thead>\n",
       "<tbody>\n",
       "\t<tr><th scope=row>Sample_97L_1</th><td>0.0000000</td><td>3.966092 </td><td>0.0000000</td><td> 9.87488 </td><td> 9.930641</td></tr>\n",
       "\t<tr><th scope=row>Sample_97L_2</th><td>0.0000000</td><td>2.062618 </td><td>0.0000000</td><td>10.73211 </td><td>10.938505</td></tr>\n",
       "\t<tr><th scope=row>Sample_97L_3</th><td>0.0000000</td><td>3.740939 </td><td>0.0000000</td><td>10.68744 </td><td>10.942402</td></tr>\n",
       "\t<tr><th scope=row>Sample_97L_P_AC_1</th><td>0.0000000</td><td>4.059977 </td><td>0.9854635</td><td>11.13066 </td><td>10.439424</td></tr>\n",
       "\t<tr><th scope=row>Sample_97L_P_AC_2</th><td>0.9840898</td><td>2.558347 </td><td>0.0000000</td><td>11.12220 </td><td>10.413040</td></tr>\n",
       "\t<tr><th scope=row>Sample_97L_P_AC_3</th><td>0.0000000</td><td>1.001643 </td><td>0.0000000</td><td>11.09141 </td><td>10.543410</td></tr>\n",
       "\t<tr><th scope=row>Sample_97L_P_SRC_1</th><td>2.0537375</td><td>4.460219 </td><td>1.0360465</td><td>10.54690 </td><td>10.961442</td></tr>\n",
       "\t<tr><th scope=row>Sample_97L_P_SRC_2</th><td>1.1741512</td><td>5.126321 </td><td>0.0000000</td><td>11.02719 </td><td>11.325856</td></tr>\n",
       "\t<tr><th scope=row>Sample_97L_P_SRC_3</th><td>0.0000000</td><td>4.551561 </td><td>0.0000000</td><td>10.45701 </td><td>10.549175</td></tr>\n",
       "</tbody>\n",
       "</table>\n"
      ],
      "text/latex": [
       "\\begin{tabular}{r|lllll}\n",
       "  & A1BG & A2M & A3GALT2 & A4GALT & AAAS\\\\\n",
       "\\hline\n",
       "\tSample\\_97L\\_1 & 0.0000000 & 3.966092  & 0.0000000 &  9.87488  &  9.930641\\\\\n",
       "\tSample\\_97L\\_2 & 0.0000000 & 2.062618  & 0.0000000 & 10.73211  & 10.938505\\\\\n",
       "\tSample\\_97L\\_3 & 0.0000000 & 3.740939  & 0.0000000 & 10.68744  & 10.942402\\\\\n",
       "\tSample\\_97L\\_P\\_AC\\_1 & 0.0000000 & 4.059977  & 0.9854635 & 11.13066  & 10.439424\\\\\n",
       "\tSample\\_97L\\_P\\_AC\\_2 & 0.9840898 & 2.558347  & 0.0000000 & 11.12220  & 10.413040\\\\\n",
       "\tSample\\_97L\\_P\\_AC\\_3 & 0.0000000 & 1.001643  & 0.0000000 & 11.09141  & 10.543410\\\\\n",
       "\tSample\\_97L\\_P\\_SRC\\_1 & 2.0537375 & 4.460219  & 1.0360465 & 10.54690  & 10.961442\\\\\n",
       "\tSample\\_97L\\_P\\_SRC\\_2 & 1.1741512 & 5.126321  & 0.0000000 & 11.02719  & 11.325856\\\\\n",
       "\tSample\\_97L\\_P\\_SRC\\_3 & 0.0000000 & 4.551561  & 0.0000000 & 10.45701  & 10.549175\\\\\n",
       "\\end{tabular}\n"
      ],
      "text/markdown": [
       "\n",
       "| <!--/--> | A1BG | A2M | A3GALT2 | A4GALT | AAAS |\n",
       "|---|---|---|---|---|---|\n",
       "| Sample_97L_1 | 0.0000000 | 3.966092  | 0.0000000 |  9.87488  |  9.930641 |\n",
       "| Sample_97L_2 | 0.0000000 | 2.062618  | 0.0000000 | 10.73211  | 10.938505 |\n",
       "| Sample_97L_3 | 0.0000000 | 3.740939  | 0.0000000 | 10.68744  | 10.942402 |\n",
       "| Sample_97L_P_AC_1 | 0.0000000 | 4.059977  | 0.9854635 | 11.13066  | 10.439424 |\n",
       "| Sample_97L_P_AC_2 | 0.9840898 | 2.558347  | 0.0000000 | 11.12220  | 10.413040 |\n",
       "| Sample_97L_P_AC_3 | 0.0000000 | 1.001643  | 0.0000000 | 11.09141  | 10.543410 |\n",
       "| Sample_97L_P_SRC_1 | 2.0537375 | 4.460219  | 1.0360465 | 10.54690  | 10.961442 |\n",
       "| Sample_97L_P_SRC_2 | 1.1741512 | 5.126321  | 0.0000000 | 11.02719  | 11.325856 |\n",
       "| Sample_97L_P_SRC_3 | 0.0000000 | 4.551561  | 0.0000000 | 10.45701  | 10.549175 |\n",
       "\n"
      ],
      "text/plain": [
       "                   A1BG      A2M      A3GALT2   A4GALT   AAAS     \n",
       "Sample_97L_1       0.0000000 3.966092 0.0000000  9.87488  9.930641\n",
       "Sample_97L_2       0.0000000 2.062618 0.0000000 10.73211 10.938505\n",
       "Sample_97L_3       0.0000000 3.740939 0.0000000 10.68744 10.942402\n",
       "Sample_97L_P_AC_1  0.0000000 4.059977 0.9854635 11.13066 10.439424\n",
       "Sample_97L_P_AC_2  0.9840898 2.558347 0.0000000 11.12220 10.413040\n",
       "Sample_97L_P_AC_3  0.0000000 1.001643 0.0000000 11.09141 10.543410\n",
       "Sample_97L_P_SRC_1 2.0537375 4.460219 1.0360465 10.54690 10.961442\n",
       "Sample_97L_P_SRC_2 1.1741512 5.126321 0.0000000 11.02719 11.325856\n",
       "Sample_97L_P_SRC_3 0.0000000 4.551561 0.0000000 10.45701 10.549175"
      ]
     },
     "metadata": {},
     "output_type": "display_data"
    }
   ],
   "source": [
    "# distance (eucledian)\n",
    "# 현재 상태로 distance를 구하게되면 유전자들끼리의 distance값을 구하게 됨\n",
    "# 그래서 다시한번 행렬을 바꿔줘야함 \n",
    "exp.t.df = as.data.frame(t(exp))\n",
    "dim(exp.t.df)\n",
    "exp.t.df[, 1:5] # 일부 확인"
   ]
  },
  {
   "cell_type": "code",
   "execution_count": 181,
   "metadata": {},
   "outputs": [
    {
     "data": {
      "text/html": [
       "36"
      ],
      "text/latex": [
       "36"
      ],
      "text/markdown": [
       "36"
      ],
      "text/plain": [
       "[1] 36"
      ]
     },
     "metadata": {},
     "output_type": "display_data"
    },
    {
     "data": {
      "text/html": [
       "<table>\n",
       "<thead><tr><th></th><th scope=col>Sample_97L_1</th><th scope=col>Sample_97L_2</th><th scope=col>Sample_97L_3</th><th scope=col>Sample_97L_P_AC_1</th><th scope=col>Sample_97L_P_AC_2</th><th scope=col>Sample_97L_P_AC_3</th><th scope=col>Sample_97L_P_SRC_1</th><th scope=col>Sample_97L_P_SRC_2</th><th scope=col>Sample_97L_P_SRC_3</th></tr></thead>\n",
       "<tbody>\n",
       "\t<tr><th scope=row>Sample_97L_1</th><td>  0.0000 </td><td>179.93476</td><td>134.0001 </td><td>184.01326</td><td>174.02115</td><td>172.42952</td><td>195.89864</td><td>220.8017 </td><td>186.49605</td></tr>\n",
       "\t<tr><th scope=row>Sample_97L_2</th><td>179.9348 </td><td>  0.00000</td><td>112.3624 </td><td> 99.38737</td><td>105.18521</td><td>107.72696</td><td>108.41900</td><td>123.4944 </td><td>107.07445</td></tr>\n",
       "\t<tr><th scope=row>Sample_97L_3</th><td>134.0001 </td><td>112.36244</td><td>  0.0000 </td><td>128.38089</td><td>119.04042</td><td>110.59825</td><td>134.04505</td><td>143.6060 </td><td>137.07297</td></tr>\n",
       "\t<tr><th scope=row>Sample_97L_P_AC_1</th><td>184.0133 </td><td> 99.38737</td><td>128.3809 </td><td>  0.00000</td><td> 75.39422</td><td> 81.58660</td><td> 88.18490</td><td>107.5267 </td><td> 87.25853</td></tr>\n",
       "\t<tr><th scope=row>Sample_97L_P_AC_2</th><td>174.0212 </td><td>105.18521</td><td>119.0404 </td><td> 75.39422</td><td>  0.00000</td><td> 72.99954</td><td> 90.21083</td><td>107.1306 </td><td> 89.13771</td></tr>\n",
       "\t<tr><th scope=row>Sample_97L_P_AC_3</th><td>172.4295 </td><td>107.72696</td><td>110.5983 </td><td> 81.58660</td><td> 72.99954</td><td>  0.00000</td><td> 94.32017</td><td>107.2670 </td><td> 97.16882</td></tr>\n",
       "\t<tr><th scope=row>Sample_97L_P_SRC_1</th><td>195.8986 </td><td>108.41900</td><td>134.0450 </td><td> 88.18490</td><td> 90.21083</td><td> 94.32017</td><td>  0.00000</td><td> 88.9176 </td><td> 77.56454</td></tr>\n",
       "\t<tr><th scope=row>Sample_97L_P_SRC_2</th><td>220.8017 </td><td>123.49436</td><td>143.6060 </td><td>107.52669</td><td>107.13064</td><td>107.26699</td><td> 88.91760</td><td>  0.0000 </td><td>102.39055</td></tr>\n",
       "\t<tr><th scope=row>Sample_97L_P_SRC_3</th><td>186.4961 </td><td>107.07445</td><td>137.0730 </td><td> 87.25853</td><td> 89.13771</td><td> 97.16882</td><td> 77.56454</td><td>102.3906 </td><td>  0.00000</td></tr>\n",
       "</tbody>\n",
       "</table>\n"
      ],
      "text/latex": [
       "\\begin{tabular}{r|lllllllll}\n",
       "  & Sample\\_97L\\_1 & Sample\\_97L\\_2 & Sample\\_97L\\_3 & Sample\\_97L\\_P\\_AC\\_1 & Sample\\_97L\\_P\\_AC\\_2 & Sample\\_97L\\_P\\_AC\\_3 & Sample\\_97L\\_P\\_SRC\\_1 & Sample\\_97L\\_P\\_SRC\\_2 & Sample\\_97L\\_P\\_SRC\\_3\\\\\n",
       "\\hline\n",
       "\tSample\\_97L\\_1 &   0.0000  & 179.93476 & 134.0001  & 184.01326 & 174.02115 & 172.42952 & 195.89864 & 220.8017  & 186.49605\\\\\n",
       "\tSample\\_97L\\_2 & 179.9348  &   0.00000 & 112.3624  &  99.38737 & 105.18521 & 107.72696 & 108.41900 & 123.4944  & 107.07445\\\\\n",
       "\tSample\\_97L\\_3 & 134.0001  & 112.36244 &   0.0000  & 128.38089 & 119.04042 & 110.59825 & 134.04505 & 143.6060  & 137.07297\\\\\n",
       "\tSample\\_97L\\_P\\_AC\\_1 & 184.0133  &  99.38737 & 128.3809  &   0.00000 &  75.39422 &  81.58660 &  88.18490 & 107.5267  &  87.25853\\\\\n",
       "\tSample\\_97L\\_P\\_AC\\_2 & 174.0212  & 105.18521 & 119.0404  &  75.39422 &   0.00000 &  72.99954 &  90.21083 & 107.1306  &  89.13771\\\\\n",
       "\tSample\\_97L\\_P\\_AC\\_3 & 172.4295  & 107.72696 & 110.5983  &  81.58660 &  72.99954 &   0.00000 &  94.32017 & 107.2670  &  97.16882\\\\\n",
       "\tSample\\_97L\\_P\\_SRC\\_1 & 195.8986  & 108.41900 & 134.0450  &  88.18490 &  90.21083 &  94.32017 &   0.00000 &  88.9176  &  77.56454\\\\\n",
       "\tSample\\_97L\\_P\\_SRC\\_2 & 220.8017  & 123.49436 & 143.6060  & 107.52669 & 107.13064 & 107.26699 &  88.91760 &   0.0000  & 102.39055\\\\\n",
       "\tSample\\_97L\\_P\\_SRC\\_3 & 186.4961  & 107.07445 & 137.0730  &  87.25853 &  89.13771 &  97.16882 &  77.56454 & 102.3906  &   0.00000\\\\\n",
       "\\end{tabular}\n"
      ],
      "text/markdown": [
       "\n",
       "| <!--/--> | Sample_97L_1 | Sample_97L_2 | Sample_97L_3 | Sample_97L_P_AC_1 | Sample_97L_P_AC_2 | Sample_97L_P_AC_3 | Sample_97L_P_SRC_1 | Sample_97L_P_SRC_2 | Sample_97L_P_SRC_3 |\n",
       "|---|---|---|---|---|---|---|---|---|---|\n",
       "| Sample_97L_1 |   0.0000  | 179.93476 | 134.0001  | 184.01326 | 174.02115 | 172.42952 | 195.89864 | 220.8017  | 186.49605 |\n",
       "| Sample_97L_2 | 179.9348  |   0.00000 | 112.3624  |  99.38737 | 105.18521 | 107.72696 | 108.41900 | 123.4944  | 107.07445 |\n",
       "| Sample_97L_3 | 134.0001  | 112.36244 |   0.0000  | 128.38089 | 119.04042 | 110.59825 | 134.04505 | 143.6060  | 137.07297 |\n",
       "| Sample_97L_P_AC_1 | 184.0133  |  99.38737 | 128.3809  |   0.00000 |  75.39422 |  81.58660 |  88.18490 | 107.5267  |  87.25853 |\n",
       "| Sample_97L_P_AC_2 | 174.0212  | 105.18521 | 119.0404  |  75.39422 |   0.00000 |  72.99954 |  90.21083 | 107.1306  |  89.13771 |\n",
       "| Sample_97L_P_AC_3 | 172.4295  | 107.72696 | 110.5983  |  81.58660 |  72.99954 |   0.00000 |  94.32017 | 107.2670  |  97.16882 |\n",
       "| Sample_97L_P_SRC_1 | 195.8986  | 108.41900 | 134.0450  |  88.18490 |  90.21083 |  94.32017 |   0.00000 |  88.9176  |  77.56454 |\n",
       "| Sample_97L_P_SRC_2 | 220.8017  | 123.49436 | 143.6060  | 107.52669 | 107.13064 | 107.26699 |  88.91760 |   0.0000  | 102.39055 |\n",
       "| Sample_97L_P_SRC_3 | 186.4961  | 107.07445 | 137.0730  |  87.25853 |  89.13771 |  97.16882 |  77.56454 | 102.3906  |   0.00000 |\n",
       "\n"
      ],
      "text/plain": [
       "                   Sample_97L_1 Sample_97L_2 Sample_97L_3 Sample_97L_P_AC_1\n",
       "Sample_97L_1         0.0000     179.93476    134.0001     184.01326        \n",
       "Sample_97L_2       179.9348       0.00000    112.3624      99.38737        \n",
       "Sample_97L_3       134.0001     112.36244      0.0000     128.38089        \n",
       "Sample_97L_P_AC_1  184.0133      99.38737    128.3809       0.00000        \n",
       "Sample_97L_P_AC_2  174.0212     105.18521    119.0404      75.39422        \n",
       "Sample_97L_P_AC_3  172.4295     107.72696    110.5983      81.58660        \n",
       "Sample_97L_P_SRC_1 195.8986     108.41900    134.0450      88.18490        \n",
       "Sample_97L_P_SRC_2 220.8017     123.49436    143.6060     107.52669        \n",
       "Sample_97L_P_SRC_3 186.4961     107.07445    137.0730      87.25853        \n",
       "                   Sample_97L_P_AC_2 Sample_97L_P_AC_3 Sample_97L_P_SRC_1\n",
       "Sample_97L_1       174.02115         172.42952         195.89864         \n",
       "Sample_97L_2       105.18521         107.72696         108.41900         \n",
       "Sample_97L_3       119.04042         110.59825         134.04505         \n",
       "Sample_97L_P_AC_1   75.39422          81.58660          88.18490         \n",
       "Sample_97L_P_AC_2    0.00000          72.99954          90.21083         \n",
       "Sample_97L_P_AC_3   72.99954           0.00000          94.32017         \n",
       "Sample_97L_P_SRC_1  90.21083          94.32017           0.00000         \n",
       "Sample_97L_P_SRC_2 107.13064         107.26699          88.91760         \n",
       "Sample_97L_P_SRC_3  89.13771          97.16882          77.56454         \n",
       "                   Sample_97L_P_SRC_2 Sample_97L_P_SRC_3\n",
       "Sample_97L_1       220.8017           186.49605         \n",
       "Sample_97L_2       123.4944           107.07445         \n",
       "Sample_97L_3       143.6060           137.07297         \n",
       "Sample_97L_P_AC_1  107.5267            87.25853         \n",
       "Sample_97L_P_AC_2  107.1306            89.13771         \n",
       "Sample_97L_P_AC_3  107.2670            97.16882         \n",
       "Sample_97L_P_SRC_1  88.9176            77.56454         \n",
       "Sample_97L_P_SRC_2   0.0000           102.39055         \n",
       "Sample_97L_P_SRC_3 102.3906             0.00000         "
      ]
     },
     "metadata": {},
     "output_type": "display_data"
    }
   ],
   "source": [
    "# distance\n",
    "d = dist(exp.t.df)\n",
    "length(d)\n",
    "dis = as.matrix(d)\n",
    "dis"
   ]
  },
  {
   "cell_type": "code",
   "execution_count": 182,
   "metadata": {},
   "outputs": [
    {
     "data": {
      "image/png": "[encoded data removed]",
      "text/plain": [
       "Plot with title \"Linkage Clustering\""
      ]
     },
     "metadata": {},
     "output_type": "display_data"
    }
   ],
   "source": [
    "# clustering : using average linkage\n",
    "res.avg = hclust(d, method = \"average\")\n",
    "plot(res.avg, hang = -1, cex = .8, main = \"Linkage Clustering\")"
   ]
  },
  {
   "cell_type": "code",
   "execution_count": 186,
   "metadata": {},
   "outputs": [
    {
     "data": {
      "image/png": "[encoded data removed]",
      "text/plain": [
       "Plot with title \"Color Key\""
      ]
     },
     "metadata": {},
     "output_type": "display_data"
    }
   ],
   "source": [
    "# heatmap으로 확인 : complete\n",
    "col=colorRampPalette(brewer.pal(10, \"RdYlBu\"))(256)\n",
    "heatmap.2(exp.log, distfun = dist, scale = \"none\", col=rev(col), margins=c(15,10), trace = \"none\", density.info = \"none\") #linkage method (complete)\n",
    "# hclust를 통해 묶인게 heatmap.2 안에 들어가져있음 하지만 sample에 대한 순서 및 cluster가 다름\n",
    "# linkage method default값이 complete로 되어져있어 다른 형태로 나옴\n",
    "# 밑에부분에서는 method average로 만들어보쟝"
   ]
  },
  {
   "cell_type": "code",
   "execution_count": 192,
   "metadata": {},
   "outputs": [
    {
     "data": {
      "image/png": "[encoded data removed]",
      "text/plain": [
       "Plot with title \"Color Key\""
      ]
     },
     "metadata": {},
     "output_type": "display_data"
    }
   ],
   "source": [
    "# clustering method(linkage method = average)\n",
    "col_cluster = hclust(d, method = \"average\")\n",
    "heatmap.2(exp.log, distfun = dist, scale = \"none\", col = rev(col), margins = c(15, 10), trace = \"none\", density.info = \"none\", Colv = as.dendrogram(col_cluster))"
   ]
  },
  {
   "cell_type": "markdown",
   "metadata": {},
   "source": [
    "#### ExpressionSet : mset"
   ]
  },
  {
   "cell_type": "code",
   "execution_count": 193,
   "metadata": {},
   "outputs": [
    {
     "data": {
      "text/plain": [
       "ExpressionSet (storageMode: lockedEnvironment)\n",
       "assayData: 27574 features, 102 samples \n",
       "  element names: exprs \n",
       "protocolData: none\n",
       "phenoData\n",
       "  sampleNames: GSM1094712 GSM1094713 ... GSM1094813 (102 total)\n",
       "  varLabels: sample_id geo_accession sample_type\n",
       "  varMetadata: labelDescription\n",
       "featureData\n",
       "  featureNames: cg00000292 cg00002426 ... cg27665659 (27574 total)\n",
       "  fvarLabels: ID GenomeBuild ... Symbol (7 total)\n",
       "  fvarMetadata: labelDescription\n",
       "experimentData: use 'experimentData(object)'\n",
       "Annotation:  "
      ]
     },
     "metadata": {},
     "output_type": "display_data"
    }
   ],
   "source": [
    "# load normalized ExpressionSet \n",
    "load(\"C:/Users/cho ye seul/Documents/예슬/공부/KGOL/아주쉬운유전체분석-실습(2019)/week4/mset.rda\")\n",
    "mset"
   ]
  },
  {
   "cell_type": "code",
   "execution_count": 198,
   "metadata": {},
   "outputs": [
    {
     "data": {
      "text/html": [
       "<dl class=dl-horizontal>\n",
       "\t<dt>Features</dt>\n",
       "\t\t<dd>27574</dd>\n",
       "\t<dt>Samples</dt>\n",
       "\t\t<dd>102</dd>\n",
       "</dl>\n"
      ],
      "text/latex": [
       "\\begin{description*}\n",
       "\\item[Features] 27574\n",
       "\\item[Samples] 102\n",
       "\\end{description*}\n"
      ],
      "text/markdown": [
       "Features\n",
       ":   27574Samples\n",
       ":   102\n",
       "\n"
      ],
      "text/plain": [
       "Features  Samples \n",
       "   27574      102 "
      ]
     },
     "metadata": {},
     "output_type": "display_data"
    },
    {
     "data": {
      "text/plain": [
       "ExpressionSet (storageMode: lockedEnvironment)\n",
       "assayData: 1 features, 102 samples \n",
       "  element names: exprs \n",
       "protocolData: none\n",
       "phenoData\n",
       "  sampleNames: GSM1094712 GSM1094713 ... GSM1094813 (102 total)\n",
       "  varLabels: sample_id geo_accession sample_type\n",
       "  varMetadata: labelDescription\n",
       "featureData\n",
       "  featureNames: cg00000292\n",
       "  fvarLabels: ID GenomeBuild ... Symbol (7 total)\n",
       "  fvarMetadata: labelDescription\n",
       "experimentData: use 'experimentData(object)'\n",
       "Annotation:  "
      ]
     },
     "metadata": {},
     "output_type": "display_data"
    }
   ],
   "source": [
    "# distance (eucledian)\n",
    "m.exp = exprs(mset) # features : probe 단위로 이루어져 있음 \n",
    "dim(mset)\n",
    "head(mset)"
   ]
  },
  {
   "cell_type": "code",
   "execution_count": 199,
   "metadata": {},
   "outputs": [
    {
     "data": {
      "text/html": [
       "<ol class=list-inline>\n",
       "\t<li>102</li>\n",
       "\t<li>27574</li>\n",
       "</ol>\n"
      ],
      "text/latex": [
       "\\begin{enumerate*}\n",
       "\\item 102\n",
       "\\item 27574\n",
       "\\end{enumerate*}\n"
      ],
      "text/markdown": [
       "1. 102\n",
       "2. 27574\n",
       "\n",
       "\n"
      ],
      "text/plain": [
       "[1]   102 27574"
      ]
     },
     "metadata": {},
     "output_type": "display_data"
    },
    {
     "data": {
      "text/html": [
       "<table>\n",
       "<thead><tr><th></th><th scope=col>cg00000292</th><th scope=col>cg00002426</th><th scope=col>cg00003994</th><th scope=col>cg00005847</th><th scope=col>cg00006414</th></tr></thead>\n",
       "<tbody>\n",
       "\t<tr><th scope=row>GSM1094712</th><td>0.6430991 </td><td>0.3286876 </td><td>0.14259820</td><td>0.2509158 </td><td>0.07263885</td></tr>\n",
       "\t<tr><th scope=row>GSM1094713</th><td>0.7428286 </td><td>0.7513210 </td><td>0.08799821</td><td>0.2241229 </td><td>0.09259510</td></tr>\n",
       "\t<tr><th scope=row>GSM1094714</th><td>0.6314446 </td><td>0.4494186 </td><td>0.17654420</td><td>0.2431118 </td><td>0.15388150</td></tr>\n",
       "\t<tr><th scope=row>GSM1094715</th><td>0.6582734 </td><td>0.6059219 </td><td>0.12513140</td><td>0.2126897 </td><td>0.13026920</td></tr>\n",
       "\t<tr><th scope=row>GSM1094716</th><td>0.5691917 </td><td>0.4154620 </td><td>0.19333590</td><td>0.3170569 </td><td>0.24343860</td></tr>\n",
       "</tbody>\n",
       "</table>\n"
      ],
      "text/latex": [
       "\\begin{tabular}{r|lllll}\n",
       "  & cg00000292 & cg00002426 & cg00003994 & cg00005847 & cg00006414\\\\\n",
       "\\hline\n",
       "\tGSM1094712 & 0.6430991  & 0.3286876  & 0.14259820 & 0.2509158  & 0.07263885\\\\\n",
       "\tGSM1094713 & 0.7428286  & 0.7513210  & 0.08799821 & 0.2241229  & 0.09259510\\\\\n",
       "\tGSM1094714 & 0.6314446  & 0.4494186  & 0.17654420 & 0.2431118  & 0.15388150\\\\\n",
       "\tGSM1094715 & 0.6582734  & 0.6059219  & 0.12513140 & 0.2126897  & 0.13026920\\\\\n",
       "\tGSM1094716 & 0.5691917  & 0.4154620  & 0.19333590 & 0.3170569  & 0.24343860\\\\\n",
       "\\end{tabular}\n"
      ],
      "text/markdown": [
       "\n",
       "| <!--/--> | cg00000292 | cg00002426 | cg00003994 | cg00005847 | cg00006414 |\n",
       "|---|---|---|---|---|---|\n",
       "| GSM1094712 | 0.6430991  | 0.3286876  | 0.14259820 | 0.2509158  | 0.07263885 |\n",
       "| GSM1094713 | 0.7428286  | 0.7513210  | 0.08799821 | 0.2241229  | 0.09259510 |\n",
       "| GSM1094714 | 0.6314446  | 0.4494186  | 0.17654420 | 0.2431118  | 0.15388150 |\n",
       "| GSM1094715 | 0.6582734  | 0.6059219  | 0.12513140 | 0.2126897  | 0.13026920 |\n",
       "| GSM1094716 | 0.5691917  | 0.4154620  | 0.19333590 | 0.3170569  | 0.24343860 |\n",
       "\n"
      ],
      "text/plain": [
       "           cg00000292 cg00002426 cg00003994 cg00005847 cg00006414\n",
       "GSM1094712 0.6430991  0.3286876  0.14259820 0.2509158  0.07263885\n",
       "GSM1094713 0.7428286  0.7513210  0.08799821 0.2241229  0.09259510\n",
       "GSM1094714 0.6314446  0.4494186  0.17654420 0.2431118  0.15388150\n",
       "GSM1094715 0.6582734  0.6059219  0.12513140 0.2126897  0.13026920\n",
       "GSM1094716 0.5691917  0.4154620  0.19333590 0.3170569  0.24343860"
      ]
     },
     "metadata": {},
     "output_type": "display_data"
    }
   ],
   "source": [
    "# t : returns the transpose of x\n",
    "m.exp.df = as.data.frame(t(m.exp))\n",
    "dim(m.exp.df)\n",
    "m.exp.df[1:5, 1:5]"
   ]
  },
  {
   "cell_type": "code",
   "execution_count": 201,
   "metadata": {},
   "outputs": [
    {
     "data": {
      "text/html": [
       "<ol class=list-inline>\n",
       "\t<li>102</li>\n",
       "\t<li>102</li>\n",
       "</ol>\n"
      ],
      "text/latex": [
       "\\begin{enumerate*}\n",
       "\\item 102\n",
       "\\item 102\n",
       "\\end{enumerate*}\n"
      ],
      "text/markdown": [
       "1. 102\n",
       "2. 102\n",
       "\n",
       "\n"
      ],
      "text/plain": [
       "[1] 102 102"
      ]
     },
     "metadata": {},
     "output_type": "display_data"
    },
    {
     "data": {
      "text/html": [
       "<table>\n",
       "<thead><tr><th></th><th scope=col>GSM1094712</th><th scope=col>GSM1094713</th><th scope=col>GSM1094714</th><th scope=col>GSM1094715</th><th scope=col>GSM1094716</th><th scope=col>GSM1094717</th><th scope=col>GSM1094718</th><th scope=col>GSM1094719</th><th scope=col>GSM1094720</th><th scope=col>GSM1094721</th><th scope=col>...</th><th scope=col>GSM1094804</th><th scope=col>GSM1094805</th><th scope=col>GSM1094806</th><th scope=col>GSM1094807</th><th scope=col>GSM1094808</th><th scope=col>GSM1094809</th><th scope=col>GSM1094810</th><th scope=col>GSM1094811</th><th scope=col>GSM1094812</th><th scope=col>GSM1094813</th></tr></thead>\n",
       "<tbody>\n",
       "\t<tr><th scope=row>GSM1094712</th><td> 0.00000 </td><td>24.79973 </td><td>14.590843</td><td>17.193961</td><td>13.70093 </td><td>21.35865 </td><td>29.88716 </td><td>23.25780 </td><td>16.165649</td><td>18.40981 </td><td>...      </td><td>13.742722</td><td>11.52351 </td><td>16.08005 </td><td>12.63063 </td><td>22.06692 </td><td>37.35515 </td><td>15.48577 </td><td>45.70312 </td><td>15.66817 </td><td>39.89724 </td></tr>\n",
       "\t<tr><th scope=row>GSM1094713</th><td>24.79973 </td><td> 0.00000 </td><td>17.919131</td><td>12.361056</td><td>21.04852 </td><td>21.22434 </td><td>31.78882 </td><td>23.86350 </td><td>14.315811</td><td>18.01081 </td><td>...      </td><td>19.617187</td><td>21.93667 </td><td>19.38052 </td><td>21.08369 </td><td>22.28788 </td><td>35.95172 </td><td>21.33431 </td><td>46.29818 </td><td>21.24150 </td><td>38.00331 </td></tr>\n",
       "\t<tr><th scope=row>GSM1094714</th><td>14.59084 </td><td>17.91913 </td><td> 0.000000</td><td> 9.809064</td><td>11.27278 </td><td>17.94213 </td><td>27.37151 </td><td>20.77104 </td><td>11.181283</td><td>14.57123 </td><td>...      </td><td> 9.958047</td><td>14.11172 </td><td>13.51689 </td><td>13.70960 </td><td>18.42188 </td><td>34.47188 </td><td>14.44224 </td><td>42.57654 </td><td>12.30108 </td><td>37.29008 </td></tr>\n",
       "\t<tr><th scope=row>GSM1094715</th><td>17.19396 </td><td>12.36106 </td><td> 9.809064</td><td> 0.000000</td><td>14.86889 </td><td>18.96882 </td><td>29.91429 </td><td>22.08002 </td><td> 9.848601</td><td>13.57708 </td><td>...      </td><td>12.052433</td><td>15.72268 </td><td>13.81960 </td><td>15.25676 </td><td>20.04363 </td><td>35.77165 </td><td>16.28391 </td><td>45.35656 </td><td>14.40352 </td><td>38.29415 </td></tr>\n",
       "\t<tr><th scope=row>GSM1094716</th><td>13.70093 </td><td>21.04852 </td><td>11.272777</td><td>14.868894</td><td> 0.00000 </td><td>15.96452 </td><td>27.50091 </td><td>20.18649 </td><td>10.808442</td><td>14.22189 </td><td>...      </td><td>14.147202</td><td>14.10603 </td><td>17.20370 </td><td>13.60742 </td><td>18.94116 </td><td>34.20783 </td><td>13.67661 </td><td>42.35340 </td><td>15.90792 </td><td>36.92238 </td></tr>\n",
       "\t<tr><th scope=row>GSM1094717</th><td>21.35865 </td><td>21.22434 </td><td>17.942129</td><td>18.968817</td><td>15.96452 </td><td> 0.00000 </td><td>27.35622 </td><td>21.27000 </td><td>16.076158</td><td>18.26264 </td><td>...      </td><td>19.716429</td><td>19.96113 </td><td>21.28632 </td><td>19.07091 </td><td>17.71732 </td><td>32.40966 </td><td>18.80784 </td><td>41.18097 </td><td>21.02554 </td><td>33.98399 </td></tr>\n",
       "</tbody>\n",
       "</table>\n"
      ],
      "text/latex": [
       "\\begin{tabular}{r|llllllllllllllllllllllllllllllllllllllllllllllllllllllllllllllllllllllllllllllllllllllllllllllllllllll}\n",
       "  & GSM1094712 & GSM1094713 & GSM1094714 & GSM1094715 & GSM1094716 & GSM1094717 & GSM1094718 & GSM1094719 & GSM1094720 & GSM1094721 & ... & GSM1094804 & GSM1094805 & GSM1094806 & GSM1094807 & GSM1094808 & GSM1094809 & GSM1094810 & GSM1094811 & GSM1094812 & GSM1094813\\\\\n",
       "\\hline\n",
       "\tGSM1094712 &  0.00000  & 24.79973  & 14.590843 & 17.193961 & 13.70093  & 21.35865  & 29.88716  & 23.25780  & 16.165649 & 18.40981  & ...       & 13.742722 & 11.52351  & 16.08005  & 12.63063  & 22.06692  & 37.35515  & 15.48577  & 45.70312  & 15.66817  & 39.89724 \\\\\n",
       "\tGSM1094713 & 24.79973  &  0.00000  & 17.919131 & 12.361056 & 21.04852  & 21.22434  & 31.78882  & 23.86350  & 14.315811 & 18.01081  & ...       & 19.617187 & 21.93667  & 19.38052  & 21.08369  & 22.28788  & 35.95172  & 21.33431  & 46.29818  & 21.24150  & 38.00331 \\\\\n",
       "\tGSM1094714 & 14.59084  & 17.91913  &  0.000000 &  9.809064 & 11.27278  & 17.94213  & 27.37151  & 20.77104  & 11.181283 & 14.57123  & ...       &  9.958047 & 14.11172  & 13.51689  & 13.70960  & 18.42188  & 34.47188  & 14.44224  & 42.57654  & 12.30108  & 37.29008 \\\\\n",
       "\tGSM1094715 & 17.19396  & 12.36106  &  9.809064 &  0.000000 & 14.86889  & 18.96882  & 29.91429  & 22.08002  &  9.848601 & 13.57708  & ...       & 12.052433 & 15.72268  & 13.81960  & 15.25676  & 20.04363  & 35.77165  & 16.28391  & 45.35656  & 14.40352  & 38.29415 \\\\\n",
       "\tGSM1094716 & 13.70093  & 21.04852  & 11.272777 & 14.868894 &  0.00000  & 15.96452  & 27.50091  & 20.18649  & 10.808442 & 14.22189  & ...       & 14.147202 & 14.10603  & 17.20370  & 13.60742  & 18.94116  & 34.20783  & 13.67661  & 42.35340  & 15.90792  & 36.92238 \\\\\n",
       "\tGSM1094717 & 21.35865  & 21.22434  & 17.942129 & 18.968817 & 15.96452  &  0.00000  & 27.35622  & 21.27000  & 16.076158 & 18.26264  & ...       & 19.716429 & 19.96113  & 21.28632  & 19.07091  & 17.71732  & 32.40966  & 18.80784  & 41.18097  & 21.02554  & 33.98399 \\\\\n",
       "\\end{tabular}\n"
      ],
      "text/markdown": [
       "\n",
       "| <!--/--> | GSM1094712 | GSM1094713 | GSM1094714 | GSM1094715 | GSM1094716 | GSM1094717 | GSM1094718 | GSM1094719 | GSM1094720 | GSM1094721 | ... | GSM1094804 | GSM1094805 | GSM1094806 | GSM1094807 | GSM1094808 | GSM1094809 | GSM1094810 | GSM1094811 | GSM1094812 | GSM1094813 |\n",
       "|---|---|---|---|---|---|---|---|---|---|---|---|---|---|---|---|---|---|---|---|---|---|\n",
       "| GSM1094712 |  0.00000  | 24.79973  | 14.590843 | 17.193961 | 13.70093  | 21.35865  | 29.88716  | 23.25780  | 16.165649 | 18.40981  | ...       | 13.742722 | 11.52351  | 16.08005  | 12.63063  | 22.06692  | 37.35515  | 15.48577  | 45.70312  | 15.66817  | 39.89724  |\n",
       "| GSM1094713 | 24.79973  |  0.00000  | 17.919131 | 12.361056 | 21.04852  | 21.22434  | 31.78882  | 23.86350  | 14.315811 | 18.01081  | ...       | 19.617187 | 21.93667  | 19.38052  | 21.08369  | 22.28788  | 35.95172  | 21.33431  | 46.29818  | 21.24150  | 38.00331  |\n",
       "| GSM1094714 | 14.59084  | 17.91913  |  0.000000 |  9.809064 | 11.27278  | 17.94213  | 27.37151  | 20.77104  | 11.181283 | 14.57123  | ...       |  9.958047 | 14.11172  | 13.51689  | 13.70960  | 18.42188  | 34.47188  | 14.44224  | 42.57654  | 12.30108  | 37.29008  |\n",
       "| GSM1094715 | 17.19396  | 12.36106  |  9.809064 |  0.000000 | 14.86889  | 18.96882  | 29.91429  | 22.08002  |  9.848601 | 13.57708  | ...       | 12.052433 | 15.72268  | 13.81960  | 15.25676  | 20.04363  | 35.77165  | 16.28391  | 45.35656  | 14.40352  | 38.29415  |\n",
       "| GSM1094716 | 13.70093  | 21.04852  | 11.272777 | 14.868894 |  0.00000  | 15.96452  | 27.50091  | 20.18649  | 10.808442 | 14.22189  | ...       | 14.147202 | 14.10603  | 17.20370  | 13.60742  | 18.94116  | 34.20783  | 13.67661  | 42.35340  | 15.90792  | 36.92238  |\n",
       "| GSM1094717 | 21.35865  | 21.22434  | 17.942129 | 18.968817 | 15.96452  |  0.00000  | 27.35622  | 21.27000  | 16.076158 | 18.26264  | ...       | 19.716429 | 19.96113  | 21.28632  | 19.07091  | 17.71732  | 32.40966  | 18.80784  | 41.18097  | 21.02554  | 33.98399  |\n",
       "\n"
      ],
      "text/plain": [
       "           GSM1094712 GSM1094713 GSM1094714 GSM1094715 GSM1094716 GSM1094717\n",
       "GSM1094712  0.00000   24.79973   14.590843  17.193961  13.70093   21.35865  \n",
       "GSM1094713 24.79973    0.00000   17.919131  12.361056  21.04852   21.22434  \n",
       "GSM1094714 14.59084   17.91913    0.000000   9.809064  11.27278   17.94213  \n",
       "GSM1094715 17.19396   12.36106    9.809064   0.000000  14.86889   18.96882  \n",
       "GSM1094716 13.70093   21.04852   11.272777  14.868894   0.00000   15.96452  \n",
       "GSM1094717 21.35865   21.22434   17.942129  18.968817  15.96452    0.00000  \n",
       "           GSM1094718 GSM1094719 GSM1094720 GSM1094721 ... GSM1094804\n",
       "GSM1094712 29.88716   23.25780   16.165649  18.40981   ... 13.742722 \n",
       "GSM1094713 31.78882   23.86350   14.315811  18.01081   ... 19.617187 \n",
       "GSM1094714 27.37151   20.77104   11.181283  14.57123   ...  9.958047 \n",
       "GSM1094715 29.91429   22.08002    9.848601  13.57708   ... 12.052433 \n",
       "GSM1094716 27.50091   20.18649   10.808442  14.22189   ... 14.147202 \n",
       "GSM1094717 27.35622   21.27000   16.076158  18.26264   ... 19.716429 \n",
       "           GSM1094805 GSM1094806 GSM1094807 GSM1094808 GSM1094809 GSM1094810\n",
       "GSM1094712 11.52351   16.08005   12.63063   22.06692   37.35515   15.48577  \n",
       "GSM1094713 21.93667   19.38052   21.08369   22.28788   35.95172   21.33431  \n",
       "GSM1094714 14.11172   13.51689   13.70960   18.42188   34.47188   14.44224  \n",
       "GSM1094715 15.72268   13.81960   15.25676   20.04363   35.77165   16.28391  \n",
       "GSM1094716 14.10603   17.20370   13.60742   18.94116   34.20783   13.67661  \n",
       "GSM1094717 19.96113   21.28632   19.07091   17.71732   32.40966   18.80784  \n",
       "           GSM1094811 GSM1094812 GSM1094813\n",
       "GSM1094712 45.70312   15.66817   39.89724  \n",
       "GSM1094713 46.29818   21.24150   38.00331  \n",
       "GSM1094714 42.57654   12.30108   37.29008  \n",
       "GSM1094715 45.35656   14.40352   38.29415  \n",
       "GSM1094716 42.35340   15.90792   36.92238  \n",
       "GSM1094717 41.18097   21.02554   33.98399  "
      ]
     },
     "metadata": {},
     "output_type": "display_data"
    }
   ],
   "source": [
    "# 변형된 dataframe으로 distance 구하기\n",
    "md = dist(m.exp.df)\n",
    "m.dis = as.matrix(md)\n",
    "dim(m.dis)\n",
    "head(m.dis)"
   ]
  },
  {
   "cell_type": "code",
   "execution_count": 203,
   "metadata": {},
   "outputs": [
    {
     "data": {
      "image/png": "[encoded data removed]",
      "text/plain": [
       "Plot with title \"Linkage Clustering\""
      ]
     },
     "metadata": {},
     "output_type": "display_data"
    }
   ],
   "source": [
    "## differences between linkage methods\n",
    "# average\n",
    "m.res.avg = hclust(md, method = \"average\")\n",
    "plot(m.res.avg, hang = -1, cex = .8, main = \"Linkage Clustering\")\n",
    "# 끼리끼리 묶여져있는 패턴을 볼 수 있음 "
   ]
  },
  {
   "cell_type": "code",
   "execution_count": 204,
   "metadata": {},
   "outputs": [
    {
     "data": {
      "image/png": "[encoded data removed]",
      "text/plain": [
       "Plot with title \"Linkage Clustering\""
      ]
     },
     "metadata": {},
     "output_type": "display_data"
    }
   ],
   "source": [
    "## differences between linkage methods\n",
    "# single\n",
    "m.res.sig = hclust(md, method = \"single\")\n",
    "plot(m.res.sig, hang = -1, cex = .8, main = \"Linkage Clustering\")\n",
    "# single linkage에서는 chanin effect가 자주 나타남\n",
    "# chain effect : 짧고 길게 나타나는 현상"
   ]
  },
  {
   "cell_type": "code",
   "execution_count": 205,
   "metadata": {},
   "outputs": [
    {
     "data": {
      "image/png": "[encoded data removed]",
      "text/plain": [
       "Plot with title \"Linkage Clustering\""
      ]
     },
     "metadata": {},
     "output_type": "display_data"
    }
   ],
   "source": [
    "## differences between linkage methods\n",
    "# complete\n",
    "m.res.com = hclust(md, method = \"complete\")\n",
    "plot(m.res.com, hang = -1, cex = .8, main = \"Linkage Clustering\")"
   ]
  },
  {
   "cell_type": "markdown",
   "metadata": {},
   "source": [
    "    샘플 수가 많은 경우 clustering method를 어떤것을 사용하느냐에 따라 linkage 형태가 많이 달라짐\n",
    "    대부분 average 사용 "
   ]
  }
 ],
 "metadata": {
  "kernelspec": {
   "display_name": "R",
   "language": "R",
   "name": "ir"
  },
  "language_info": {
   "codemirror_mode": "r",
   "file_extension": ".r",
   "mimetype": "text/x-r-source",
   "name": "R",
   "pygments_lexer": "r",
   "version": "3.6.1"
  }
 },
 "nbformat": 4,
 "nbformat_minor": 2
}
