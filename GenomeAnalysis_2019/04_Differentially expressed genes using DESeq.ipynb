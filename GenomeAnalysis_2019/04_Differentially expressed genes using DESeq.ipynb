{
 "cells": [
  {
   "cell_type": "markdown",
   "metadata": {},
   "source": [
    "## 아주쉬운 유전체 분석 - 실습편(2019)\n",
    "\n",
    "    작성일자 : 2020/05/26\n",
    "    작성자 : 조예슬\n",
    "\n",
    "    강의 : 제 11강\n",
    "           Differentially expressed genes using DESeq (아주대 지별아) - 1. Data analysis 이론 설명\n",
    "           \n",
    "           제 12강\n",
    "           Differentially expressed genes using DESeq (아주대 지별아) - 2. DESeq 실습 - 1\n",
    "           \n",
    "           제 13강\n",
    "           Differentially expressed genes using DESeq (아주대 지별아) - 2. DESeq 실습 - 2           "
   ]
  },
  {
   "cell_type": "markdown",
   "metadata": {},
   "source": [
    "### Genomic data analysis\n",
    "    - Permutation Test\n",
    "    - Multiple Testing\n",
    "    - FDR(False Discovery Rate)\n",
    "    - DESeq"
   ]
  },
  {
   "cell_type": "markdown",
   "metadata": {},
   "source": [
    "#### Permutation Test\n",
    "    : 측정된 dataset에서 무작위로 샘플을 생성해서 p-value를 계산하는 방법\n",
    "    1) 주어진 데이터의 샘플을 무작위로 추출함\n",
    "    2) 원래 주어진 샘플의 통계값이 무작위 추출된 통계값과 비교하여 차이 나는지를 검정하는 방법"
   ]
  },
  {
   "cell_type": "code",
   "execution_count": 1,
   "metadata": {},
   "outputs": [
    {
     "name": "stderr",
     "output_type": "stream",
     "text": [
      "Warning message:\n",
      "\"package 'coin' was built under R version 3.6.3\"Loading required package: survival\n",
      "Warning message:\n",
      "\"package 'survival' was built under R version 3.6.3\"Warning message:\n",
      "\"package 'perm' was built under R version 3.6.3\""
     ]
    }
   ],
   "source": [
    "library(coin)\n",
    "library(perm)"
   ]
  },
  {
   "cell_type": "code",
   "execution_count": 2,
   "metadata": {},
   "outputs": [
    {
     "data": {
      "text/plain": [
       "\n",
       "\tExact Permutation Test Estimated by Monte Carlo\n",
       "\n",
       "data:  data by group\n",
       "p-value = 0.01\n",
       "alternative hypothesis: true mean group=A - mean group=B is greater than 0\n",
       "sample estimates:\n",
       "mean group=A - mean group=B \n",
       "                       6.34 \n",
       "\n",
       "p-value estimated from 999 Monte Carlo replications\n",
       "99 percent confidence interval on p-value:\n",
       " 0.003143207 0.019908417 "
      ]
     },
     "metadata": {},
     "output_type": "display_data"
    }
   ],
   "source": [
    "## Permutation Test 예시\n",
    "# A group(control), B group(treatment)\n",
    "# Mean of A group 11.7 / Mean of B group 5.36 / Diff 6.34\n",
    "x1 = c(7.5, 19, 11.5, 19, 15, 15.5, 4.5, 11.5, 4.5, 9)\n",
    "y1 = c(11.1, 1, 7.5, 4.5, 4.5, 15.5, 2, 4.5, 2, 1)\n",
    "\n",
    "data = c(x1, y1)\n",
    "group = factor(rep(c(\"A\", \"B\"), c(length(x1), length(y1))))\n",
    "\n",
    "# permTS : 실제적으로 구동되는 함수\n",
    "permTS(data ~ group, alternative = \"greater\", method = \"exact.mc\")\n",
    "# 999번 실행하게 됨, 얘보다 큰 값이 8개 이므로 p-value = 8/999 = 0.008 의 값이 나오게 됨"
   ]
  },
  {
   "cell_type": "markdown",
   "metadata": {},
   "source": [
    "#### Multiple Testing : FDR\n",
    "    P-value를 보정해주는 과정\n",
    "    FWER(Family-wise Error Rate)과 FDR(False Discovery Rate)로 나눠짐\n",
    "    \n",
    "    유전자 데이터의 경우 표본 수(샘플)에 비해 유전자의 개수가 매우 많음\n",
    "    이런 유전자 중, 어느 것이 질병과 관련 있는지 알아보는데 유전자의 수만큼이나 많은 수의 통계적 검정을 동반함\n",
    "    많은 수의 통계적 검정작업을 수행할수록, False positive일 가능성이 커짐\n",
    "    즉, type 1 error가 증가함\n",
    "    \n",
    "    type 1 error : 우연에 의한 효과가 실제 효과라고 잘못 결론 내리는 것\n",
    "    \n",
    "    예를 들어,\n",
    "    어떤 유전자가 특정 약물에 관련성이 있는지 확인하기 위해 유전자 5만개와 약물과의 통계분석을 수행하게 되면, 문제는 5%의 확률로 잘못된 결과를 내놓기 때문에 5만의 5%, 즉 2,500개의 유전자가 약물과는 연관성이 전혀 없으면서도 관련이 있다고 나올 확률이 발생하게 됨\n",
    "    \n",
    "##### Bonferroni correction 방법\n",
    "    P-value/analysis(시행한 수) -> 0.005/50000 -> 0.000001\n",
    "    Big data의 경우 이 방법을 시행하면 p-value cut off는 매우 작게되고, true positive를 발견하지 못하게 되는 type 2 error가 커진다\n",
    "    \n",
    "    type 2 error : 실제 효과를 우연에 의한 효과라고 잘못 결론 내리는 것\n",
    "    \n",
    "    FDR(False Discovery Rate) = False positive/total positive(false positive + true positive)\n",
    "    FDR 방법은 analysis 숫자가 증가해도 bonferroni에 비해 p-value의 감속 속도가 완만해서 true positive를 놓치는 비율이 낮은 장점이 있음\n",
    "    "
   ]
  },
  {
   "cell_type": "markdown",
   "metadata": {},
   "source": [
    "##### Inputs\n",
    "    * FAST file\n",
    "    - It is a text-based format for representing either nucleotide sequences or peptide sequences, in which nucleotides or amino acids are represented using single-letter codes\n",
    "    - 염기서열(A, T, G, C)이 쭉 늘어져 있는 것\n",
    "    \n",
    "    * FASTQ file\n",
    "    - Text files containing sequencing data with quality(Phred) score for base, represented as an ASCⅡ character\n",
    "    - 염기서열의 quality가 들어가 있는 것\n",
    "    - There are always four lines per read\n",
    "        The first line starts with '@', followed by the label\n",
    "        The second line contains sequences\n",
    "        The third line starts with '+'\n",
    "        The fourth line contains the Q scores represented as ASCⅡ characters\n",
    "    \n",
    "    * Process\n",
    "    - Sequencing data -> Read QC -> Alignment -> Expression quantification\n",
    "    - Sequencing data : FASTQ format\n",
    "    - Read QC(Quality Control) : Quality score가 있기에 수행\n",
    "    - Alignment : reference genome의 맞는 부분에 read들이 달라 붙음\n",
    "    - Expression quantification\n",
    "        : 각 유전자 단위 transcript마다 발현이 얼마나 됐는지 expression data를 quantification\n",
    "        : There are two main was of measuring the expression of a gene, or transcript, or whatever, in RNA-seq data\n",
    "        : Counts\n",
    "            : simply the number of reads overlapping a given feature such as a gene\n",
    "            : 유전자에 read들이 붙은 수 자체\n",
    "        : FPKMs(Fragments Per Kilobase of transcripts per Million reads)\n",
    "            : much more complicated.\n",
    "              Fragment means fragment of DNA, so the two reads that comprise a paired-end read count as one.\n",
    "              Per kilobase of exon means the counts of fragments are then normalized by dividing by the total length of all exons in the gene (or transcript).\n",
    "              This bit of magic makes it possible to compare Gene A to Gene B even if they are of different lengths.\n",
    "              Per million reads means this value is then normalized against the library size.\n",
    "            : count숫자를 gene length마다 보정, 전체 total mapping이 된 sequence수로 나눠주는 방식, 보정이 들어간 형태\n",
    "    "
   ]
  },
  {
   "cell_type": "markdown",
   "metadata": {},
   "source": [
    "##### Gene expression analysis\n",
    "\n",
    "    ---------------------------------------------------------------------------------------\n",
    "      software       normalization      Need Replicas          input              URL\n",
    "    ---------------------------------------------------------------------------------------\n",
    "       EdegR      Library Size / TMM         YES             Raw Counts      Bioconductor\n",
    "       DESeq          Library Size           NO              Raw Counts      Bioconductor\n",
    "       BaySeq         Library Size           YES             Raw Counts      Bioconductor\n",
    "       NOISeq     Library Size/RPKM          NO               Raw or         Bioconductor\n",
    "                        /UpperQ                          Normalized Counts\n",
    "    ---------------------------------------------------------------------------------------"
   ]
  },
  {
   "cell_type": "markdown",
   "metadata": {},
   "source": [
    "#### DESeq\n",
    "\n",
    "    1. The count table\n",
    "    The count values must be raw counts of sequencing reads.\n",
    "    To obtain such a count table for your own data\n",
    "    - summarizeOverlaps in the GenomicRanges package\n",
    "    - Another possibility is provided by the Bioconductor package easyRNASeq\n",
    "    - use the htseq-count scipt distributed with the HTSeq Python package.\n",
    "\n",
    "        1) The count table\n",
    "        : DESeq 예제 7개 데이터 존재, count 정수로 떨어져있음\n",
    "\n",
    "        2) The metadata\n",
    "        : 정보를 가지고 있는 data\n",
    "\n",
    "        3) Normalisation\n",
    "        : 많은 read가 읽힌 sample 보정 해주기\n",
    "        : At a first processing step, we need to estimate the effective library size.\n",
    "          The effective library size information is called the size factors vector, since the package only needs to know the relative library sizes.\n",
    "          The function estimateSizeFactors estimates the size factors from the count data.\n",
    "\n",
    "        4) Variance estimation\n",
    "        : The inference in DESeq relies on an estimation of the typical relationship between the data's variance and their mean, or, equivalently, between the data's dispersion and their mean.\n",
    "          The dispersion can be understood as the square of the coefficient of biological variation.\n",
    "          So, if a gene's expression typically differs from replicate to replicate sample by 20%, this gene's dispersion is 0.2^2 = 0.04\n",
    "          (replicat 사이에 20% 차이가 있으면 -> 0.2, dispersion은 0.2의 제곱으로 0.04)\n",
    "\n",
    "        5) Calling differential expression\n",
    "        : The interpretation of the columns of data.frame is as follows\n",
    "            Id : feature identifer\n",
    "            baseMean : mean normalised counts, averaged over all samples from both conditions\n",
    "            baseMeanA : mean normalised counts from conditon A\n",
    "            baseMeanB : mean normalised counts from condition B\n",
    "            foldChange : fold change from condition A to B (A와 B의 차이값)\n",
    "            log2FoldChange : the logarithm (to basis 2) of the fold change\n",
    "            pval : p value for the statistical signicance of this change (차이값이 통계적으로 얼마나 유의한지)\n",
    "            padj : p value adjusted for multiple testing with the Genjamini-Hochberg procedure (see the R function p.adjust), which controls false discovery rate (FDR)"
   ]
  },
  {
   "cell_type": "code",
   "execution_count": 4,
   "metadata": {},
   "outputs": [],
   "source": [
    "library(DESeq)\n",
    "library(\"RColorBrewer\")\n",
    "library(\"gplots\")\n",
    "library(\"pheatmap\")"
   ]
  },
  {
   "cell_type": "code",
   "execution_count": 24,
   "metadata": {
    "scrolled": true
   },
   "outputs": [
    {
     "data": {
      "text/plain": [
       "ExpressionSet (storageMode: lockedEnvironment)\n",
       "assayData: 20030 features, 9 samples \n",
       "  element names: exprs \n",
       "protocolData: none\n",
       "phenoData\n",
       "  sampleNames: Sample_97L_1 Sample_97L_2 ... Sample_97L_P_SRC_3 (9\n",
       "    total)\n",
       "  varLabels: SID GEO_accession ... Treatment (7 total)\n",
       "  varMetadata: labelDescription\n",
       "featureData\n",
       "  featureNames: A1BG A1CF ... ZZZ3 (20030 total)\n",
       "  fvarLabels: gene_id Dbxref product\n",
       "  fvarMetadata: labelDescription\n",
       "experimentData: use 'experimentData(object)'\n",
       "Annotation:  "
      ]
     },
     "metadata": {},
     "output_type": "display_data"
    },
    {
     "data": {
      "text/html": [
       "<table>\n",
       "<thead><tr><th></th><th scope=col>Sample_97L_1</th><th scope=col>Sample_97L_2</th><th scope=col>Sample_97L_3</th><th scope=col>Sample_97L_P_AC_1</th><th scope=col>Sample_97L_P_AC_2</th><th scope=col>Sample_97L_P_AC_3</th><th scope=col>Sample_97L_P_SRC_1</th><th scope=col>Sample_97L_P_SRC_2</th><th scope=col>Sample_97L_P_SRC_3</th></tr></thead>\n",
       "<tbody>\n",
       "\t<tr><th scope=row>A1BG</th><td>   0</td><td>   0</td><td>   0</td><td>   0</td><td>   1</td><td>   0</td><td>   3</td><td>   1</td><td>   0</td></tr>\n",
       "\t<tr><th scope=row>A1CF</th><td>   0</td><td>   0</td><td>   0</td><td>   0</td><td>   0</td><td>   0</td><td>   0</td><td>   0</td><td>   0</td></tr>\n",
       "\t<tr><th scope=row>A2M</th><td>  17</td><td>   3</td><td>  13</td><td>  16</td><td>   5</td><td>   1</td><td>  20</td><td>  27</td><td>  23</td></tr>\n",
       "\t<tr><th scope=row>A2ML1</th><td>   0</td><td>   0</td><td>   0</td><td>   0</td><td>   0</td><td>   0</td><td>   0</td><td>   0</td><td>   0</td></tr>\n",
       "\t<tr><th scope=row>A3GALT2</th><td>   0</td><td>   0</td><td>   0</td><td>   1</td><td>   0</td><td>   0</td><td>   1</td><td>   0</td><td>   0</td></tr>\n",
       "\t<tr><th scope=row>A4GALT</th><td>1090</td><td>1605</td><td>1732</td><td>2287</td><td>2278</td><td>2176</td><td>1423</td><td>1660</td><td>1439</td></tr>\n",
       "</tbody>\n",
       "</table>\n"
      ],
      "text/latex": [
       "\\begin{tabular}{r|lllllllll}\n",
       "  & Sample\\_97L\\_1 & Sample\\_97L\\_2 & Sample\\_97L\\_3 & Sample\\_97L\\_P\\_AC\\_1 & Sample\\_97L\\_P\\_AC\\_2 & Sample\\_97L\\_P\\_AC\\_3 & Sample\\_97L\\_P\\_SRC\\_1 & Sample\\_97L\\_P\\_SRC\\_2 & Sample\\_97L\\_P\\_SRC\\_3\\\\\n",
       "\\hline\n",
       "\tA1BG &    0 &    0 &    0 &    0 &    1 &    0 &    3 &    1 &    0\\\\\n",
       "\tA1CF &    0 &    0 &    0 &    0 &    0 &    0 &    0 &    0 &    0\\\\\n",
       "\tA2M &   17 &    3 &   13 &   16 &    5 &    1 &   20 &   27 &   23\\\\\n",
       "\tA2ML1 &    0 &    0 &    0 &    0 &    0 &    0 &    0 &    0 &    0\\\\\n",
       "\tA3GALT2 &    0 &    0 &    0 &    1 &    0 &    0 &    1 &    0 &    0\\\\\n",
       "\tA4GALT & 1090 & 1605 & 1732 & 2287 & 2278 & 2176 & 1423 & 1660 & 1439\\\\\n",
       "\\end{tabular}\n"
      ],
      "text/markdown": [
       "\n",
       "| <!--/--> | Sample_97L_1 | Sample_97L_2 | Sample_97L_3 | Sample_97L_P_AC_1 | Sample_97L_P_AC_2 | Sample_97L_P_AC_3 | Sample_97L_P_SRC_1 | Sample_97L_P_SRC_2 | Sample_97L_P_SRC_3 |\n",
       "|---|---|---|---|---|---|---|---|---|---|\n",
       "| A1BG |    0 |    0 |    0 |    0 |    1 |    0 |    3 |    1 |    0 |\n",
       "| A1CF |    0 |    0 |    0 |    0 |    0 |    0 |    0 |    0 |    0 |\n",
       "| A2M |   17 |    3 |   13 |   16 |    5 |    1 |   20 |   27 |   23 |\n",
       "| A2ML1 |    0 |    0 |    0 |    0 |    0 |    0 |    0 |    0 |    0 |\n",
       "| A3GALT2 |    0 |    0 |    0 |    1 |    0 |    0 |    1 |    0 |    0 |\n",
       "| A4GALT | 1090 | 1605 | 1732 | 2287 | 2278 | 2176 | 1423 | 1660 | 1439 |\n",
       "\n"
      ],
      "text/plain": [
       "        Sample_97L_1 Sample_97L_2 Sample_97L_3 Sample_97L_P_AC_1\n",
       "A1BG       0            0            0            0             \n",
       "A1CF       0            0            0            0             \n",
       "A2M       17            3           13           16             \n",
       "A2ML1      0            0            0            0             \n",
       "A3GALT2    0            0            0            1             \n",
       "A4GALT  1090         1605         1732         2287             \n",
       "        Sample_97L_P_AC_2 Sample_97L_P_AC_3 Sample_97L_P_SRC_1\n",
       "A1BG       1                 0                 3              \n",
       "A1CF       0                 0                 0              \n",
       "A2M        5                 1                20              \n",
       "A2ML1      0                 0                 0              \n",
       "A3GALT2    0                 0                 1              \n",
       "A4GALT  2278              2176              1423              \n",
       "        Sample_97L_P_SRC_2 Sample_97L_P_SRC_3\n",
       "A1BG       1                  0              \n",
       "A1CF       0                  0              \n",
       "A2M       27                 23              \n",
       "A2ML1      0                  0              \n",
       "A3GALT2    0                  0              \n",
       "A4GALT  1660               1439              "
      ]
     },
     "metadata": {},
     "output_type": "display_data"
    },
    {
     "data": {
      "text/html": [
       "<table>\n",
       "<thead><tr><th></th><th scope=col>SID</th><th scope=col>GEO_accession</th><th scope=col>Source</th><th scope=col>Organism</th><th scope=col>Cell_type</th><th scope=col>Cellline</th><th scope=col>Treatment</th></tr></thead>\n",
       "<tbody>\n",
       "\t<tr><th scope=row>Sample_97L_1</th><td>Sample_97L_1     </td><td>GSM3692898       </td><td>liver            </td><td>Homo sapiens     </td><td>HCC              </td><td>MHCC97L          </td><td>none             </td></tr>\n",
       "\t<tr><th scope=row>Sample_97L_2</th><td>Sample_97L_2     </td><td>GSM3692899       </td><td>liver            </td><td>Homo sapiens     </td><td>HCC              </td><td>MHCC97L          </td><td>none             </td></tr>\n",
       "\t<tr><th scope=row>Sample_97L_3</th><td>Sample_97L_3     </td><td>GSM3692900       </td><td>liver            </td><td>Homo sapiens     </td><td>HCC              </td><td>MHCC97L          </td><td>none             </td></tr>\n",
       "\t<tr><th scope=row>Sample_97L_P_AC_1</th><td>Sample_97L_P_AC_1</td><td>GSM3692901       </td><td>liver            </td><td>Homo sapiens     </td><td>HCC              </td><td>MHCC97L          </td><td>oxaliplatin      </td></tr>\n",
       "\t<tr><th scope=row>Sample_97L_P_AC_2</th><td>Sample_97L_P_AC_2</td><td>GSM3692902       </td><td>liver            </td><td>Homo sapiens     </td><td>HCC              </td><td>MHCC97L          </td><td>oxaliplatin      </td></tr>\n",
       "\t<tr><th scope=row>Sample_97L_P_AC_3</th><td>Sample_97L_P_AC_3</td><td>GSM3692903       </td><td>liver            </td><td>Homo sapiens     </td><td>HCC              </td><td>MHCC97L          </td><td>oxaliplatin      </td></tr>\n",
       "</tbody>\n",
       "</table>\n"
      ],
      "text/latex": [
       "\\begin{tabular}{r|lllllll}\n",
       "  & SID & GEO\\_accession & Source & Organism & Cell\\_type & Cellline & Treatment\\\\\n",
       "\\hline\n",
       "\tSample\\_97L\\_1 & Sample\\_97L\\_1      & GSM3692898            & liver                 & Homo sapiens          & HCC                   & MHCC97L               & none                 \\\\\n",
       "\tSample\\_97L\\_2 & Sample\\_97L\\_2      & GSM3692899            & liver                 & Homo sapiens          & HCC                   & MHCC97L               & none                 \\\\\n",
       "\tSample\\_97L\\_3 & Sample\\_97L\\_3      & GSM3692900            & liver                 & Homo sapiens          & HCC                   & MHCC97L               & none                 \\\\\n",
       "\tSample\\_97L\\_P\\_AC\\_1 & Sample\\_97L\\_P\\_AC\\_1 & GSM3692901                & liver                     & Homo sapiens              & HCC                       & MHCC97L                   & oxaliplatin              \\\\\n",
       "\tSample\\_97L\\_P\\_AC\\_2 & Sample\\_97L\\_P\\_AC\\_2 & GSM3692902                & liver                     & Homo sapiens              & HCC                       & MHCC97L                   & oxaliplatin              \\\\\n",
       "\tSample\\_97L\\_P\\_AC\\_3 & Sample\\_97L\\_P\\_AC\\_3 & GSM3692903                & liver                     & Homo sapiens              & HCC                       & MHCC97L                   & oxaliplatin              \\\\\n",
       "\\end{tabular}\n"
      ],
      "text/markdown": [
       "\n",
       "| <!--/--> | SID | GEO_accession | Source | Organism | Cell_type | Cellline | Treatment |\n",
       "|---|---|---|---|---|---|---|---|\n",
       "| Sample_97L_1 | Sample_97L_1      | GSM3692898        | liver             | Homo sapiens      | HCC               | MHCC97L           | none              |\n",
       "| Sample_97L_2 | Sample_97L_2      | GSM3692899        | liver             | Homo sapiens      | HCC               | MHCC97L           | none              |\n",
       "| Sample_97L_3 | Sample_97L_3      | GSM3692900        | liver             | Homo sapiens      | HCC               | MHCC97L           | none              |\n",
       "| Sample_97L_P_AC_1 | Sample_97L_P_AC_1 | GSM3692901        | liver             | Homo sapiens      | HCC               | MHCC97L           | oxaliplatin       |\n",
       "| Sample_97L_P_AC_2 | Sample_97L_P_AC_2 | GSM3692902        | liver             | Homo sapiens      | HCC               | MHCC97L           | oxaliplatin       |\n",
       "| Sample_97L_P_AC_3 | Sample_97L_P_AC_3 | GSM3692903        | liver             | Homo sapiens      | HCC               | MHCC97L           | oxaliplatin       |\n",
       "\n"
      ],
      "text/plain": [
       "                  SID               GEO_accession Source Organism     Cell_type\n",
       "Sample_97L_1      Sample_97L_1      GSM3692898    liver  Homo sapiens HCC      \n",
       "Sample_97L_2      Sample_97L_2      GSM3692899    liver  Homo sapiens HCC      \n",
       "Sample_97L_3      Sample_97L_3      GSM3692900    liver  Homo sapiens HCC      \n",
       "Sample_97L_P_AC_1 Sample_97L_P_AC_1 GSM3692901    liver  Homo sapiens HCC      \n",
       "Sample_97L_P_AC_2 Sample_97L_P_AC_2 GSM3692902    liver  Homo sapiens HCC      \n",
       "Sample_97L_P_AC_3 Sample_97L_P_AC_3 GSM3692903    liver  Homo sapiens HCC      \n",
       "                  Cellline Treatment  \n",
       "Sample_97L_1      MHCC97L  none       \n",
       "Sample_97L_2      MHCC97L  none       \n",
       "Sample_97L_3      MHCC97L  none       \n",
       "Sample_97L_P_AC_1 MHCC97L  oxaliplatin\n",
       "Sample_97L_P_AC_2 MHCC97L  oxaliplatin\n",
       "Sample_97L_P_AC_3 MHCC97L  oxaliplatin"
      ]
     },
     "metadata": {},
     "output_type": "display_data"
    },
    {
     "data": {
      "text/html": [
       "<table>\n",
       "<thead><tr><th></th><th scope=col>gene_id</th><th scope=col>Dbxref</th><th scope=col>product</th></tr></thead>\n",
       "<tbody>\n",
       "\t<tr><th scope=row>A1BG</th><td>A1BG                                                          </td><td>GeneID:1,Genbank:NM_130786.3,HGNC:HGNC:5,MIM:138670           </td><td>alpha-1-B glycoprotein                                        </td></tr>\n",
       "\t<tr><th scope=row>A1CF</th><td>A1CF                                                          </td><td>GeneID:29974,Genbank:NM_138933.2,HGNC:HGNC:24086              </td><td>APOBEC1 complementation factor                                </td></tr>\n",
       "\t<tr><th scope=row>A2M</th><td>A2M                                                           </td><td>GeneID:2,Genbank:NM_001347423.1,HGNC:HGNC:7,MIM:103950        </td><td>alpha-2-macroglobulin                                         </td></tr>\n",
       "\t<tr><th scope=row>A2ML1</th><td>A2ML1                                                         </td><td>GeneID:144568,Genbank:NM_144670.5,HGNC:HGNC:23336,MIM:610627  </td><td>alpha-2-macroglobulin like 1                                  </td></tr>\n",
       "\t<tr><th scope=row>A3GALT2</th><td>A3GALT2                                                       </td><td>GeneID:127550,Genbank:NM_001080438.1,HGNC:HGNC:30005          </td><td>alpha 1,3-galactosyltransferase 2                             </td></tr>\n",
       "\t<tr><th scope=row>A4GALT</th><td>A4GALT                                                        </td><td>GeneID:53947,Genbank:NM_001318038.2,HGNC:HGNC:18149,MIM:607922</td><td>alpha 1,4-galactosyltransferase (P blood group)               </td></tr>\n",
       "</tbody>\n",
       "</table>\n"
      ],
      "text/latex": [
       "\\begin{tabular}{r|lll}\n",
       "  & gene\\_id & Dbxref & product\\\\\n",
       "\\hline\n",
       "\tA1BG & A1BG                                                             & GeneID:1,Genbank:NM\\_130786.3,HGNC:HGNC:5,MIM:138670            & alpha-1-B glycoprotein                                          \\\\\n",
       "\tA1CF & A1CF                                                             & GeneID:29974,Genbank:NM\\_138933.2,HGNC:HGNC:24086               & APOBEC1 complementation factor                                  \\\\\n",
       "\tA2M & A2M                                                              & GeneID:2,Genbank:NM\\_001347423.1,HGNC:HGNC:7,MIM:103950         & alpha-2-macroglobulin                                           \\\\\n",
       "\tA2ML1 & A2ML1                                                            & GeneID:144568,Genbank:NM\\_144670.5,HGNC:HGNC:23336,MIM:610627   & alpha-2-macroglobulin like 1                                    \\\\\n",
       "\tA3GALT2 & A3GALT2                                                          & GeneID:127550,Genbank:NM\\_001080438.1,HGNC:HGNC:30005           & alpha 1,3-galactosyltransferase 2                               \\\\\n",
       "\tA4GALT & A4GALT                                                           & GeneID:53947,Genbank:NM\\_001318038.2,HGNC:HGNC:18149,MIM:607922 & alpha 1,4-galactosyltransferase (P blood group)                 \\\\\n",
       "\\end{tabular}\n"
      ],
      "text/markdown": [
       "\n",
       "| <!--/--> | gene_id | Dbxref | product |\n",
       "|---|---|---|---|\n",
       "| A1BG | A1BG                                                           | GeneID:1,Genbank:NM_130786.3,HGNC:HGNC:5,MIM:138670            | alpha-1-B glycoprotein                                         |\n",
       "| A1CF | A1CF                                                           | GeneID:29974,Genbank:NM_138933.2,HGNC:HGNC:24086               | APOBEC1 complementation factor                                 |\n",
       "| A2M | A2M                                                            | GeneID:2,Genbank:NM_001347423.1,HGNC:HGNC:7,MIM:103950         | alpha-2-macroglobulin                                          |\n",
       "| A2ML1 | A2ML1                                                          | GeneID:144568,Genbank:NM_144670.5,HGNC:HGNC:23336,MIM:610627   | alpha-2-macroglobulin like 1                                   |\n",
       "| A3GALT2 | A3GALT2                                                        | GeneID:127550,Genbank:NM_001080438.1,HGNC:HGNC:30005           | alpha 1,3-galactosyltransferase 2                              |\n",
       "| A4GALT | A4GALT                                                         | GeneID:53947,Genbank:NM_001318038.2,HGNC:HGNC:18149,MIM:607922 | alpha 1,4-galactosyltransferase (P blood group)                |\n",
       "\n"
      ],
      "text/plain": [
       "        gene_id Dbxref                                                        \n",
       "A1BG    A1BG    GeneID:1,Genbank:NM_130786.3,HGNC:HGNC:5,MIM:138670           \n",
       "A1CF    A1CF    GeneID:29974,Genbank:NM_138933.2,HGNC:HGNC:24086              \n",
       "A2M     A2M     GeneID:2,Genbank:NM_001347423.1,HGNC:HGNC:7,MIM:103950        \n",
       "A2ML1   A2ML1   GeneID:144568,Genbank:NM_144670.5,HGNC:HGNC:23336,MIM:610627  \n",
       "A3GALT2 A3GALT2 GeneID:127550,Genbank:NM_001080438.1,HGNC:HGNC:30005          \n",
       "A4GALT  A4GALT  GeneID:53947,Genbank:NM_001318038.2,HGNC:HGNC:18149,MIM:607922\n",
       "        product                                        \n",
       "A1BG    alpha-1-B glycoprotein                         \n",
       "A1CF    APOBEC1 complementation factor                 \n",
       "A2M     alpha-2-macroglobulin                          \n",
       "A2ML1   alpha-2-macroglobulin like 1                   \n",
       "A3GALT2 alpha 1,3-galactosyltransferase 2              \n",
       "A4GALT  alpha 1,4-galactosyltransferase (P blood group)"
      ]
     },
     "metadata": {},
     "output_type": "display_data"
    }
   ],
   "source": [
    "## load ExpressionSet\n",
    "load(\"C:/Users/cho ye seul/Documents/예슬/공부/KGOL/아주쉬운유전체분석-실습(2019)/week7/data/eset.rda\")\n",
    "eset\n",
    "\n",
    "## eset의 형태 확인\n",
    "head(exprs(eset)) # expression data : sample 정수로 구성됨 -> count data\n",
    "head(pData(eset)) # phenome data\n",
    "head(fData(eset)) # fdata는 symbol에 대한 data"
   ]
  },
  {
   "cell_type": "code",
   "execution_count": 25,
   "metadata": {},
   "outputs": [
    {
     "data": {
      "text/plain": [
       "cnt.zero\n",
       "    0     1     2     3     4     5     6     7     8     9 \n",
       "12514   394   240   259   219   245   325   444   766  4624 "
      ]
     },
     "metadata": {},
     "output_type": "display_data"
    },
    {
     "data": {
      "text/html": [
       "<table>\n",
       "<thead><tr><th></th><th scope=col>Sample_97L_1</th><th scope=col>Sample_97L_2</th><th scope=col>Sample_97L_3</th><th scope=col>Sample_97L_P_AC_1</th><th scope=col>Sample_97L_P_AC_2</th><th scope=col>Sample_97L_P_AC_3</th><th scope=col>Sample_97L_P_SRC_1</th><th scope=col>Sample_97L_P_SRC_2</th><th scope=col>Sample_97L_P_SRC_3</th></tr></thead>\n",
       "<tbody>\n",
       "\t<tr><th scope=row>A1CF</th><td>0</td><td>0</td><td>0</td><td>0</td><td>0</td><td>0</td><td>0</td><td>0</td><td>0</td></tr>\n",
       "\t<tr><th scope=row>A2ML1</th><td>0</td><td>0</td><td>0</td><td>0</td><td>0</td><td>0</td><td>0</td><td>0</td><td>0</td></tr>\n",
       "\t<tr><th scope=row>A4GNT</th><td>0</td><td>0</td><td>0</td><td>0</td><td>0</td><td>0</td><td>0</td><td>0</td><td>0</td></tr>\n",
       "\t<tr><th scope=row>AADACL2</th><td>0</td><td>0</td><td>0</td><td>0</td><td>0</td><td>0</td><td>0</td><td>0</td><td>0</td></tr>\n",
       "\t<tr><th scope=row>AADACL3</th><td>0</td><td>0</td><td>0</td><td>0</td><td>0</td><td>0</td><td>0</td><td>0</td><td>0</td></tr>\n",
       "\t<tr><th scope=row>AADACL4</th><td>0</td><td>0</td><td>0</td><td>0</td><td>0</td><td>0</td><td>0</td><td>0</td><td>0</td></tr>\n",
       "</tbody>\n",
       "</table>\n"
      ],
      "text/latex": [
       "\\begin{tabular}{r|lllllllll}\n",
       "  & Sample\\_97L\\_1 & Sample\\_97L\\_2 & Sample\\_97L\\_3 & Sample\\_97L\\_P\\_AC\\_1 & Sample\\_97L\\_P\\_AC\\_2 & Sample\\_97L\\_P\\_AC\\_3 & Sample\\_97L\\_P\\_SRC\\_1 & Sample\\_97L\\_P\\_SRC\\_2 & Sample\\_97L\\_P\\_SRC\\_3\\\\\n",
       "\\hline\n",
       "\tA1CF & 0 & 0 & 0 & 0 & 0 & 0 & 0 & 0 & 0\\\\\n",
       "\tA2ML1 & 0 & 0 & 0 & 0 & 0 & 0 & 0 & 0 & 0\\\\\n",
       "\tA4GNT & 0 & 0 & 0 & 0 & 0 & 0 & 0 & 0 & 0\\\\\n",
       "\tAADACL2 & 0 & 0 & 0 & 0 & 0 & 0 & 0 & 0 & 0\\\\\n",
       "\tAADACL3 & 0 & 0 & 0 & 0 & 0 & 0 & 0 & 0 & 0\\\\\n",
       "\tAADACL4 & 0 & 0 & 0 & 0 & 0 & 0 & 0 & 0 & 0\\\\\n",
       "\\end{tabular}\n"
      ],
      "text/markdown": [
       "\n",
       "| <!--/--> | Sample_97L_1 | Sample_97L_2 | Sample_97L_3 | Sample_97L_P_AC_1 | Sample_97L_P_AC_2 | Sample_97L_P_AC_3 | Sample_97L_P_SRC_1 | Sample_97L_P_SRC_2 | Sample_97L_P_SRC_3 |\n",
       "|---|---|---|---|---|---|---|---|---|---|\n",
       "| A1CF | 0 | 0 | 0 | 0 | 0 | 0 | 0 | 0 | 0 |\n",
       "| A2ML1 | 0 | 0 | 0 | 0 | 0 | 0 | 0 | 0 | 0 |\n",
       "| A4GNT | 0 | 0 | 0 | 0 | 0 | 0 | 0 | 0 | 0 |\n",
       "| AADACL2 | 0 | 0 | 0 | 0 | 0 | 0 | 0 | 0 | 0 |\n",
       "| AADACL3 | 0 | 0 | 0 | 0 | 0 | 0 | 0 | 0 | 0 |\n",
       "| AADACL4 | 0 | 0 | 0 | 0 | 0 | 0 | 0 | 0 | 0 |\n",
       "\n"
      ],
      "text/plain": [
       "        Sample_97L_1 Sample_97L_2 Sample_97L_3 Sample_97L_P_AC_1\n",
       "A1CF    0            0            0            0                \n",
       "A2ML1   0            0            0            0                \n",
       "A4GNT   0            0            0            0                \n",
       "AADACL2 0            0            0            0                \n",
       "AADACL3 0            0            0            0                \n",
       "AADACL4 0            0            0            0                \n",
       "        Sample_97L_P_AC_2 Sample_97L_P_AC_3 Sample_97L_P_SRC_1\n",
       "A1CF    0                 0                 0                 \n",
       "A2ML1   0                 0                 0                 \n",
       "A4GNT   0                 0                 0                 \n",
       "AADACL2 0                 0                 0                 \n",
       "AADACL3 0                 0                 0                 \n",
       "AADACL4 0                 0                 0                 \n",
       "        Sample_97L_P_SRC_2 Sample_97L_P_SRC_3\n",
       "A1CF    0                  0                 \n",
       "A2ML1   0                  0                 \n",
       "A4GNT   0                  0                 \n",
       "AADACL2 0                  0                 \n",
       "AADACL3 0                  0                 \n",
       "AADACL4 0                  0                 "
      ]
     },
     "metadata": {},
     "output_type": "display_data"
    }
   ],
   "source": [
    "## remove zero value across all samples\n",
    "# eset을 확인한 결과 0값이 많이 나옴, 각 row 마다 0값이 몇개 인지 세어보기\n",
    "cnt.zero = rowSums(exprs(eset) == 0)\n",
    "table(cnt.zero) # 전체 샘플 9개에서 4624개라는 것은 모든 sample에서 다 0값을 가지고 있는 것\n",
    "\n",
    "zero.eset = eset[which(cnt.zero ==9), ] # which : 특정 값의 위치를 찾을 수 있는 함수\n",
    "head(exprs(zero.eset)) # 모든 sample에서 다 0값을 가지고 있는 애들 모아둔 table"
   ]
  },
  {
   "cell_type": "code",
   "execution_count": 26,
   "metadata": {},
   "outputs": [
    {
     "data": {
      "text/plain": [
       "ExpressionSet (storageMode: lockedEnvironment)\n",
       "assayData: 15406 features, 9 samples \n",
       "  element names: exprs \n",
       "protocolData: none\n",
       "phenoData\n",
       "  sampleNames: Sample_97L_1 Sample_97L_2 ... Sample_97L_P_SRC_3 (9\n",
       "    total)\n",
       "  varLabels: SID GEO_accession ... Treatment (7 total)\n",
       "  varMetadata: labelDescription\n",
       "featureData\n",
       "  featureNames: A1BG A2M ... ZZZ3 (15406 total)\n",
       "  fvarLabels: gene_id Dbxref product\n",
       "  fvarMetadata: labelDescription\n",
       "experimentData: use 'experimentData(object)'\n",
       "Annotation:  "
      ]
     },
     "metadata": {},
     "output_type": "display_data"
    },
    {
     "data": {
      "text/html": [
       "<table>\n",
       "<thead><tr><th></th><th scope=col>Sample_97L_1</th><th scope=col>Sample_97L_2</th><th scope=col>Sample_97L_3</th><th scope=col>Sample_97L_P_AC_1</th><th scope=col>Sample_97L_P_AC_2</th><th scope=col>Sample_97L_P_AC_3</th><th scope=col>Sample_97L_P_SRC_1</th><th scope=col>Sample_97L_P_SRC_2</th><th scope=col>Sample_97L_P_SRC_3</th></tr></thead>\n",
       "<tbody>\n",
       "\t<tr><th scope=row>A1BG</th><td>   0</td><td>   0</td><td>   0</td><td>   0</td><td>   1</td><td>   0</td><td>   3</td><td>   1</td><td>   0</td></tr>\n",
       "\t<tr><th scope=row>A2M</th><td>  17</td><td>   3</td><td>  13</td><td>  16</td><td>   5</td><td>   1</td><td>  20</td><td>  27</td><td>  23</td></tr>\n",
       "\t<tr><th scope=row>A3GALT2</th><td>   0</td><td>   0</td><td>   0</td><td>   1</td><td>   0</td><td>   0</td><td>   1</td><td>   0</td><td>   0</td></tr>\n",
       "\t<tr><th scope=row>A4GALT</th><td>1090</td><td>1605</td><td>1732</td><td>2287</td><td>2278</td><td>2176</td><td>1423</td><td>1660</td><td>1439</td></tr>\n",
       "\t<tr><th scope=row>AAAS</th><td>1133</td><td>1852</td><td>2067</td><td>1416</td><td>1393</td><td>1488</td><td>1897</td><td>2042</td><td>1534</td></tr>\n",
       "\t<tr><th scope=row>AACS</th><td>1158</td><td>1579</td><td>1567</td><td>1956</td><td>1974</td><td>2015</td><td>1698</td><td>1680</td><td>1909</td></tr>\n",
       "</tbody>\n",
       "</table>\n"
      ],
      "text/latex": [
       "\\begin{tabular}{r|lllllllll}\n",
       "  & Sample\\_97L\\_1 & Sample\\_97L\\_2 & Sample\\_97L\\_3 & Sample\\_97L\\_P\\_AC\\_1 & Sample\\_97L\\_P\\_AC\\_2 & Sample\\_97L\\_P\\_AC\\_3 & Sample\\_97L\\_P\\_SRC\\_1 & Sample\\_97L\\_P\\_SRC\\_2 & Sample\\_97L\\_P\\_SRC\\_3\\\\\n",
       "\\hline\n",
       "\tA1BG &    0 &    0 &    0 &    0 &    1 &    0 &    3 &    1 &    0\\\\\n",
       "\tA2M &   17 &    3 &   13 &   16 &    5 &    1 &   20 &   27 &   23\\\\\n",
       "\tA3GALT2 &    0 &    0 &    0 &    1 &    0 &    0 &    1 &    0 &    0\\\\\n",
       "\tA4GALT & 1090 & 1605 & 1732 & 2287 & 2278 & 2176 & 1423 & 1660 & 1439\\\\\n",
       "\tAAAS & 1133 & 1852 & 2067 & 1416 & 1393 & 1488 & 1897 & 2042 & 1534\\\\\n",
       "\tAACS & 1158 & 1579 & 1567 & 1956 & 1974 & 2015 & 1698 & 1680 & 1909\\\\\n",
       "\\end{tabular}\n"
      ],
      "text/markdown": [
       "\n",
       "| <!--/--> | Sample_97L_1 | Sample_97L_2 | Sample_97L_3 | Sample_97L_P_AC_1 | Sample_97L_P_AC_2 | Sample_97L_P_AC_3 | Sample_97L_P_SRC_1 | Sample_97L_P_SRC_2 | Sample_97L_P_SRC_3 |\n",
       "|---|---|---|---|---|---|---|---|---|---|\n",
       "| A1BG |    0 |    0 |    0 |    0 |    1 |    0 |    3 |    1 |    0 |\n",
       "| A2M |   17 |    3 |   13 |   16 |    5 |    1 |   20 |   27 |   23 |\n",
       "| A3GALT2 |    0 |    0 |    0 |    1 |    0 |    0 |    1 |    0 |    0 |\n",
       "| A4GALT | 1090 | 1605 | 1732 | 2287 | 2278 | 2176 | 1423 | 1660 | 1439 |\n",
       "| AAAS | 1133 | 1852 | 2067 | 1416 | 1393 | 1488 | 1897 | 2042 | 1534 |\n",
       "| AACS | 1158 | 1579 | 1567 | 1956 | 1974 | 2015 | 1698 | 1680 | 1909 |\n",
       "\n"
      ],
      "text/plain": [
       "        Sample_97L_1 Sample_97L_2 Sample_97L_3 Sample_97L_P_AC_1\n",
       "A1BG       0            0            0            0             \n",
       "A2M       17            3           13           16             \n",
       "A3GALT2    0            0            0            1             \n",
       "A4GALT  1090         1605         1732         2287             \n",
       "AAAS    1133         1852         2067         1416             \n",
       "AACS    1158         1579         1567         1956             \n",
       "        Sample_97L_P_AC_2 Sample_97L_P_AC_3 Sample_97L_P_SRC_1\n",
       "A1BG       1                 0                 3              \n",
       "A2M        5                 1                20              \n",
       "A3GALT2    0                 0                 1              \n",
       "A4GALT  2278              2176              1423              \n",
       "AAAS    1393              1488              1897              \n",
       "AACS    1974              2015              1698              \n",
       "        Sample_97L_P_SRC_2 Sample_97L_P_SRC_3\n",
       "A1BG       1                  0              \n",
       "A2M       27                 23              \n",
       "A3GALT2    0                  0              \n",
       "A4GALT  1660               1439              \n",
       "AAAS    2042               1534              \n",
       "AACS    1680               1909              "
      ]
     },
     "metadata": {},
     "output_type": "display_data"
    }
   ],
   "source": [
    "# rowSum 0인 애들 제외하고 eset 재생성\n",
    "eset = eset[-which(cnt.zero == 9), ]\n",
    "eset # 전체(20030개) - 0값(4624개) = 15406개\n",
    "head(exprs(eset))"
   ]
  },
  {
   "cell_type": "markdown",
   "metadata": {},
   "source": [
    "##### DESeq"
   ]
  },
  {
   "cell_type": "code",
   "execution_count": 27,
   "metadata": {},
   "outputs": [
    {
     "data": {
      "text/html": [
       "<table>\n",
       "<thead><tr><th></th><th scope=col>Sample_97L_1</th><th scope=col>Sample_97L_2</th><th scope=col>Sample_97L_3</th><th scope=col>Sample_97L_P_AC_1</th><th scope=col>Sample_97L_P_AC_2</th><th scope=col>Sample_97L_P_AC_3</th><th scope=col>Sample_97L_P_SRC_1</th><th scope=col>Sample_97L_P_SRC_2</th><th scope=col>Sample_97L_P_SRC_3</th></tr></thead>\n",
       "<tbody>\n",
       "\t<tr><th scope=row>A1BG</th><td>   0</td><td>   0</td><td>   0</td><td>   0</td><td>   1</td><td>   0</td><td>   3</td><td>   1</td><td>   0</td></tr>\n",
       "\t<tr><th scope=row>A2M</th><td>  17</td><td>   3</td><td>  13</td><td>  16</td><td>   5</td><td>   1</td><td>  20</td><td>  27</td><td>  23</td></tr>\n",
       "\t<tr><th scope=row>A3GALT2</th><td>   0</td><td>   0</td><td>   0</td><td>   1</td><td>   0</td><td>   0</td><td>   1</td><td>   0</td><td>   0</td></tr>\n",
       "\t<tr><th scope=row>A4GALT</th><td>1090</td><td>1605</td><td>1732</td><td>2287</td><td>2278</td><td>2176</td><td>1423</td><td>1660</td><td>1439</td></tr>\n",
       "\t<tr><th scope=row>AAAS</th><td>1133</td><td>1852</td><td>2067</td><td>1416</td><td>1393</td><td>1488</td><td>1897</td><td>2042</td><td>1534</td></tr>\n",
       "\t<tr><th scope=row>AACS</th><td>1158</td><td>1579</td><td>1567</td><td>1956</td><td>1974</td><td>2015</td><td>1698</td><td>1680</td><td>1909</td></tr>\n",
       "</tbody>\n",
       "</table>\n"
      ],
      "text/latex": [
       "\\begin{tabular}{r|lllllllll}\n",
       "  & Sample\\_97L\\_1 & Sample\\_97L\\_2 & Sample\\_97L\\_3 & Sample\\_97L\\_P\\_AC\\_1 & Sample\\_97L\\_P\\_AC\\_2 & Sample\\_97L\\_P\\_AC\\_3 & Sample\\_97L\\_P\\_SRC\\_1 & Sample\\_97L\\_P\\_SRC\\_2 & Sample\\_97L\\_P\\_SRC\\_3\\\\\n",
       "\\hline\n",
       "\tA1BG &    0 &    0 &    0 &    0 &    1 &    0 &    3 &    1 &    0\\\\\n",
       "\tA2M &   17 &    3 &   13 &   16 &    5 &    1 &   20 &   27 &   23\\\\\n",
       "\tA3GALT2 &    0 &    0 &    0 &    1 &    0 &    0 &    1 &    0 &    0\\\\\n",
       "\tA4GALT & 1090 & 1605 & 1732 & 2287 & 2278 & 2176 & 1423 & 1660 & 1439\\\\\n",
       "\tAAAS & 1133 & 1852 & 2067 & 1416 & 1393 & 1488 & 1897 & 2042 & 1534\\\\\n",
       "\tAACS & 1158 & 1579 & 1567 & 1956 & 1974 & 2015 & 1698 & 1680 & 1909\\\\\n",
       "\\end{tabular}\n"
      ],
      "text/markdown": [
       "\n",
       "| <!--/--> | Sample_97L_1 | Sample_97L_2 | Sample_97L_3 | Sample_97L_P_AC_1 | Sample_97L_P_AC_2 | Sample_97L_P_AC_3 | Sample_97L_P_SRC_1 | Sample_97L_P_SRC_2 | Sample_97L_P_SRC_3 |\n",
       "|---|---|---|---|---|---|---|---|---|---|\n",
       "| A1BG |    0 |    0 |    0 |    0 |    1 |    0 |    3 |    1 |    0 |\n",
       "| A2M |   17 |    3 |   13 |   16 |    5 |    1 |   20 |   27 |   23 |\n",
       "| A3GALT2 |    0 |    0 |    0 |    1 |    0 |    0 |    1 |    0 |    0 |\n",
       "| A4GALT | 1090 | 1605 | 1732 | 2287 | 2278 | 2176 | 1423 | 1660 | 1439 |\n",
       "| AAAS | 1133 | 1852 | 2067 | 1416 | 1393 | 1488 | 1897 | 2042 | 1534 |\n",
       "| AACS | 1158 | 1579 | 1567 | 1956 | 1974 | 2015 | 1698 | 1680 | 1909 |\n",
       "\n"
      ],
      "text/plain": [
       "        Sample_97L_1 Sample_97L_2 Sample_97L_3 Sample_97L_P_AC_1\n",
       "A1BG       0            0            0            0             \n",
       "A2M       17            3           13           16             \n",
       "A3GALT2    0            0            0            1             \n",
       "A4GALT  1090         1605         1732         2287             \n",
       "AAAS    1133         1852         2067         1416             \n",
       "AACS    1158         1579         1567         1956             \n",
       "        Sample_97L_P_AC_2 Sample_97L_P_AC_3 Sample_97L_P_SRC_1\n",
       "A1BG       1                 0                 3              \n",
       "A2M        5                 1                20              \n",
       "A3GALT2    0                 0                 1              \n",
       "A4GALT  2278              2176              1423              \n",
       "AAAS    1393              1488              1897              \n",
       "AACS    1974              2015              1698              \n",
       "        Sample_97L_P_SRC_2 Sample_97L_P_SRC_3\n",
       "A1BG       1                  0              \n",
       "A2M       27                 23              \n",
       "A3GALT2    0                  0              \n",
       "A4GALT  1660               1439              \n",
       "AAAS    2042               1534              \n",
       "AACS    1680               1909              "
      ]
     },
     "metadata": {},
     "output_type": "display_data"
    }
   ],
   "source": [
    "## 1-1. countTable\n",
    "countTable = exprs(eset)\n",
    "head(countTable)"
   ]
  },
  {
   "cell_type": "code",
   "execution_count": 39,
   "metadata": {},
   "outputs": [
    {
     "data": {
      "text/html": [
       "<table>\n",
       "<thead><tr><th></th><th scope=col>SID</th><th scope=col>GEO_accession</th><th scope=col>Source</th><th scope=col>Organism</th><th scope=col>Cell_type</th><th scope=col>Cellline</th><th scope=col>Treatment</th></tr></thead>\n",
       "<tbody>\n",
       "\t<tr><th scope=row>Sample_97L_1</th><td>Sample_97L_1     </td><td>GSM3692898       </td><td>liver            </td><td>Homo sapiens     </td><td>HCC              </td><td>MHCC97L          </td><td>none             </td></tr>\n",
       "\t<tr><th scope=row>Sample_97L_2</th><td>Sample_97L_2     </td><td>GSM3692899       </td><td>liver            </td><td>Homo sapiens     </td><td>HCC              </td><td>MHCC97L          </td><td>none             </td></tr>\n",
       "\t<tr><th scope=row>Sample_97L_3</th><td>Sample_97L_3     </td><td>GSM3692900       </td><td>liver            </td><td>Homo sapiens     </td><td>HCC              </td><td>MHCC97L          </td><td>none             </td></tr>\n",
       "\t<tr><th scope=row>Sample_97L_P_AC_1</th><td>Sample_97L_P_AC_1</td><td>GSM3692901       </td><td>liver            </td><td>Homo sapiens     </td><td>HCC              </td><td>MHCC97L          </td><td>oxaliplatin      </td></tr>\n",
       "\t<tr><th scope=row>Sample_97L_P_AC_2</th><td>Sample_97L_P_AC_2</td><td>GSM3692902       </td><td>liver            </td><td>Homo sapiens     </td><td>HCC              </td><td>MHCC97L          </td><td>oxaliplatin      </td></tr>\n",
       "\t<tr><th scope=row>Sample_97L_P_AC_3</th><td>Sample_97L_P_AC_3</td><td>GSM3692903       </td><td>liver            </td><td>Homo sapiens     </td><td>HCC              </td><td>MHCC97L          </td><td>oxaliplatin      </td></tr>\n",
       "</tbody>\n",
       "</table>\n"
      ],
      "text/latex": [
       "\\begin{tabular}{r|lllllll}\n",
       "  & SID & GEO\\_accession & Source & Organism & Cell\\_type & Cellline & Treatment\\\\\n",
       "\\hline\n",
       "\tSample\\_97L\\_1 & Sample\\_97L\\_1      & GSM3692898            & liver                 & Homo sapiens          & HCC                   & MHCC97L               & none                 \\\\\n",
       "\tSample\\_97L\\_2 & Sample\\_97L\\_2      & GSM3692899            & liver                 & Homo sapiens          & HCC                   & MHCC97L               & none                 \\\\\n",
       "\tSample\\_97L\\_3 & Sample\\_97L\\_3      & GSM3692900            & liver                 & Homo sapiens          & HCC                   & MHCC97L               & none                 \\\\\n",
       "\tSample\\_97L\\_P\\_AC\\_1 & Sample\\_97L\\_P\\_AC\\_1 & GSM3692901                & liver                     & Homo sapiens              & HCC                       & MHCC97L                   & oxaliplatin              \\\\\n",
       "\tSample\\_97L\\_P\\_AC\\_2 & Sample\\_97L\\_P\\_AC\\_2 & GSM3692902                & liver                     & Homo sapiens              & HCC                       & MHCC97L                   & oxaliplatin              \\\\\n",
       "\tSample\\_97L\\_P\\_AC\\_3 & Sample\\_97L\\_P\\_AC\\_3 & GSM3692903                & liver                     & Homo sapiens              & HCC                       & MHCC97L                   & oxaliplatin              \\\\\n",
       "\\end{tabular}\n"
      ],
      "text/markdown": [
       "\n",
       "| <!--/--> | SID | GEO_accession | Source | Organism | Cell_type | Cellline | Treatment |\n",
       "|---|---|---|---|---|---|---|---|\n",
       "| Sample_97L_1 | Sample_97L_1      | GSM3692898        | liver             | Homo sapiens      | HCC               | MHCC97L           | none              |\n",
       "| Sample_97L_2 | Sample_97L_2      | GSM3692899        | liver             | Homo sapiens      | HCC               | MHCC97L           | none              |\n",
       "| Sample_97L_3 | Sample_97L_3      | GSM3692900        | liver             | Homo sapiens      | HCC               | MHCC97L           | none              |\n",
       "| Sample_97L_P_AC_1 | Sample_97L_P_AC_1 | GSM3692901        | liver             | Homo sapiens      | HCC               | MHCC97L           | oxaliplatin       |\n",
       "| Sample_97L_P_AC_2 | Sample_97L_P_AC_2 | GSM3692902        | liver             | Homo sapiens      | HCC               | MHCC97L           | oxaliplatin       |\n",
       "| Sample_97L_P_AC_3 | Sample_97L_P_AC_3 | GSM3692903        | liver             | Homo sapiens      | HCC               | MHCC97L           | oxaliplatin       |\n",
       "\n"
      ],
      "text/plain": [
       "                  SID               GEO_accession Source Organism     Cell_type\n",
       "Sample_97L_1      Sample_97L_1      GSM3692898    liver  Homo sapiens HCC      \n",
       "Sample_97L_2      Sample_97L_2      GSM3692899    liver  Homo sapiens HCC      \n",
       "Sample_97L_3      Sample_97L_3      GSM3692900    liver  Homo sapiens HCC      \n",
       "Sample_97L_P_AC_1 Sample_97L_P_AC_1 GSM3692901    liver  Homo sapiens HCC      \n",
       "Sample_97L_P_AC_2 Sample_97L_P_AC_2 GSM3692902    liver  Homo sapiens HCC      \n",
       "Sample_97L_P_AC_3 Sample_97L_P_AC_3 GSM3692903    liver  Homo sapiens HCC      \n",
       "                  Cellline Treatment  \n",
       "Sample_97L_1      MHCC97L  none       \n",
       "Sample_97L_2      MHCC97L  none       \n",
       "Sample_97L_3      MHCC97L  none       \n",
       "Sample_97L_P_AC_1 MHCC97L  oxaliplatin\n",
       "Sample_97L_P_AC_2 MHCC97L  oxaliplatin\n",
       "Sample_97L_P_AC_3 MHCC97L  oxaliplatin"
      ]
     },
     "metadata": {},
     "output_type": "display_data"
    },
    {
     "data": {
      "text/plain": [
       "CountDataSet (storageMode: environment)\n",
       "assayData: 15406 features, 9 samples \n",
       "  element names: counts \n",
       "protocolData: none\n",
       "phenoData\n",
       "  sampleNames: Sample_97L_1 Sample_97L_2 ... Sample_97L_P_SRC_3 (9\n",
       "    total)\n",
       "  varLabels: sizeFactor condition\n",
       "  varMetadata: labelDescription\n",
       "featureData: none\n",
       "experimentData: use 'experimentData(object)'\n",
       "Annotation:  "
      ]
     },
     "metadata": {},
     "output_type": "display_data"
    }
   ],
   "source": [
    "## 1-2. metadata\n",
    "# 각각의 sample마다 조건이 어떠한지만 넣어주면 된다\n",
    "head(pData(eset))\n",
    "\n",
    "# treatment 부분을 조건으로 넣어줄 것\n",
    "condition = pData(eset)$Treatment\n",
    "\n",
    "# newCountDataSet : countTable과 condition을 하나로 묶어주기 \n",
    "cds = newCountDataSet(countTable, condition)\n",
    "cds\n",
    "# newCountDataSet(ExpressionSet)"
   ]
  },
  {
   "cell_type": "code",
   "execution_count": 44,
   "metadata": {},
   "outputs": [
    {
     "data": {
      "text/html": [
       "<dl class=dl-horizontal>\n",
       "\t<dt>Sample_97L_1</dt>\n",
       "\t\t<dd>1.16212863292981</dd>\n",
       "\t<dt>Sample_97L_2</dt>\n",
       "\t\t<dd>0.944157085926943</dd>\n",
       "\t<dt>Sample_97L_3</dt>\n",
       "\t\t<dd>1.05092103483367</dd>\n",
       "\t<dt>Sample_97L_P_AC_1</dt>\n",
       "\t\t<dd>1.02046092105751</dd>\n",
       "\t<dt>Sample_97L_P_AC_2</dt>\n",
       "\t\t<dd>1.02242699201122</dd>\n",
       "\t<dt>Sample_97L_P_AC_3</dt>\n",
       "\t\t<dd>0.997725894336742</dd>\n",
       "\t<dt>Sample_97L_P_SRC_1</dt>\n",
       "\t\t<dd>0.951836583374186</dd>\n",
       "\t<dt>Sample_97L_P_SRC_2</dt>\n",
       "\t\t<dd>0.795797714258719</dd>\n",
       "\t<dt>Sample_97L_P_SRC_3</dt>\n",
       "\t\t<dd>1.02446530104708</dd>\n",
       "</dl>\n"
      ],
      "text/latex": [
       "\\begin{description*}\n",
       "\\item[Sample\\textbackslash{}\\_97L\\textbackslash{}\\_1] 1.16212863292981\n",
       "\\item[Sample\\textbackslash{}\\_97L\\textbackslash{}\\_2] 0.944157085926943\n",
       "\\item[Sample\\textbackslash{}\\_97L\\textbackslash{}\\_3] 1.05092103483367\n",
       "\\item[Sample\\textbackslash{}\\_97L\\textbackslash{}\\_P\\textbackslash{}\\_AC\\textbackslash{}\\_1] 1.02046092105751\n",
       "\\item[Sample\\textbackslash{}\\_97L\\textbackslash{}\\_P\\textbackslash{}\\_AC\\textbackslash{}\\_2] 1.02242699201122\n",
       "\\item[Sample\\textbackslash{}\\_97L\\textbackslash{}\\_P\\textbackslash{}\\_AC\\textbackslash{}\\_3] 0.997725894336742\n",
       "\\item[Sample\\textbackslash{}\\_97L\\textbackslash{}\\_P\\textbackslash{}\\_SRC\\textbackslash{}\\_1] 0.951836583374186\n",
       "\\item[Sample\\textbackslash{}\\_97L\\textbackslash{}\\_P\\textbackslash{}\\_SRC\\textbackslash{}\\_2] 0.795797714258719\n",
       "\\item[Sample\\textbackslash{}\\_97L\\textbackslash{}\\_P\\textbackslash{}\\_SRC\\textbackslash{}\\_3] 1.02446530104708\n",
       "\\end{description*}\n"
      ],
      "text/markdown": [
       "Sample_97L_1\n",
       ":   1.16212863292981Sample_97L_2\n",
       ":   0.944157085926943Sample_97L_3\n",
       ":   1.05092103483367Sample_97L_P_AC_1\n",
       ":   1.02046092105751Sample_97L_P_AC_2\n",
       ":   1.02242699201122Sample_97L_P_AC_3\n",
       ":   0.997725894336742Sample_97L_P_SRC_1\n",
       ":   0.951836583374186Sample_97L_P_SRC_2\n",
       ":   0.795797714258719Sample_97L_P_SRC_3\n",
       ":   1.02446530104708\n",
       "\n"
      ],
      "text/plain": [
       "      Sample_97L_1       Sample_97L_2       Sample_97L_3  Sample_97L_P_AC_1 \n",
       "         1.1621286          0.9441571          1.0509210          1.0204609 \n",
       " Sample_97L_P_AC_2  Sample_97L_P_AC_3 Sample_97L_P_SRC_1 Sample_97L_P_SRC_2 \n",
       "         1.0224270          0.9977259          0.9518366          0.7957977 \n",
       "Sample_97L_P_SRC_3 \n",
       "         1.0244653 "
      ]
     },
     "metadata": {},
     "output_type": "display_data"
    },
    {
     "data": {
      "text/html": [
       "<table>\n",
       "<thead><tr><th></th><th scope=col>Sample_97L_1</th><th scope=col>Sample_97L_2</th><th scope=col>Sample_97L_3</th><th scope=col>Sample_97L_P_AC_1</th><th scope=col>Sample_97L_P_AC_2</th><th scope=col>Sample_97L_P_AC_3</th><th scope=col>Sample_97L_P_SRC_1</th><th scope=col>Sample_97L_P_SRC_2</th><th scope=col>Sample_97L_P_SRC_3</th></tr></thead>\n",
       "<tbody>\n",
       "\t<tr><th scope=row>A1BG</th><td>  0.00000   </td><td>   0.000000 </td><td>   0.0000   </td><td>   0.0000000</td><td>   0.9780649</td><td>   0.000000 </td><td>   3.151802 </td><td>   1.256601 </td><td>   0.00000  </td></tr>\n",
       "\t<tr><th scope=row>A2M</th><td> 14.62833   </td><td>   3.177437 </td><td>  12.3701   </td><td>  15.6791893</td><td>   4.8903247</td><td>   1.002279 </td><td>  21.012010 </td><td>  33.928220 </td><td>  22.45074  </td></tr>\n",
       "\t<tr><th scope=row>A3GALT2</th><td>  0.00000   </td><td>   0.000000 </td><td>   0.0000   </td><td>   0.9799493</td><td>   0.0000000</td><td>   0.000000 </td><td>   1.050601 </td><td>   0.000000 </td><td>   0.00000  </td></tr>\n",
       "\t<tr><th scope=row>A4GALT</th><td>937.93404   </td><td>1699.928988 </td><td>1648.0782   </td><td>2241.1441269</td><td>2228.0319454</td><td>2180.959733 </td><td>1495.004526 </td><td>2085.957235 </td><td>1404.63518  </td></tr>\n",
       "\t<tr><th scope=row>AAAS</th><td>974.93510   </td><td>1961.537998 </td><td>1966.8462   </td><td>1387.6082570</td><td>1362.4444688</td><td>1491.391582 </td><td>1992.989168 </td><td>2565.978720 </td><td>1497.36648  </td></tr>\n",
       "\t<tr><th scope=row>AACS</th><td>996.44735   </td><td>1672.391198 </td><td>1491.0730   </td><td>1916.7808974</td><td>1930.7002020</td><td>2019.592767 </td><td>1783.919666 </td><td>2111.089250 </td><td>1863.41109  </td></tr>\n",
       "</tbody>\n",
       "</table>\n"
      ],
      "text/latex": [
       "\\begin{tabular}{r|lllllllll}\n",
       "  & Sample\\_97L\\_1 & Sample\\_97L\\_2 & Sample\\_97L\\_3 & Sample\\_97L\\_P\\_AC\\_1 & Sample\\_97L\\_P\\_AC\\_2 & Sample\\_97L\\_P\\_AC\\_3 & Sample\\_97L\\_P\\_SRC\\_1 & Sample\\_97L\\_P\\_SRC\\_2 & Sample\\_97L\\_P\\_SRC\\_3\\\\\n",
       "\\hline\n",
       "\tA1BG &   0.00000    &    0.000000  &    0.0000    &    0.0000000 &    0.9780649 &    0.000000  &    3.151802  &    1.256601  &    0.00000  \\\\\n",
       "\tA2M &  14.62833    &    3.177437  &   12.3701    &   15.6791893 &    4.8903247 &    1.002279  &   21.012010  &   33.928220  &   22.45074  \\\\\n",
       "\tA3GALT2 &   0.00000    &    0.000000  &    0.0000    &    0.9799493 &    0.0000000 &    0.000000  &    1.050601  &    0.000000  &    0.00000  \\\\\n",
       "\tA4GALT & 937.93404    & 1699.928988  & 1648.0782    & 2241.1441269 & 2228.0319454 & 2180.959733  & 1495.004526  & 2085.957235  & 1404.63518  \\\\\n",
       "\tAAAS & 974.93510    & 1961.537998  & 1966.8462    & 1387.6082570 & 1362.4444688 & 1491.391582  & 1992.989168  & 2565.978720  & 1497.36648  \\\\\n",
       "\tAACS & 996.44735    & 1672.391198  & 1491.0730    & 1916.7808974 & 1930.7002020 & 2019.592767  & 1783.919666  & 2111.089250  & 1863.41109  \\\\\n",
       "\\end{tabular}\n"
      ],
      "text/markdown": [
       "\n",
       "| <!--/--> | Sample_97L_1 | Sample_97L_2 | Sample_97L_3 | Sample_97L_P_AC_1 | Sample_97L_P_AC_2 | Sample_97L_P_AC_3 | Sample_97L_P_SRC_1 | Sample_97L_P_SRC_2 | Sample_97L_P_SRC_3 |\n",
       "|---|---|---|---|---|---|---|---|---|---|\n",
       "| A1BG |   0.00000    |    0.000000  |    0.0000    |    0.0000000 |    0.9780649 |    0.000000  |    3.151802  |    1.256601  |    0.00000   |\n",
       "| A2M |  14.62833    |    3.177437  |   12.3701    |   15.6791893 |    4.8903247 |    1.002279  |   21.012010  |   33.928220  |   22.45074   |\n",
       "| A3GALT2 |   0.00000    |    0.000000  |    0.0000    |    0.9799493 |    0.0000000 |    0.000000  |    1.050601  |    0.000000  |    0.00000   |\n",
       "| A4GALT | 937.93404    | 1699.928988  | 1648.0782    | 2241.1441269 | 2228.0319454 | 2180.959733  | 1495.004526  | 2085.957235  | 1404.63518   |\n",
       "| AAAS | 974.93510    | 1961.537998  | 1966.8462    | 1387.6082570 | 1362.4444688 | 1491.391582  | 1992.989168  | 2565.978720  | 1497.36648   |\n",
       "| AACS | 996.44735    | 1672.391198  | 1491.0730    | 1916.7808974 | 1930.7002020 | 2019.592767  | 1783.919666  | 2111.089250  | 1863.41109   |\n",
       "\n"
      ],
      "text/plain": [
       "        Sample_97L_1 Sample_97L_2 Sample_97L_3 Sample_97L_P_AC_1\n",
       "A1BG      0.00000       0.000000     0.0000       0.0000000     \n",
       "A2M      14.62833       3.177437    12.3701      15.6791893     \n",
       "A3GALT2   0.00000       0.000000     0.0000       0.9799493     \n",
       "A4GALT  937.93404    1699.928988  1648.0782    2241.1441269     \n",
       "AAAS    974.93510    1961.537998  1966.8462    1387.6082570     \n",
       "AACS    996.44735    1672.391198  1491.0730    1916.7808974     \n",
       "        Sample_97L_P_AC_2 Sample_97L_P_AC_3 Sample_97L_P_SRC_1\n",
       "A1BG       0.9780649         0.000000          3.151802       \n",
       "A2M        4.8903247         1.002279         21.012010       \n",
       "A3GALT2    0.0000000         0.000000          1.050601       \n",
       "A4GALT  2228.0319454      2180.959733       1495.004526       \n",
       "AAAS    1362.4444688      1491.391582       1992.989168       \n",
       "AACS    1930.7002020      2019.592767       1783.919666       \n",
       "        Sample_97L_P_SRC_2 Sample_97L_P_SRC_3\n",
       "A1BG       1.256601           0.00000        \n",
       "A2M       33.928220          22.45074        \n",
       "A3GALT2    0.000000           0.00000        \n",
       "A4GALT  2085.957235        1404.63518        \n",
       "AAAS    2565.978720        1497.36648        \n",
       "AACS    2111.089250        1863.41109        "
      ]
     },
     "metadata": {},
     "output_type": "display_data"
    }
   ],
   "source": [
    "## 1-3. Normalisation\n",
    "# estimateSizeFactors : normalisation 계산해줌\n",
    "cds = estimateSizeFactors(cds)\n",
    "sizeFactors(cds) # 각각의 sample마다 sizeFactor 계산해줌\n",
    "head(counts(cds, normalized = TRUE)) # 정수로 나왔던 count값들이 normalization에 의해 값이 변경 된것을 볼 수 있음"
   ]
  },
  {
   "cell_type": "code",
   "execution_count": 45,
   "metadata": {},
   "outputs": [
    {
     "data": {
      "image/png": "[encoded data removed]",
      "text/plain": [
       "plot without title"
      ]
     },
     "metadata": {},
     "output_type": "display_data"
    }
   ],
   "source": [
    "## 1-4. estimate dispersion\n",
    "# estimateDispersions : estimate dispersion 에 사용\n",
    "cds = estimateDispersions(cds)\n",
    "plotDispEsts(cds)"
   ]
  },
  {
   "cell_type": "code",
   "execution_count": 50,
   "metadata": {},
   "outputs": [
    {
     "data": {
      "text/html": [
       "<table>\n",
       "<thead><tr><th scope=col>id</th><th scope=col>baseMean</th><th scope=col>baseMeanA</th><th scope=col>baseMeanB</th><th scope=col>foldChange</th><th scope=col>log2FoldChange</th><th scope=col>pval</th><th scope=col>padj</th></tr></thead>\n",
       "<tbody>\n",
       "\t<tr><td>A1BG        </td><td>   0.1630108</td><td>   0.00000  </td><td>   0.3260216</td><td>      Inf   </td><td>       Inf  </td><td>0.9897348   </td><td>1.0000000   </td></tr>\n",
       "\t<tr><td>A2M         </td><td>   8.6246102</td><td>  10.05862  </td><td>   7.1905978</td><td>0.7148690   </td><td>-0.4842492  </td><td>0.5673162   </td><td>0.9746172   </td></tr>\n",
       "\t<tr><td>A3GALT2     </td><td>   0.1633249</td><td>   0.00000  </td><td>   0.3266498</td><td>      Inf   </td><td>       Inf  </td><td>0.9948780   </td><td>1.0000000   </td></tr>\n",
       "\t<tr><td>A4GALT      </td><td>1822.6794976</td><td>1428.64706  </td><td>2216.7119351</td><td>1.5516162   </td><td> 0.6337718  </td><td>0.2453570   </td><td>0.8163825   </td></tr>\n",
       "\t<tr><td>AAAS        </td><td>1524.1272614</td><td>1634.43975  </td><td>1413.8147693</td><td>0.8650149   </td><td>-0.2092031  </td><td>0.7505064   </td><td>1.0000000   </td></tr>\n",
       "\t<tr><td>AACS        </td><td>1671.1642394</td><td>1386.63719  </td><td>1955.6912889</td><td>1.4103843   </td><td> 0.4960883  </td><td>0.3599146   </td><td>0.8695973   </td></tr>\n",
       "</tbody>\n",
       "</table>\n"
      ],
      "text/latex": [
       "\\begin{tabular}{r|llllllll}\n",
       " id & baseMean & baseMeanA & baseMeanB & foldChange & log2FoldChange & pval & padj\\\\\n",
       "\\hline\n",
       "\t A1BG         &    0.1630108 &    0.00000   &    0.3260216 &       Inf    &        Inf   & 0.9897348    & 1.0000000   \\\\\n",
       "\t A2M          &    8.6246102 &   10.05862   &    7.1905978 & 0.7148690    & -0.4842492   & 0.5673162    & 0.9746172   \\\\\n",
       "\t A3GALT2      &    0.1633249 &    0.00000   &    0.3266498 &       Inf    &        Inf   & 0.9948780    & 1.0000000   \\\\\n",
       "\t A4GALT       & 1822.6794976 & 1428.64706   & 2216.7119351 & 1.5516162    &  0.6337718   & 0.2453570    & 0.8163825   \\\\\n",
       "\t AAAS         & 1524.1272614 & 1634.43975   & 1413.8147693 & 0.8650149    & -0.2092031   & 0.7505064    & 1.0000000   \\\\\n",
       "\t AACS         & 1671.1642394 & 1386.63719   & 1955.6912889 & 1.4103843    &  0.4960883   & 0.3599146    & 0.8695973   \\\\\n",
       "\\end{tabular}\n"
      ],
      "text/markdown": [
       "\n",
       "| id | baseMean | baseMeanA | baseMeanB | foldChange | log2FoldChange | pval | padj |\n",
       "|---|---|---|---|---|---|---|---|\n",
       "| A1BG         |    0.1630108 |    0.00000   |    0.3260216 |       Inf    |        Inf   | 0.9897348    | 1.0000000    |\n",
       "| A2M          |    8.6246102 |   10.05862   |    7.1905978 | 0.7148690    | -0.4842492   | 0.5673162    | 0.9746172    |\n",
       "| A3GALT2      |    0.1633249 |    0.00000   |    0.3266498 |       Inf    |        Inf   | 0.9948780    | 1.0000000    |\n",
       "| A4GALT       | 1822.6794976 | 1428.64706   | 2216.7119351 | 1.5516162    |  0.6337718   | 0.2453570    | 0.8163825    |\n",
       "| AAAS         | 1524.1272614 | 1634.43975   | 1413.8147693 | 0.8650149    | -0.2092031   | 0.7505064    | 1.0000000    |\n",
       "| AACS         | 1671.1642394 | 1386.63719   | 1955.6912889 | 1.4103843    |  0.4960883   | 0.3599146    | 0.8695973    |\n",
       "\n"
      ],
      "text/plain": [
       "  id      baseMean     baseMeanA  baseMeanB    foldChange log2FoldChange\n",
       "1 A1BG       0.1630108    0.00000    0.3260216       Inf         Inf    \n",
       "2 A2M        8.6246102   10.05862    7.1905978 0.7148690  -0.4842492    \n",
       "3 A3GALT2    0.1633249    0.00000    0.3266498       Inf         Inf    \n",
       "4 A4GALT  1822.6794976 1428.64706 2216.7119351 1.5516162   0.6337718    \n",
       "5 AAAS    1524.1272614 1634.43975 1413.8147693 0.8650149  -0.2092031    \n",
       "6 AACS    1671.1642394 1386.63719 1955.6912889 1.4103843   0.4960883    \n",
       "  pval      padj     \n",
       "1 0.9897348 1.0000000\n",
       "2 0.5673162 0.9746172\n",
       "3 0.9948780 1.0000000\n",
       "4 0.2453570 0.8163825\n",
       "5 0.7505064 1.0000000\n",
       "6 0.3599146 0.8695973"
      ]
     },
     "metadata": {},
     "output_type": "display_data"
    }
   ],
   "source": [
    "## 1-5. DEG (none vs. oxaliplatin)\n",
    "# nbionomTest : DEG 계산\n",
    "# treatment의 none과 oxaliplatin 부분 볼 것 \n",
    "res_oxa = nbinomTest(cds, \"none\", \"oxaliplatin\")\n",
    "head(res_oxa) # padj은 FDR값"
   ]
  },
  {
   "cell_type": "code",
   "execution_count": 48,
   "metadata": {},
   "outputs": [
    {
     "data": {
      "image/png": "[encoded data removed]",
      "text/plain": [
       "plot without title"
      ]
     },
     "metadata": {},
     "output_type": "display_data"
    },
    {
     "data": {
      "image/png": "[encoded data removed]",
      "text/plain": [
       "Plot with title \"Histogram of res_oxa$log2FoldChange\""
      ]
     },
     "metadata": {},
     "output_type": "display_data"
    }
   ],
   "source": [
    "# 시각화 시켜 알아보기\n",
    "plotMA(res_oxa) # 빨갛게 보여지게 되는 것은 FDR 값이 0.1이하인 굉장히 유의한 수준에 있는 값들 나타냄\n",
    "hist(res_oxa$log2FoldChange, breaks = 100) # 실제적으로 FoldChange의 분포가 어찌되어있는지"
   ]
  },
  {
   "cell_type": "code",
   "execution_count": 54,
   "metadata": {},
   "outputs": [
    {
     "data": {
      "text/html": [
       "<ol class=list-inline>\n",
       "\t<li>204</li>\n",
       "\t<li>8</li>\n",
       "</ol>\n"
      ],
      "text/latex": [
       "\\begin{enumerate*}\n",
       "\\item 204\n",
       "\\item 8\n",
       "\\end{enumerate*}\n"
      ],
      "text/markdown": [
       "1. 204\n",
       "2. 8\n",
       "\n",
       "\n"
      ],
      "text/plain": [
       "[1] 204   8"
      ]
     },
     "metadata": {},
     "output_type": "display_data"
    },
    {
     "data": {
      "text/html": [
       "<table>\n",
       "<thead><tr><th></th><th scope=col>id</th><th scope=col>baseMean</th><th scope=col>baseMeanA</th><th scope=col>baseMeanB</th><th scope=col>foldChange</th><th scope=col>log2FoldChange</th><th scope=col>pval</th><th scope=col>padj</th></tr></thead>\n",
       "<tbody>\n",
       "\t<tr><th scope=row>56</th><td>ABCG1       </td><td>243.26597   </td><td> 20.55619   </td><td>465.975761  </td><td>22.6683937  </td><td> 4.502610   </td><td>2.487432e-11</td><td>1.255075e-07</td></tr>\n",
       "\t<tr><th scope=row>167</th><td>ACTC1       </td><td> 76.29512   </td><td>119.66314   </td><td> 32.927096  </td><td> 0.2751649  </td><td>-1.861632   </td><td>4.600288e-03</td><td>3.516897e-01</td></tr>\n",
       "\t<tr><th scope=row>169</th><td>ACTG2       </td><td> 34.87395   </td><td> 61.51969   </td><td>  8.228209  </td><td> 0.1337492  </td><td>-2.902398   </td><td>4.889297e-04</td><td>8.132889e-02</td></tr>\n",
       "\t<tr><th scope=row>262</th><td>ADGRG3      </td><td>100.11572   </td><td> 19.40321   </td><td>180.828240  </td><td> 9.3195033  </td><td> 3.220253   </td><td>1.412589e-06</td><td>1.045246e-03</td></tr>\n",
       "\t<tr><th scope=row>282</th><td>ADM2        </td><td>138.00102   </td><td> 53.94030   </td><td>222.061747  </td><td> 4.1168060  </td><td> 2.041525   </td><td>8.338211e-04</td><td>1.179584e-01</td></tr>\n",
       "\t<tr><th scope=row>287</th><td>ADORA1      </td><td>268.48095   </td><td>129.46650   </td><td>407.495392  </td><td> 3.1474968  </td><td> 1.654205   </td><td>3.954319e-03</td><td>3.235488e-01</td></tr>\n",
       "</tbody>\n",
       "</table>\n"
      ],
      "text/latex": [
       "\\begin{tabular}{r|llllllll}\n",
       "  & id & baseMean & baseMeanA & baseMeanB & foldChange & log2FoldChange & pval & padj\\\\\n",
       "\\hline\n",
       "\t56 & ABCG1        & 243.26597    &  20.55619    & 465.975761   & 22.6683937   &  4.502610    & 2.487432e-11 & 1.255075e-07\\\\\n",
       "\t167 & ACTC1        &  76.29512    & 119.66314    &  32.927096   &  0.2751649   & -1.861632    & 4.600288e-03 & 3.516897e-01\\\\\n",
       "\t169 & ACTG2        &  34.87395    &  61.51969    &   8.228209   &  0.1337492   & -2.902398    & 4.889297e-04 & 8.132889e-02\\\\\n",
       "\t262 & ADGRG3       & 100.11572    &  19.40321    & 180.828240   &  9.3195033   &  3.220253    & 1.412589e-06 & 1.045246e-03\\\\\n",
       "\t282 & ADM2         & 138.00102    &  53.94030    & 222.061747   &  4.1168060   &  2.041525    & 8.338211e-04 & 1.179584e-01\\\\\n",
       "\t287 & ADORA1       & 268.48095    & 129.46650    & 407.495392   &  3.1474968   &  1.654205    & 3.954319e-03 & 3.235488e-01\\\\\n",
       "\\end{tabular}\n"
      ],
      "text/markdown": [
       "\n",
       "| <!--/--> | id | baseMean | baseMeanA | baseMeanB | foldChange | log2FoldChange | pval | padj |\n",
       "|---|---|---|---|---|---|---|---|---|\n",
       "| 56 | ABCG1        | 243.26597    |  20.55619    | 465.975761   | 22.6683937   |  4.502610    | 2.487432e-11 | 1.255075e-07 |\n",
       "| 167 | ACTC1        |  76.29512    | 119.66314    |  32.927096   |  0.2751649   | -1.861632    | 4.600288e-03 | 3.516897e-01 |\n",
       "| 169 | ACTG2        |  34.87395    |  61.51969    |   8.228209   |  0.1337492   | -2.902398    | 4.889297e-04 | 8.132889e-02 |\n",
       "| 262 | ADGRG3       | 100.11572    |  19.40321    | 180.828240   |  9.3195033   |  3.220253    | 1.412589e-06 | 1.045246e-03 |\n",
       "| 282 | ADM2         | 138.00102    |  53.94030    | 222.061747   |  4.1168060   |  2.041525    | 8.338211e-04 | 1.179584e-01 |\n",
       "| 287 | ADORA1       | 268.48095    | 129.46650    | 407.495392   |  3.1474968   |  1.654205    | 3.954319e-03 | 3.235488e-01 |\n",
       "\n"
      ],
      "text/plain": [
       "    id     baseMean  baseMeanA baseMeanB  foldChange log2FoldChange\n",
       "56  ABCG1  243.26597  20.55619 465.975761 22.6683937  4.502610     \n",
       "167 ACTC1   76.29512 119.66314  32.927096  0.2751649 -1.861632     \n",
       "169 ACTG2   34.87395  61.51969   8.228209  0.1337492 -2.902398     \n",
       "262 ADGRG3 100.11572  19.40321 180.828240  9.3195033  3.220253     \n",
       "282 ADM2   138.00102  53.94030 222.061747  4.1168060  2.041525     \n",
       "287 ADORA1 268.48095 129.46650 407.495392  3.1474968  1.654205     \n",
       "    pval         padj        \n",
       "56  2.487432e-11 1.255075e-07\n",
       "167 4.600288e-03 3.516897e-01\n",
       "169 4.889297e-04 8.132889e-02\n",
       "262 1.412589e-06 1.045246e-03\n",
       "282 8.338211e-04 1.179584e-01\n",
       "287 3.954319e-03 3.235488e-01"
      ]
     },
     "metadata": {},
     "output_type": "display_data"
    }
   ],
   "source": [
    "## filtering\n",
    "# abs : 절대값 씌워준 것\n",
    "fil.res_oxa = res_oxa[which(abs(res_oxa$log2FoldChange) > 1 & res_oxa$pval < 0.005), ]\n",
    "dim(fil.res_oxa) # 위의 기준에 만족하는 것들만 나올 것\n",
    "head(fil.res_oxa) # log2FoldChange, pval가 위의 기준에 만족한 것들만 나온 것을 볼 수 있음 "
   ]
  },
  {
   "cell_type": "code",
   "execution_count": 65,
   "metadata": {},
   "outputs": [
    {
     "data": {
      "text/html": [
       "<ol class=list-inline>\n",
       "\t<li>100</li>\n",
       "\t<li>8</li>\n",
       "</ol>\n"
      ],
      "text/latex": [
       "\\begin{enumerate*}\n",
       "\\item 100\n",
       "\\item 8\n",
       "\\end{enumerate*}\n"
      ],
      "text/markdown": [
       "1. 100\n",
       "2. 8\n",
       "\n",
       "\n"
      ],
      "text/plain": [
       "[1] 100   8"
      ]
     },
     "metadata": {},
     "output_type": "display_data"
    },
    {
     "data": {
      "text/html": [
       "<table>\n",
       "<thead><tr><th></th><th scope=col>id</th><th scope=col>baseMean</th><th scope=col>baseMeanA</th><th scope=col>baseMeanB</th><th scope=col>foldChange</th><th scope=col>log2FoldChange</th><th scope=col>pval</th><th scope=col>padj</th></tr></thead>\n",
       "<tbody>\n",
       "\t<tr><th scope=row>56</th><td>ABCG1       </td><td>243.26597   </td><td> 20.55619   </td><td>465.975761  </td><td>22.66839369 </td><td> 4.502610   </td><td>2.487432e-11</td><td>1.255075e-07</td></tr>\n",
       "\t<tr><th scope=row>169</th><td>ACTG2       </td><td> 34.87395   </td><td> 61.51969   </td><td>  8.228209  </td><td> 0.13374921 </td><td>-2.902398   </td><td>4.889297e-04</td><td>8.132889e-02</td></tr>\n",
       "\t<tr><th scope=row>262</th><td>ADGRG3      </td><td>100.11572   </td><td> 19.40321   </td><td>180.828240  </td><td> 9.31950334 </td><td> 3.220253   </td><td>1.412589e-06</td><td>1.045246e-03</td></tr>\n",
       "\t<tr><th scope=row>368</th><td>AHRR        </td><td>347.71545   </td><td>576.40622   </td><td>119.024685  </td><td> 0.20649445 </td><td>-2.275825   </td><td>1.949343e-04</td><td>4.539569e-02</td></tr>\n",
       "\t<tr><th scope=row>413</th><td>AKR1B10     </td><td> 23.11726   </td><td> 40.31204   </td><td>  5.922472  </td><td> 0.14691568 </td><td>-2.766940   </td><td>5.211577e-04</td><td>8.392303e-02</td></tr>\n",
       "\t<tr><th scope=row>487</th><td>ALPP        </td><td>322.59312   </td><td>617.25440   </td><td> 27.931842  </td><td> 0.04525175 </td><td>-4.465883   </td><td>1.038113e-07</td><td>1.571392e-04</td></tr>\n",
       "</tbody>\n",
       "</table>\n"
      ],
      "text/latex": [
       "\\begin{tabular}{r|llllllll}\n",
       "  & id & baseMean & baseMeanA & baseMeanB & foldChange & log2FoldChange & pval & padj\\\\\n",
       "\\hline\n",
       "\t56 & ABCG1        & 243.26597    &  20.55619    & 465.975761   & 22.66839369  &  4.502610    & 2.487432e-11 & 1.255075e-07\\\\\n",
       "\t169 & ACTG2        &  34.87395    &  61.51969    &   8.228209   &  0.13374921  & -2.902398    & 4.889297e-04 & 8.132889e-02\\\\\n",
       "\t262 & ADGRG3       & 100.11572    &  19.40321    & 180.828240   &  9.31950334  &  3.220253    & 1.412589e-06 & 1.045246e-03\\\\\n",
       "\t368 & AHRR         & 347.71545    & 576.40622    & 119.024685   &  0.20649445  & -2.275825    & 1.949343e-04 & 4.539569e-02\\\\\n",
       "\t413 & AKR1B10      &  23.11726    &  40.31204    &   5.922472   &  0.14691568  & -2.766940    & 5.211577e-04 & 8.392303e-02\\\\\n",
       "\t487 & ALPP         & 322.59312    & 617.25440    &  27.931842   &  0.04525175  & -4.465883    & 1.038113e-07 & 1.571392e-04\\\\\n",
       "\\end{tabular}\n"
      ],
      "text/markdown": [
       "\n",
       "| <!--/--> | id | baseMean | baseMeanA | baseMeanB | foldChange | log2FoldChange | pval | padj |\n",
       "|---|---|---|---|---|---|---|---|---|\n",
       "| 56 | ABCG1        | 243.26597    |  20.55619    | 465.975761   | 22.66839369  |  4.502610    | 2.487432e-11 | 1.255075e-07 |\n",
       "| 169 | ACTG2        |  34.87395    |  61.51969    |   8.228209   |  0.13374921  | -2.902398    | 4.889297e-04 | 8.132889e-02 |\n",
       "| 262 | ADGRG3       | 100.11572    |  19.40321    | 180.828240   |  9.31950334  |  3.220253    | 1.412589e-06 | 1.045246e-03 |\n",
       "| 368 | AHRR         | 347.71545    | 576.40622    | 119.024685   |  0.20649445  | -2.275825    | 1.949343e-04 | 4.539569e-02 |\n",
       "| 413 | AKR1B10      |  23.11726    |  40.31204    |   5.922472   |  0.14691568  | -2.766940    | 5.211577e-04 | 8.392303e-02 |\n",
       "| 487 | ALPP         | 322.59312    | 617.25440    |  27.931842   |  0.04525175  | -4.465883    | 1.038113e-07 | 1.571392e-04 |\n",
       "\n"
      ],
      "text/plain": [
       "    id      baseMean  baseMeanA baseMeanB  foldChange  log2FoldChange\n",
       "56  ABCG1   243.26597  20.55619 465.975761 22.66839369  4.502610     \n",
       "169 ACTG2    34.87395  61.51969   8.228209  0.13374921 -2.902398     \n",
       "262 ADGRG3  100.11572  19.40321 180.828240  9.31950334  3.220253     \n",
       "368 AHRR    347.71545 576.40622 119.024685  0.20649445 -2.275825     \n",
       "413 AKR1B10  23.11726  40.31204   5.922472  0.14691568 -2.766940     \n",
       "487 ALPP    322.59312 617.25440  27.931842  0.04525175 -4.465883     \n",
       "    pval         padj        \n",
       "56  2.487432e-11 1.255075e-07\n",
       "169 4.889297e-04 8.132889e-02\n",
       "262 1.412589e-06 1.045246e-03\n",
       "368 1.949343e-04 4.539569e-02\n",
       "413 5.211577e-04 8.392303e-02\n",
       "487 1.038113e-07 1.571392e-04"
      ]
     },
     "metadata": {},
     "output_type": "display_data"
    },
    {
     "data": {
      "text/html": [
       "100"
      ],
      "text/latex": [
       "100"
      ],
      "text/markdown": [
       "100"
      ],
      "text/plain": [
       "[1] 100"
      ]
     },
     "metadata": {},
     "output_type": "display_data"
    },
    {
     "data": {
      "text/html": [
       "<ol class=list-inline>\n",
       "\t<li>'ABCG1'</li>\n",
       "\t<li>'ACTG2'</li>\n",
       "\t<li>'ADGRG3'</li>\n",
       "\t<li>'AHRR'</li>\n",
       "\t<li>'AKR1B10'</li>\n",
       "\t<li>'ALPP'</li>\n",
       "</ol>\n"
      ],
      "text/latex": [
       "\\begin{enumerate*}\n",
       "\\item 'ABCG1'\n",
       "\\item 'ACTG2'\n",
       "\\item 'ADGRG3'\n",
       "\\item 'AHRR'\n",
       "\\item 'AKR1B10'\n",
       "\\item 'ALPP'\n",
       "\\end{enumerate*}\n"
      ],
      "text/markdown": [
       "1. 'ABCG1'\n",
       "2. 'ACTG2'\n",
       "3. 'ADGRG3'\n",
       "4. 'AHRR'\n",
       "5. 'AKR1B10'\n",
       "6. 'ALPP'\n",
       "\n",
       "\n"
      ],
      "text/plain": [
       "[1] \"ABCG1\"   \"ACTG2\"   \"ADGRG3\"  \"AHRR\"    \"AKR1B10\" \"ALPP\"   "
      ]
     },
     "metadata": {},
     "output_type": "display_data"
    }
   ],
   "source": [
    "## significant genes\n",
    "# 위의 조건보다 더 구체적으로 filtering 하기\n",
    "sig.oxa_df = res_oxa[which(abs(res_oxa$log2FoldChange) > 1 & res_oxa$pval < 0.05 & res_oxa$padj < 0.1), ]\n",
    "dim(sig.oxa_df)\n",
    "head(sig.oxa_df)\n",
    "\n",
    "# 위의 조건에 해당하는 id만 가져오고 싶을떄\n",
    "sig.oxa = res_oxa$id[which(abs(res_oxa$log2FoldChange) > 1 & res_oxa$pval < 0.05 & res_oxa$padj < 0.1)]\n",
    "length(sig.oxa)\n",
    "head(sig.oxa)"
   ]
  },
  {
   "cell_type": "code",
   "execution_count": 66,
   "metadata": {},
   "outputs": [
    {
     "data": {
      "text/html": [
       "<table>\n",
       "<thead><tr><th></th><th scope=col>Sample_97L_1</th><th scope=col>Sample_97L_2</th><th scope=col>Sample_97L_3</th><th scope=col>Sample_97L_P_AC_1</th><th scope=col>Sample_97L_P_AC_2</th><th scope=col>Sample_97L_P_AC_3</th><th scope=col>Sample_97L_P_SRC_1</th><th scope=col>Sample_97L_P_SRC_2</th><th scope=col>Sample_97L_P_SRC_3</th></tr></thead>\n",
       "<tbody>\n",
       "\t<tr><th scope=row>A1BG</th><td>  0.00000   </td><td>   0.000000 </td><td>   0.0000   </td><td>   0.0000000</td><td>   0.9780649</td><td>   0.000000 </td><td>   3.151802 </td><td>   1.256601 </td><td>   0.00000  </td></tr>\n",
       "\t<tr><th scope=row>A2M</th><td> 14.62833   </td><td>   3.177437 </td><td>  12.3701   </td><td>  15.6791893</td><td>   4.8903247</td><td>   1.002279 </td><td>  21.012010 </td><td>  33.928220 </td><td>  22.45074  </td></tr>\n",
       "\t<tr><th scope=row>A3GALT2</th><td>  0.00000   </td><td>   0.000000 </td><td>   0.0000   </td><td>   0.9799493</td><td>   0.0000000</td><td>   0.000000 </td><td>   1.050601 </td><td>   0.000000 </td><td>   0.00000  </td></tr>\n",
       "\t<tr><th scope=row>A4GALT</th><td>937.93404   </td><td>1699.928988 </td><td>1648.0782   </td><td>2241.1441269</td><td>2228.0319454</td><td>2180.959733 </td><td>1495.004526 </td><td>2085.957235 </td><td>1404.63518  </td></tr>\n",
       "\t<tr><th scope=row>AAAS</th><td>974.93510   </td><td>1961.537998 </td><td>1966.8462   </td><td>1387.6082570</td><td>1362.4444688</td><td>1491.391582 </td><td>1992.989168 </td><td>2565.978720 </td><td>1497.36648  </td></tr>\n",
       "\t<tr><th scope=row>AACS</th><td>996.44735   </td><td>1672.391198 </td><td>1491.0730   </td><td>1916.7808974</td><td>1930.7002020</td><td>2019.592767 </td><td>1783.919666 </td><td>2111.089250 </td><td>1863.41109  </td></tr>\n",
       "</tbody>\n",
       "</table>\n"
      ],
      "text/latex": [
       "\\begin{tabular}{r|lllllllll}\n",
       "  & Sample\\_97L\\_1 & Sample\\_97L\\_2 & Sample\\_97L\\_3 & Sample\\_97L\\_P\\_AC\\_1 & Sample\\_97L\\_P\\_AC\\_2 & Sample\\_97L\\_P\\_AC\\_3 & Sample\\_97L\\_P\\_SRC\\_1 & Sample\\_97L\\_P\\_SRC\\_2 & Sample\\_97L\\_P\\_SRC\\_3\\\\\n",
       "\\hline\n",
       "\tA1BG &   0.00000    &    0.000000  &    0.0000    &    0.0000000 &    0.9780649 &    0.000000  &    3.151802  &    1.256601  &    0.00000  \\\\\n",
       "\tA2M &  14.62833    &    3.177437  &   12.3701    &   15.6791893 &    4.8903247 &    1.002279  &   21.012010  &   33.928220  &   22.45074  \\\\\n",
       "\tA3GALT2 &   0.00000    &    0.000000  &    0.0000    &    0.9799493 &    0.0000000 &    0.000000  &    1.050601  &    0.000000  &    0.00000  \\\\\n",
       "\tA4GALT & 937.93404    & 1699.928988  & 1648.0782    & 2241.1441269 & 2228.0319454 & 2180.959733  & 1495.004526  & 2085.957235  & 1404.63518  \\\\\n",
       "\tAAAS & 974.93510    & 1961.537998  & 1966.8462    & 1387.6082570 & 1362.4444688 & 1491.391582  & 1992.989168  & 2565.978720  & 1497.36648  \\\\\n",
       "\tAACS & 996.44735    & 1672.391198  & 1491.0730    & 1916.7808974 & 1930.7002020 & 2019.592767  & 1783.919666  & 2111.089250  & 1863.41109  \\\\\n",
       "\\end{tabular}\n"
      ],
      "text/markdown": [
       "\n",
       "| <!--/--> | Sample_97L_1 | Sample_97L_2 | Sample_97L_3 | Sample_97L_P_AC_1 | Sample_97L_P_AC_2 | Sample_97L_P_AC_3 | Sample_97L_P_SRC_1 | Sample_97L_P_SRC_2 | Sample_97L_P_SRC_3 |\n",
       "|---|---|---|---|---|---|---|---|---|---|\n",
       "| A1BG |   0.00000    |    0.000000  |    0.0000    |    0.0000000 |    0.9780649 |    0.000000  |    3.151802  |    1.256601  |    0.00000   |\n",
       "| A2M |  14.62833    |    3.177437  |   12.3701    |   15.6791893 |    4.8903247 |    1.002279  |   21.012010  |   33.928220  |   22.45074   |\n",
       "| A3GALT2 |   0.00000    |    0.000000  |    0.0000    |    0.9799493 |    0.0000000 |    0.000000  |    1.050601  |    0.000000  |    0.00000   |\n",
       "| A4GALT | 937.93404    | 1699.928988  | 1648.0782    | 2241.1441269 | 2228.0319454 | 2180.959733  | 1495.004526  | 2085.957235  | 1404.63518   |\n",
       "| AAAS | 974.93510    | 1961.537998  | 1966.8462    | 1387.6082570 | 1362.4444688 | 1491.391582  | 1992.989168  | 2565.978720  | 1497.36648   |\n",
       "| AACS | 996.44735    | 1672.391198  | 1491.0730    | 1916.7808974 | 1930.7002020 | 2019.592767  | 1783.919666  | 2111.089250  | 1863.41109   |\n",
       "\n"
      ],
      "text/plain": [
       "        Sample_97L_1 Sample_97L_2 Sample_97L_3 Sample_97L_P_AC_1\n",
       "A1BG      0.00000       0.000000     0.0000       0.0000000     \n",
       "A2M      14.62833       3.177437    12.3701      15.6791893     \n",
       "A3GALT2   0.00000       0.000000     0.0000       0.9799493     \n",
       "A4GALT  937.93404    1699.928988  1648.0782    2241.1441269     \n",
       "AAAS    974.93510    1961.537998  1966.8462    1387.6082570     \n",
       "AACS    996.44735    1672.391198  1491.0730    1916.7808974     \n",
       "        Sample_97L_P_AC_2 Sample_97L_P_AC_3 Sample_97L_P_SRC_1\n",
       "A1BG       0.9780649         0.000000          3.151802       \n",
       "A2M        4.8903247         1.002279         21.012010       \n",
       "A3GALT2    0.0000000         0.000000          1.050601       \n",
       "A4GALT  2228.0319454      2180.959733       1495.004526       \n",
       "AAAS    1362.4444688      1491.391582       1992.989168       \n",
       "AACS    1930.7002020      2019.592767       1783.919666       \n",
       "        Sample_97L_P_SRC_2 Sample_97L_P_SRC_3\n",
       "A1BG       1.256601           0.00000        \n",
       "A2M       33.928220          22.45074        \n",
       "A3GALT2    0.000000           0.00000        \n",
       "A4GALT  2085.957235        1404.63518        \n",
       "AAAS    2565.978720        1497.36648        \n",
       "AACS    2111.089250        1863.41109        "
      ]
     },
     "metadata": {},
     "output_type": "display_data"
    },
    {
     "data": {
      "text/html": [
       "<ol class=list-inline>\n",
       "\t<li>0</li>\n",
       "\t<li>470145.859049759</li>\n",
       "</ol>\n"
      ],
      "text/latex": [
       "\\begin{enumerate*}\n",
       "\\item 0\n",
       "\\item 470145.859049759\n",
       "\\end{enumerate*}\n"
      ],
      "text/markdown": [
       "1. 0\n",
       "2. 470145.859049759\n",
       "\n",
       "\n"
      ],
      "text/plain": [
       "[1]      0.0 470145.9"
      ]
     },
     "metadata": {},
     "output_type": "display_data"
    },
    {
     "data": {
      "image/png": "[encoded data removed]",
      "text/plain": [
       "Plot with title \"Histogram of exp\""
      ]
     },
     "metadata": {},
     "output_type": "display_data"
    }
   ],
   "source": [
    "## HEATMAP\n",
    "# 위 100개의 유전자가 정말 유의한지 heatmap을 통해서 알아보기\n",
    "# normalized data가져오기\n",
    "\n",
    "exp = counts(cds, normalized=TRUE)\n",
    "head(exp)\n",
    "range(exp) # 범위가 0 - 470145까지 너무 넓음\n",
    "hist(exp, breaks = 100) # hist를 봐도 0에 모여있음 -> log2로 변환시켜줘야함"
   ]
  },
  {
   "cell_type": "code",
   "execution_count": 67,
   "metadata": {},
   "outputs": [
    {
     "data": {
      "text/html": [
       "<table>\n",
       "<thead><tr><th></th><th scope=col>Sample_97L_1</th><th scope=col>Sample_97L_2</th><th scope=col>Sample_97L_3</th><th scope=col>Sample_97L_P_AC_1</th><th scope=col>Sample_97L_P_AC_2</th><th scope=col>Sample_97L_P_AC_3</th><th scope=col>Sample_97L_P_SRC_1</th><th scope=col>Sample_97L_P_SRC_2</th><th scope=col>Sample_97L_P_SRC_3</th></tr></thead>\n",
       "<tbody>\n",
       "\t<tr><th scope=row>A1BG</th><td>0.000000  </td><td> 0.000000 </td><td> 0.000000 </td><td> 0.0000000</td><td> 0.9840898</td><td> 0.000000 </td><td> 2.053737 </td><td> 1.174151 </td><td> 0.000000 </td></tr>\n",
       "\t<tr><th scope=row>A2M</th><td>3.966092  </td><td> 2.062618 </td><td> 3.740939 </td><td> 4.0599773</td><td> 2.5583472</td><td> 1.001643 </td><td> 4.460219 </td><td> 5.126321 </td><td> 4.551561 </td></tr>\n",
       "\t<tr><th scope=row>A3GALT2</th><td>0.000000  </td><td> 0.000000 </td><td> 0.000000 </td><td> 0.9854635</td><td> 0.0000000</td><td> 0.000000 </td><td> 1.036046 </td><td> 0.000000 </td><td> 0.000000 </td></tr>\n",
       "\t<tr><th scope=row>A4GALT</th><td>9.874880  </td><td>10.732107 </td><td>10.687444 </td><td>11.1306633</td><td>11.1222016</td><td>11.091409 </td><td>10.546899 </td><td>11.027185 </td><td>10.457006 </td></tr>\n",
       "\t<tr><th scope=row>AAAS</th><td>9.930641  </td><td>10.938505 </td><td>10.942402 </td><td>10.4394239</td><td>10.4130402</td><td>10.543410 </td><td>10.961442 </td><td>11.325856 </td><td>10.549175 </td></tr>\n",
       "\t<tr><th scope=row>AACS</th><td>9.962097  </td><td>10.708559 </td><td>10.543102 </td><td>10.9052222</td><td>10.9156555</td><td>10.980563 </td><td>10.801643 </td><td>11.044455 </td><td>10.864504 </td></tr>\n",
       "</tbody>\n",
       "</table>\n"
      ],
      "text/latex": [
       "\\begin{tabular}{r|lllllllll}\n",
       "  & Sample\\_97L\\_1 & Sample\\_97L\\_2 & Sample\\_97L\\_3 & Sample\\_97L\\_P\\_AC\\_1 & Sample\\_97L\\_P\\_AC\\_2 & Sample\\_97L\\_P\\_AC\\_3 & Sample\\_97L\\_P\\_SRC\\_1 & Sample\\_97L\\_P\\_SRC\\_2 & Sample\\_97L\\_P\\_SRC\\_3\\\\\n",
       "\\hline\n",
       "\tA1BG & 0.000000   &  0.000000  &  0.000000  &  0.0000000 &  0.9840898 &  0.000000  &  2.053737  &  1.174151  &  0.000000 \\\\\n",
       "\tA2M & 3.966092   &  2.062618  &  3.740939  &  4.0599773 &  2.5583472 &  1.001643  &  4.460219  &  5.126321  &  4.551561 \\\\\n",
       "\tA3GALT2 & 0.000000   &  0.000000  &  0.000000  &  0.9854635 &  0.0000000 &  0.000000  &  1.036046  &  0.000000  &  0.000000 \\\\\n",
       "\tA4GALT & 9.874880   & 10.732107  & 10.687444  & 11.1306633 & 11.1222016 & 11.091409  & 10.546899  & 11.027185  & 10.457006 \\\\\n",
       "\tAAAS & 9.930641   & 10.938505  & 10.942402  & 10.4394239 & 10.4130402 & 10.543410  & 10.961442  & 11.325856  & 10.549175 \\\\\n",
       "\tAACS & 9.962097   & 10.708559  & 10.543102  & 10.9052222 & 10.9156555 & 10.980563  & 10.801643  & 11.044455  & 10.864504 \\\\\n",
       "\\end{tabular}\n"
      ],
      "text/markdown": [
       "\n",
       "| <!--/--> | Sample_97L_1 | Sample_97L_2 | Sample_97L_3 | Sample_97L_P_AC_1 | Sample_97L_P_AC_2 | Sample_97L_P_AC_3 | Sample_97L_P_SRC_1 | Sample_97L_P_SRC_2 | Sample_97L_P_SRC_3 |\n",
       "|---|---|---|---|---|---|---|---|---|---|\n",
       "| A1BG | 0.000000   |  0.000000  |  0.000000  |  0.0000000 |  0.9840898 |  0.000000  |  2.053737  |  1.174151  |  0.000000  |\n",
       "| A2M | 3.966092   |  2.062618  |  3.740939  |  4.0599773 |  2.5583472 |  1.001643  |  4.460219  |  5.126321  |  4.551561  |\n",
       "| A3GALT2 | 0.000000   |  0.000000  |  0.000000  |  0.9854635 |  0.0000000 |  0.000000  |  1.036046  |  0.000000  |  0.000000  |\n",
       "| A4GALT | 9.874880   | 10.732107  | 10.687444  | 11.1306633 | 11.1222016 | 11.091409  | 10.546899  | 11.027185  | 10.457006  |\n",
       "| AAAS | 9.930641   | 10.938505  | 10.942402  | 10.4394239 | 10.4130402 | 10.543410  | 10.961442  | 11.325856  | 10.549175  |\n",
       "| AACS | 9.962097   | 10.708559  | 10.543102  | 10.9052222 | 10.9156555 | 10.980563  | 10.801643  | 11.044455  | 10.864504  |\n",
       "\n"
      ],
      "text/plain": [
       "        Sample_97L_1 Sample_97L_2 Sample_97L_3 Sample_97L_P_AC_1\n",
       "A1BG    0.000000      0.000000     0.000000     0.0000000       \n",
       "A2M     3.966092      2.062618     3.740939     4.0599773       \n",
       "A3GALT2 0.000000      0.000000     0.000000     0.9854635       \n",
       "A4GALT  9.874880     10.732107    10.687444    11.1306633       \n",
       "AAAS    9.930641     10.938505    10.942402    10.4394239       \n",
       "AACS    9.962097     10.708559    10.543102    10.9052222       \n",
       "        Sample_97L_P_AC_2 Sample_97L_P_AC_3 Sample_97L_P_SRC_1\n",
       "A1BG     0.9840898         0.000000          2.053737         \n",
       "A2M      2.5583472         1.001643          4.460219         \n",
       "A3GALT2  0.0000000         0.000000          1.036046         \n",
       "A4GALT  11.1222016        11.091409         10.546899         \n",
       "AAAS    10.4130402        10.543410         10.961442         \n",
       "AACS    10.9156555        10.980563         10.801643         \n",
       "        Sample_97L_P_SRC_2 Sample_97L_P_SRC_3\n",
       "A1BG     1.174151           0.000000         \n",
       "A2M      5.126321           4.551561         \n",
       "A3GALT2  0.000000           0.000000         \n",
       "A4GALT  11.027185          10.457006         \n",
       "AAAS    11.325856          10.549175         \n",
       "AACS    11.044455          10.864504         "
      ]
     },
     "metadata": {},
     "output_type": "display_data"
    },
    {
     "data": {
      "image/png": "[encoded data removed]",
      "text/plain": [
       "Plot with title \"Histogram of exp.log\""
      ]
     },
     "metadata": {},
     "output_type": "display_data"
    }
   ],
   "source": [
    "# data값을 log2로 변환시키기\n",
    "exp.log = log2(exp+1) # 0값이 들어가있으므로 +1 시켜주기 \n",
    "head(exp.log) # log값으로 변환되어 scale값이 줄어듦\n",
    "hist(exp.log, breaks=100) # 0값이 많긴하지만, 정규분포의 형태를 띄는 것을 볼 수 있음"
   ]
  },
  {
   "cell_type": "code",
   "execution_count": 74,
   "metadata": {},
   "outputs": [
    {
     "data": {
      "text/html": [
       "<ol class=list-inline>\n",
       "\t<li>'Sample_97L_1'</li>\n",
       "\t<li>'Sample_97L_2'</li>\n",
       "\t<li>'Sample_97L_3'</li>\n",
       "\t<li>'Sample_97L_P_AC_1'</li>\n",
       "\t<li>'Sample_97L_P_AC_2'</li>\n",
       "\t<li>'Sample_97L_P_AC_3'</li>\n",
       "\t<li>'Sample_97L_P_SRC_1'</li>\n",
       "\t<li>'Sample_97L_P_SRC_2'</li>\n",
       "\t<li>'Sample_97L_P_SRC_3'</li>\n",
       "</ol>\n"
      ],
      "text/latex": [
       "\\begin{enumerate*}\n",
       "\\item 'Sample\\_97L\\_1'\n",
       "\\item 'Sample\\_97L\\_2'\n",
       "\\item 'Sample\\_97L\\_3'\n",
       "\\item 'Sample\\_97L\\_P\\_AC\\_1'\n",
       "\\item 'Sample\\_97L\\_P\\_AC\\_2'\n",
       "\\item 'Sample\\_97L\\_P\\_AC\\_3'\n",
       "\\item 'Sample\\_97L\\_P\\_SRC\\_1'\n",
       "\\item 'Sample\\_97L\\_P\\_SRC\\_2'\n",
       "\\item 'Sample\\_97L\\_P\\_SRC\\_3'\n",
       "\\end{enumerate*}\n"
      ],
      "text/markdown": [
       "1. 'Sample_97L_1'\n",
       "2. 'Sample_97L_2'\n",
       "3. 'Sample_97L_3'\n",
       "4. 'Sample_97L_P_AC_1'\n",
       "5. 'Sample_97L_P_AC_2'\n",
       "6. 'Sample_97L_P_AC_3'\n",
       "7. 'Sample_97L_P_SRC_1'\n",
       "8. 'Sample_97L_P_SRC_2'\n",
       "9. 'Sample_97L_P_SRC_3'\n",
       "\n",
       "\n"
      ],
      "text/plain": [
       "[1] \"Sample_97L_1\"       \"Sample_97L_2\"       \"Sample_97L_3\"      \n",
       "[4] \"Sample_97L_P_AC_1\"  \"Sample_97L_P_AC_2\"  \"Sample_97L_P_AC_3\" \n",
       "[7] \"Sample_97L_P_SRC_1\" \"Sample_97L_P_SRC_2\" \"Sample_97L_P_SRC_3\""
      ]
     },
     "metadata": {},
     "output_type": "display_data"
    },
    {
     "data": {
      "text/html": [
       "<ol class=list-inline>\n",
       "\t<li>100</li>\n",
       "\t<li>9</li>\n",
       "</ol>\n"
      ],
      "text/latex": [
       "\\begin{enumerate*}\n",
       "\\item 100\n",
       "\\item 9\n",
       "\\end{enumerate*}\n"
      ],
      "text/markdown": [
       "1. 100\n",
       "2. 9\n",
       "\n",
       "\n"
      ],
      "text/plain": [
       "[1] 100   9"
      ]
     },
     "metadata": {},
     "output_type": "display_data"
    },
    {
     "data": {
      "text/html": [
       "<ol class=list-inline>\n",
       "\t<li>0</li>\n",
       "\t<li>13.817968517433</li>\n",
       "</ol>\n"
      ],
      "text/latex": [
       "\\begin{enumerate*}\n",
       "\\item 0\n",
       "\\item 13.817968517433\n",
       "\\end{enumerate*}\n"
      ],
      "text/markdown": [
       "1. 0\n",
       "2. 13.817968517433\n",
       "\n",
       "\n"
      ],
      "text/plain": [
       "[1]  0.00000 13.81797"
      ]
     },
     "metadata": {},
     "output_type": "display_data"
    }
   ],
   "source": [
    "## filtering\n",
    "# 목적 : 100개의 유전자 이용해서 heatmap으로 보이고 싶어하는 것 \n",
    "colnames(exp.log) # 총 9개의 data, but 내가 분석한 데이터100개는 control과 oxaliplatin만 가져온 data\n",
    "sig.exp.oxa = exp.log[sig.oxa, ] \n",
    "dim(sig.exp.oxa)\n",
    "range(sig.exp.oxa) # 0부터 13까지 분포가 되어있음"
   ]
  },
  {
   "cell_type": "code",
   "execution_count": 75,
   "metadata": {},
   "outputs": [
    {
     "data": {
      "image/png": "[encoded data removed]",
      "text/plain": [
       "Plot with title \"Color Key\""
      ]
     },
     "metadata": {},
     "output_type": "display_data"
    }
   ],
   "source": [
    "# heatmap.2 : heatmap 그리는 함수, matrix파일 들어감\n",
    "# col : 색 지정\n",
    "# margin : 그래프 영역지정\n",
    "col = colorRampPalette(brewer.pal(10, \"RdYlBu\"))(256)\n",
    "heatmap.2(sig.exp.oxa, scale = \"none\", col = rev(col), margins=c(15, 10), trace = \"none\", density.info = \"none\")"
   ]
  },
  {
   "cell_type": "code",
   "execution_count": 77,
   "metadata": {},
   "outputs": [
    {
     "data": {
      "image/png": "[encoded data removed]",
      "text/plain": [
       "plot without title"
      ]
     },
     "metadata": {},
     "output_type": "display_data"
    }
   ],
   "source": [
    "## cutree\n",
    "# row cut하고 싶을 때 \n",
    "# row 5개로 cut\n",
    "pheatmap(sig.exp.oxa, cutree_rows = 5, col = rev(col), margins = c(15, 10), trace = \"none\", density.info = \"none\")"
   ]
  },
  {
   "cell_type": "code",
   "execution_count": 79,
   "metadata": {},
   "outputs": [
    {
     "data": {
      "text/html": [
       "<table>\n",
       "<thead><tr><th scope=col>id</th><th scope=col>baseMean</th><th scope=col>baseMeanA</th><th scope=col>baseMeanB</th><th scope=col>foldChange</th><th scope=col>log2FoldChange</th><th scope=col>pval</th><th scope=col>padj</th></tr></thead>\n",
       "<tbody>\n",
       "\t<tr><td>A1BG        </td><td>   0.7347337</td><td>   0.00000  </td><td>   1.4694674</td><td>     Inf    </td><td>      Inf   </td><td>0.4111136   </td><td>0.7974627   </td></tr>\n",
       "\t<tr><td>A2M         </td><td>  17.9278057</td><td>  10.05862  </td><td>  25.7969888</td><td>2.564664    </td><td>1.3587699   </td><td>0.1206198   </td><td>0.5905541   </td></tr>\n",
       "\t<tr><td>A3GALT2     </td><td>   0.1751001</td><td>   0.00000  </td><td>   0.3502002</td><td>     Inf    </td><td>      Inf   </td><td>0.9742308   </td><td>1.0000000   </td></tr>\n",
       "\t<tr><td>A4GALT      </td><td>1545.2563532</td><td>1428.64706  </td><td>1661.8656463</td><td>1.163244    </td><td>0.2181542   </td><td>0.7055905   </td><td>0.9593684   </td></tr>\n",
       "\t<tr><td>AAAS        </td><td>1826.6089377</td><td>1634.43975  </td><td>2018.7781219</td><td>1.235150    </td><td>0.3046862   </td><td>0.5989222   </td><td>0.9096807   </td></tr>\n",
       "\t<tr><td>AACS        </td><td>1653.0552622</td><td>1386.63719  </td><td>1919.4733344</td><td>1.384265    </td><td>0.4691202   </td><td>0.3970164   </td><td>0.7855691   </td></tr>\n",
       "</tbody>\n",
       "</table>\n"
      ],
      "text/latex": [
       "\\begin{tabular}{r|llllllll}\n",
       " id & baseMean & baseMeanA & baseMeanB & foldChange & log2FoldChange & pval & padj\\\\\n",
       "\\hline\n",
       "\t A1BG         &    0.7347337 &    0.00000   &    1.4694674 &      Inf     &       Inf    & 0.4111136    & 0.7974627   \\\\\n",
       "\t A2M          &   17.9278057 &   10.05862   &   25.7969888 & 2.564664     & 1.3587699    & 0.1206198    & 0.5905541   \\\\\n",
       "\t A3GALT2      &    0.1751001 &    0.00000   &    0.3502002 &      Inf     &       Inf    & 0.9742308    & 1.0000000   \\\\\n",
       "\t A4GALT       & 1545.2563532 & 1428.64706   & 1661.8656463 & 1.163244     & 0.2181542    & 0.7055905    & 0.9593684   \\\\\n",
       "\t AAAS         & 1826.6089377 & 1634.43975   & 2018.7781219 & 1.235150     & 0.3046862    & 0.5989222    & 0.9096807   \\\\\n",
       "\t AACS         & 1653.0552622 & 1386.63719   & 1919.4733344 & 1.384265     & 0.4691202    & 0.3970164    & 0.7855691   \\\\\n",
       "\\end{tabular}\n"
      ],
      "text/markdown": [
       "\n",
       "| id | baseMean | baseMeanA | baseMeanB | foldChange | log2FoldChange | pval | padj |\n",
       "|---|---|---|---|---|---|---|---|\n",
       "| A1BG         |    0.7347337 |    0.00000   |    1.4694674 |      Inf     |       Inf    | 0.4111136    | 0.7974627    |\n",
       "| A2M          |   17.9278057 |   10.05862   |   25.7969888 | 2.564664     | 1.3587699    | 0.1206198    | 0.5905541    |\n",
       "| A3GALT2      |    0.1751001 |    0.00000   |    0.3502002 |      Inf     |       Inf    | 0.9742308    | 1.0000000    |\n",
       "| A4GALT       | 1545.2563532 | 1428.64706   | 1661.8656463 | 1.163244     | 0.2181542    | 0.7055905    | 0.9593684    |\n",
       "| AAAS         | 1826.6089377 | 1634.43975   | 2018.7781219 | 1.235150     | 0.3046862    | 0.5989222    | 0.9096807    |\n",
       "| AACS         | 1653.0552622 | 1386.63719   | 1919.4733344 | 1.384265     | 0.4691202    | 0.3970164    | 0.7855691    |\n",
       "\n"
      ],
      "text/plain": [
       "  id      baseMean     baseMeanA  baseMeanB    foldChange log2FoldChange\n",
       "1 A1BG       0.7347337    0.00000    1.4694674      Inf         Inf     \n",
       "2 A2M       17.9278057   10.05862   25.7969888 2.564664   1.3587699     \n",
       "3 A3GALT2    0.1751001    0.00000    0.3502002      Inf         Inf     \n",
       "4 A4GALT  1545.2563532 1428.64706 1661.8656463 1.163244   0.2181542     \n",
       "5 AAAS    1826.6089377 1634.43975 2018.7781219 1.235150   0.3046862     \n",
       "6 AACS    1653.0552622 1386.63719 1919.4733344 1.384265   0.4691202     \n",
       "  pval      padj     \n",
       "1 0.4111136 0.7974627\n",
       "2 0.1206198 0.5905541\n",
       "3 0.9742308 1.0000000\n",
       "4 0.7055905 0.9593684\n",
       "5 0.5989222 0.9096807\n",
       "6 0.3970164 0.7855691"
      ]
     },
     "metadata": {},
     "output_type": "display_data"
    },
    {
     "data": {
      "image/png": "[encoded data removed]",
      "text/plain": [
       "plot without title"
      ]
     },
     "metadata": {},
     "output_type": "display_data"
    },
    {
     "data": {
      "image/png": "[encoded data removed]",
      "text/plain": [
       "Plot with title \"Histogram of res_sar$log2FoldChange\""
      ]
     },
     "metadata": {},
     "output_type": "display_data"
    }
   ],
   "source": [
    "## 1-5. DEG (none vs. saracatinib)\n",
    "res_sar = nbinomTest(cds, \"none\", \"saracatinib\")\n",
    "head(res_sar)\n",
    "\n",
    "plotMA(res_sar)\n",
    "hist(res_sar$log2FoldChange, breaks = 100) # 분포결과 보기"
   ]
  },
  {
   "cell_type": "code",
   "execution_count": 84,
   "metadata": {},
   "outputs": [
    {
     "data": {
      "text/html": [
       "<ol class=list-inline>\n",
       "\t<li>363</li>\n",
       "\t<li>8</li>\n",
       "</ol>\n"
      ],
      "text/latex": [
       "\\begin{enumerate*}\n",
       "\\item 363\n",
       "\\item 8\n",
       "\\end{enumerate*}\n"
      ],
      "text/markdown": [
       "1. 363\n",
       "2. 8\n",
       "\n",
       "\n"
      ],
      "text/plain": [
       "[1] 363   8"
      ]
     },
     "metadata": {},
     "output_type": "display_data"
    },
    {
     "data": {
      "text/html": [
       "<ol class=list-inline>\n",
       "\t<li>236</li>\n",
       "\t<li>8</li>\n",
       "</ol>\n"
      ],
      "text/latex": [
       "\\begin{enumerate*}\n",
       "\\item 236\n",
       "\\item 8\n",
       "\\end{enumerate*}\n"
      ],
      "text/markdown": [
       "1. 236\n",
       "2. 8\n",
       "\n",
       "\n"
      ],
      "text/plain": [
       "[1] 236   8"
      ]
     },
     "metadata": {},
     "output_type": "display_data"
    },
    {
     "data": {
      "text/html": [
       "<table>\n",
       "<thead><tr><th></th><th scope=col>id</th><th scope=col>baseMean</th><th scope=col>baseMeanA</th><th scope=col>baseMeanB</th><th scope=col>foldChange</th><th scope=col>log2FoldChange</th><th scope=col>pval</th><th scope=col>padj</th></tr></thead>\n",
       "<tbody>\n",
       "\t<tr><th scope=row>16</th><td>AARD        </td><td> 385.71048  </td><td> 612.84974  </td><td>158.571221  </td><td> 0.25874405 </td><td>-1.950402   </td><td>1.210858e-03</td><td>8.424352e-02</td></tr>\n",
       "\t<tr><th scope=row>56</th><td>ABCG1       </td><td> 268.81914  </td><td>  20.55619  </td><td>517.082098  </td><td>25.15457144 </td><td> 4.652749   </td><td>7.967908e-12</td><td>1.726418e-08</td></tr>\n",
       "\t<tr><th scope=row>167</th><td>ACTC1       </td><td>  64.33478  </td><td> 119.66314  </td><td>  9.006412  </td><td> 0.07526471 </td><td>-3.731883   </td><td>3.570040e-07</td><td>2.005437e-04</td></tr>\n",
       "\t<tr><th scope=row>169</th><td>ACTG2       </td><td>  31.62293  </td><td>  61.51969  </td><td>  1.726174  </td><td> 0.02805888 </td><td>-5.155399   </td><td>3.174382e-07</td><td>1.851764e-04</td></tr>\n",
       "\t<tr><th scope=row>260</th><td>ADGRG1      </td><td>1166.93156  </td><td>1845.29865  </td><td>488.564479  </td><td> 0.26476174 </td><td>-1.917233   </td><td>1.252151e-03</td><td>8.474131e-02</td></tr>\n",
       "\t<tr><th scope=row>287</th><td>ADORA1      </td><td> 365.97867  </td><td> 129.46650  </td><td>602.490837  </td><td> 4.65364277 </td><td> 2.218360   </td><td>1.971355e-04</td><td>2.285761e-02</td></tr>\n",
       "</tbody>\n",
       "</table>\n"
      ],
      "text/latex": [
       "\\begin{tabular}{r|llllllll}\n",
       "  & id & baseMean & baseMeanA & baseMeanB & foldChange & log2FoldChange & pval & padj\\\\\n",
       "\\hline\n",
       "\t16 & AARD         &  385.71048   &  612.84974   & 158.571221   &  0.25874405  & -1.950402    & 1.210858e-03 & 8.424352e-02\\\\\n",
       "\t56 & ABCG1        &  268.81914   &   20.55619   & 517.082098   & 25.15457144  &  4.652749    & 7.967908e-12 & 1.726418e-08\\\\\n",
       "\t167 & ACTC1        &   64.33478   &  119.66314   &   9.006412   &  0.07526471  & -3.731883    & 3.570040e-07 & 2.005437e-04\\\\\n",
       "\t169 & ACTG2        &   31.62293   &   61.51969   &   1.726174   &  0.02805888  & -5.155399    & 3.174382e-07 & 1.851764e-04\\\\\n",
       "\t260 & ADGRG1       & 1166.93156   & 1845.29865   & 488.564479   &  0.26476174  & -1.917233    & 1.252151e-03 & 8.474131e-02\\\\\n",
       "\t287 & ADORA1       &  365.97867   &  129.46650   & 602.490837   &  4.65364277  &  2.218360    & 1.971355e-04 & 2.285761e-02\\\\\n",
       "\\end{tabular}\n"
      ],
      "text/markdown": [
       "\n",
       "| <!--/--> | id | baseMean | baseMeanA | baseMeanB | foldChange | log2FoldChange | pval | padj |\n",
       "|---|---|---|---|---|---|---|---|---|\n",
       "| 16 | AARD         |  385.71048   |  612.84974   | 158.571221   |  0.25874405  | -1.950402    | 1.210858e-03 | 8.424352e-02 |\n",
       "| 56 | ABCG1        |  268.81914   |   20.55619   | 517.082098   | 25.15457144  |  4.652749    | 7.967908e-12 | 1.726418e-08 |\n",
       "| 167 | ACTC1        |   64.33478   |  119.66314   |   9.006412   |  0.07526471  | -3.731883    | 3.570040e-07 | 2.005437e-04 |\n",
       "| 169 | ACTG2        |   31.62293   |   61.51969   |   1.726174   |  0.02805888  | -5.155399    | 3.174382e-07 | 1.851764e-04 |\n",
       "| 260 | ADGRG1       | 1166.93156   | 1845.29865   | 488.564479   |  0.26476174  | -1.917233    | 1.252151e-03 | 8.474131e-02 |\n",
       "| 287 | ADORA1       |  365.97867   |  129.46650   | 602.490837   |  4.65364277  |  2.218360    | 1.971355e-04 | 2.285761e-02 |\n",
       "\n"
      ],
      "text/plain": [
       "    id     baseMean   baseMeanA  baseMeanB  foldChange  log2FoldChange\n",
       "16  AARD    385.71048  612.84974 158.571221  0.25874405 -1.950402     \n",
       "56  ABCG1   268.81914   20.55619 517.082098 25.15457144  4.652749     \n",
       "167 ACTC1    64.33478  119.66314   9.006412  0.07526471 -3.731883     \n",
       "169 ACTG2    31.62293   61.51969   1.726174  0.02805888 -5.155399     \n",
       "260 ADGRG1 1166.93156 1845.29865 488.564479  0.26476174 -1.917233     \n",
       "287 ADORA1  365.97867  129.46650 602.490837  4.65364277  2.218360     \n",
       "    pval         padj        \n",
       "16  1.210858e-03 8.424352e-02\n",
       "56  7.967908e-12 1.726418e-08\n",
       "167 3.570040e-07 2.005437e-04\n",
       "169 3.174382e-07 1.851764e-04\n",
       "260 1.252151e-03 8.474131e-02\n",
       "287 1.971355e-04 2.285761e-02"
      ]
     },
     "metadata": {},
     "output_type": "display_data"
    },
    {
     "data": {
      "text/html": [
       "236"
      ],
      "text/latex": [
       "236"
      ],
      "text/markdown": [
       "236"
      ],
      "text/plain": [
       "[1] 236"
      ]
     },
     "metadata": {},
     "output_type": "display_data"
    }
   ],
   "source": [
    "## filterting\n",
    "fil.res_sar = res_sar[which(abs(res_sar$log2FoldChange) > 1 &res_sar$pval < 0.005), ]\n",
    "dim(fil.res_sar)\n",
    "\n",
    "## significant genes\n",
    "sig.sar=res_sar[which(abs(res_sar$log2FoldChange) > 1 & res_sar$pval < 0.05 & res_sar$padj < 0.1), ]\n",
    "dim(sig.sar)\n",
    "head(sig.sar)\n",
    "\n",
    "# id만 출력\n",
    "sig.sar=res_sar$id[which(abs(res_sar$log2FoldChange) > 1 & res_sar$pval < 0.05 & res_sar$padj < 0.1)]\n",
    "length(sig.sar)"
   ]
  },
  {
   "cell_type": "code",
   "execution_count": 83,
   "metadata": {},
   "outputs": [
    {
     "data": {
      "text/html": [
       "<ol class=list-inline>\n",
       "\t<li>236</li>\n",
       "\t<li>6</li>\n",
       "</ol>\n"
      ],
      "text/latex": [
       "\\begin{enumerate*}\n",
       "\\item 236\n",
       "\\item 6\n",
       "\\end{enumerate*}\n"
      ],
      "text/markdown": [
       "1. 236\n",
       "2. 6\n",
       "\n",
       "\n"
      ],
      "text/plain": [
       "[1] 236   6"
      ]
     },
     "metadata": {},
     "output_type": "display_data"
    },
    {
     "data": {
      "text/html": [
       "<ol class=list-inline>\n",
       "\t<li>0</li>\n",
       "\t<li>14.1645132533138</li>\n",
       "</ol>\n"
      ],
      "text/latex": [
       "\\begin{enumerate*}\n",
       "\\item 0\n",
       "\\item 14.1645132533138\n",
       "\\end{enumerate*}\n"
      ],
      "text/markdown": [
       "1. 0\n",
       "2. 14.1645132533138\n",
       "\n",
       "\n"
      ],
      "text/plain": [
       "[1]  0.00000 14.16451"
      ]
     },
     "metadata": {},
     "output_type": "display_data"
    },
    {
     "data": {
      "image/png": "[encoded data removed]",
      "text/plain": [
       "Plot with title \"Color Key\""
      ]
     },
     "metadata": {},
     "output_type": "display_data"
    }
   ],
   "source": [
    "# heatmap 그리기\n",
    "sig.exp.sar=exp.log[sig.sar, c(1:3, 7:9)] # log로 값 변환 # 1:3은 none, 7:9는 sar\n",
    "dim(sig.exp.sar)\n",
    "range(sig.exp.sar)\n",
    "heatmap.2(sig.exp.sar, scale = \"none\", col=rev(col), margins=c(15,10), trace = \"none\", density.info = \"none\") "
   ]
  },
  {
   "cell_type": "code",
   "execution_count": 90,
   "metadata": {},
   "outputs": [
    {
     "data": {
      "text/html": [
       "69"
      ],
      "text/latex": [
       "69"
      ],
      "text/markdown": [
       "69"
      ],
      "text/plain": [
       "[1] 69"
      ]
     },
     "metadata": {},
     "output_type": "display_data"
    },
    {
     "data": {
      "image/png": "[encoded data removed]",
      "text/plain": [
       "plot without title"
      ]
     },
     "metadata": {},
     "output_type": "display_data"
    }
   ],
   "source": [
    "## 1-6. DEG (common genes with alteration by treating drugs)\n",
    "# control에 비해서 두개의 약물(oxa 100개, sar 236개)에 다 반응하고 있는 gene을 보고싶을 때\n",
    "# intersect : 두 그룹의 공통된 부분 묶어주기\n",
    "com.id = intersect(sig.oxa, sig.sar)\n",
    "length(com.id) # 69개의 gene이 oxa와 sar 두 약물에 반응함\n",
    "\n",
    "# 벤다이어그램으로 나타내주기\n",
    "venn(list(oxaliplatin = sig.oxa, saracatinib = sig.sar), small = 1)"
   ]
  },
  {
   "cell_type": "code",
   "execution_count": 91,
   "metadata": {},
   "outputs": [
    {
     "data": {
      "text/html": [
       "<ol class=list-inline>\n",
       "\t<li>69</li>\n",
       "\t<li>9</li>\n",
       "</ol>\n"
      ],
      "text/latex": [
       "\\begin{enumerate*}\n",
       "\\item 69\n",
       "\\item 9\n",
       "\\end{enumerate*}\n"
      ],
      "text/markdown": [
       "1. 69\n",
       "2. 9\n",
       "\n",
       "\n"
      ],
      "text/plain": [
       "[1] 69  9"
      ]
     },
     "metadata": {},
     "output_type": "display_data"
    },
    {
     "data": {
      "text/html": [
       "<table>\n",
       "<thead><tr><th></th><th scope=col>Sample_97L_1</th><th scope=col>Sample_97L_2</th><th scope=col>Sample_97L_3</th><th scope=col>Sample_97L_P_AC_1</th><th scope=col>Sample_97L_P_AC_2</th><th scope=col>Sample_97L_P_AC_3</th><th scope=col>Sample_97L_P_SRC_1</th><th scope=col>Sample_97L_P_SRC_2</th><th scope=col>Sample_97L_P_SRC_3</th></tr></thead>\n",
       "<tbody>\n",
       "\t<tr><th scope=row>ABCG1</th><td>3.705631 </td><td>4.400795 </td><td>4.930640 </td><td>8.810047 </td><td>9.050211 </td><td>8.720953 </td><td>8.802370 </td><td>9.083732 </td><td>9.1426094</td></tr>\n",
       "\t<tr><th scope=row>ACTG2</th><td>5.146476 </td><td>6.012317 </td><td>6.452706 </td><td>3.143980 </td><td>3.141518 </td><td>3.324885 </td><td>2.379178 </td><td>0.000000 </td><td>0.9826698</td></tr>\n",
       "\t<tr><th scope=row>AHRR</th><td>8.723286 </td><td>9.422627 </td><td>9.283809 </td><td>6.913534 </td><td>6.945539 </td><td>6.861237 </td><td>6.655453 </td><td>6.896278 </td><td>6.3054146</td></tr>\n",
       "\t<tr><th scope=row>ALPP</th><td>8.484232 </td><td>9.354234 </td><td>9.717962 </td><td>4.878653 </td><td>4.969013 </td><td>4.703598 </td><td>5.952679 </td><td>6.255426 </td><td>5.3582864</td></tr>\n",
       "\t<tr><th scope=row>ANKRD2</th><td>4.790521 </td><td>5.836296 </td><td>6.177240 </td><td>1.978140 </td><td>2.779972 </td><td>0.000000 </td><td>2.053737 </td><td>1.812786 </td><td>2.2940990</td></tr>\n",
       "\t<tr><th scope=row>ARNT2</th><td>5.669832 </td><td>6.169179 </td><td>5.836460 </td><td>9.074121 </td><td>9.039525 </td><td>8.855027 </td><td>9.025270 </td><td>8.632375 </td><td>8.7628697</td></tr>\n",
       "</tbody>\n",
       "</table>\n"
      ],
      "text/latex": [
       "\\begin{tabular}{r|lllllllll}\n",
       "  & Sample\\_97L\\_1 & Sample\\_97L\\_2 & Sample\\_97L\\_3 & Sample\\_97L\\_P\\_AC\\_1 & Sample\\_97L\\_P\\_AC\\_2 & Sample\\_97L\\_P\\_AC\\_3 & Sample\\_97L\\_P\\_SRC\\_1 & Sample\\_97L\\_P\\_SRC\\_2 & Sample\\_97L\\_P\\_SRC\\_3\\\\\n",
       "\\hline\n",
       "\tABCG1 & 3.705631  & 4.400795  & 4.930640  & 8.810047  & 9.050211  & 8.720953  & 8.802370  & 9.083732  & 9.1426094\\\\\n",
       "\tACTG2 & 5.146476  & 6.012317  & 6.452706  & 3.143980  & 3.141518  & 3.324885  & 2.379178  & 0.000000  & 0.9826698\\\\\n",
       "\tAHRR & 8.723286  & 9.422627  & 9.283809  & 6.913534  & 6.945539  & 6.861237  & 6.655453  & 6.896278  & 6.3054146\\\\\n",
       "\tALPP & 8.484232  & 9.354234  & 9.717962  & 4.878653  & 4.969013  & 4.703598  & 5.952679  & 6.255426  & 5.3582864\\\\\n",
       "\tANKRD2 & 4.790521  & 5.836296  & 6.177240  & 1.978140  & 2.779972  & 0.000000  & 2.053737  & 1.812786  & 2.2940990\\\\\n",
       "\tARNT2 & 5.669832  & 6.169179  & 5.836460  & 9.074121  & 9.039525  & 8.855027  & 9.025270  & 8.632375  & 8.7628697\\\\\n",
       "\\end{tabular}\n"
      ],
      "text/markdown": [
       "\n",
       "| <!--/--> | Sample_97L_1 | Sample_97L_2 | Sample_97L_3 | Sample_97L_P_AC_1 | Sample_97L_P_AC_2 | Sample_97L_P_AC_3 | Sample_97L_P_SRC_1 | Sample_97L_P_SRC_2 | Sample_97L_P_SRC_3 |\n",
       "|---|---|---|---|---|---|---|---|---|---|\n",
       "| ABCG1 | 3.705631  | 4.400795  | 4.930640  | 8.810047  | 9.050211  | 8.720953  | 8.802370  | 9.083732  | 9.1426094 |\n",
       "| ACTG2 | 5.146476  | 6.012317  | 6.452706  | 3.143980  | 3.141518  | 3.324885  | 2.379178  | 0.000000  | 0.9826698 |\n",
       "| AHRR | 8.723286  | 9.422627  | 9.283809  | 6.913534  | 6.945539  | 6.861237  | 6.655453  | 6.896278  | 6.3054146 |\n",
       "| ALPP | 8.484232  | 9.354234  | 9.717962  | 4.878653  | 4.969013  | 4.703598  | 5.952679  | 6.255426  | 5.3582864 |\n",
       "| ANKRD2 | 4.790521  | 5.836296  | 6.177240  | 1.978140  | 2.779972  | 0.000000  | 2.053737  | 1.812786  | 2.2940990 |\n",
       "| ARNT2 | 5.669832  | 6.169179  | 5.836460  | 9.074121  | 9.039525  | 8.855027  | 9.025270  | 8.632375  | 8.7628697 |\n",
       "\n"
      ],
      "text/plain": [
       "       Sample_97L_1 Sample_97L_2 Sample_97L_3 Sample_97L_P_AC_1\n",
       "ABCG1  3.705631     4.400795     4.930640     8.810047         \n",
       "ACTG2  5.146476     6.012317     6.452706     3.143980         \n",
       "AHRR   8.723286     9.422627     9.283809     6.913534         \n",
       "ALPP   8.484232     9.354234     9.717962     4.878653         \n",
       "ANKRD2 4.790521     5.836296     6.177240     1.978140         \n",
       "ARNT2  5.669832     6.169179     5.836460     9.074121         \n",
       "       Sample_97L_P_AC_2 Sample_97L_P_AC_3 Sample_97L_P_SRC_1\n",
       "ABCG1  9.050211          8.720953          8.802370          \n",
       "ACTG2  3.141518          3.324885          2.379178          \n",
       "AHRR   6.945539          6.861237          6.655453          \n",
       "ALPP   4.969013          4.703598          5.952679          \n",
       "ANKRD2 2.779972          0.000000          2.053737          \n",
       "ARNT2  9.039525          8.855027          9.025270          \n",
       "       Sample_97L_P_SRC_2 Sample_97L_P_SRC_3\n",
       "ABCG1  9.083732           9.1426094         \n",
       "ACTG2  0.000000           0.9826698         \n",
       "AHRR   6.896278           6.3054146         \n",
       "ALPP   6.255426           5.3582864         \n",
       "ANKRD2 1.812786           2.2940990         \n",
       "ARNT2  8.632375           8.7628697         "
      ]
     },
     "metadata": {},
     "output_type": "display_data"
    },
    {
     "data": {
      "image/png": "[encoded data removed]",
      "text/plain": [
       "Plot with title \"Color Key\""
      ]
     },
     "metadata": {},
     "output_type": "display_data"
    }
   ],
   "source": [
    "# 69개의 유전자를 가지고 heatmap으로 결과 보기\n",
    "com.exp = exp.log[com.id,]\n",
    "dim(com.exp)\n",
    "head(com.exp)\n",
    "heatmap.2(com.exp, scale = \"none\", col = rev(col), margins = c(15, 10), trace = \"none\", density.info = \"none\")"
   ]
  },
  {
   "cell_type": "markdown",
   "metadata": {},
   "source": [
    "    두가지 약물(oxa, sar)에 의해\n",
    "    sample_97L_P_AC1, sample_97L_P_AC2, sample_97L_P_AC3, \n",
    "    sample_97L_P_SRC1, sample_97L_P_SRC2, sample_97L_P_SRC3은 올라가져있다.(윗부분이 red)\n",
    "    \n",
    "    sample_97L_1, sample_97L_2, sample_97L_3은 떨어져 있다.(윗부분 blue)\n",
    "    \n",
    "    색 농도의 진함 정도를 통해 진하면 유전자가 더 많이 발현됨을 알 수 있다. \n",
    "    \n",
    "    약물에 대한 expression한 변화가 있음을 보여줌\n",
    "   ----------------------------------------------------------------------------------------\n",
    "    * DESeq 최종 정리 \n",
    "    \n",
    "    count data → metatdata(basic data of sample) → normalization(값 보정) → dispersion(값 보정)\n",
    "    이러한 과정을 거쳐 data correction 시켜줌\n",
    "    \n",
    "    nbinomeTest를 통해 pval, padj로 data filtering 유용하게 해줄 수 있음\n",
    "    \n",
    "    Heatmap tool을 사용해서 data에 대한 정보를 가시적으로 확인 할 수 있음"
   ]
  }
 ],
 "metadata": {
  "kernelspec": {
   "display_name": "R",
   "language": "R",
   "name": "ir"
  },
  "language_info": {
   "codemirror_mode": "r",
   "file_extension": ".r",
   "mimetype": "text/x-r-source",
   "name": "R",
   "pygments_lexer": "r",
   "version": "3.6.1"
  }
 },
 "nbformat": 4,
 "nbformat_minor": 2
}
