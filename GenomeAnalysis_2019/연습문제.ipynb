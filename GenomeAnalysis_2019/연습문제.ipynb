{
 "cells": [
  {
   "cell_type": "markdown",
   "metadata": {},
   "source": [
    "#### 2020/07/14"
   ]
  },
  {
   "cell_type": "code",
   "execution_count": 2,
   "metadata": {},
   "outputs": [
    {
     "name": "stdout",
     "output_type": "stream",
     "text": [
      "나이 입력 : 20\n",
      "1250원\n"
     ]
    }
   ],
   "source": [
    "\"\"\"\n",
    "나이에 따라 지하철 교통 요금 출력하는 프로그램\n",
    "8세 미만 어린이의 지하철 교통요금 450원\n",
    "8세 이상 19세 이하의 청소년 지하철 교통요금 720원\n",
    "20세 이상 성인 지하철 교통요금 1250원\n",
    "\"\"\"\n",
    "\n",
    "age = int(input(\"나이 입력 : \"))\n",
    "\n",
    "if age < 0 :\n",
    "    print(\"Error\")\n",
    "\n",
    "elif age < 8 :\n",
    "    print(\"450원\")\n",
    "\n",
    "elif age < 20 : \n",
    "    print(\"720원\")\n",
    "\n",
    "else :\n",
    "    print(\"1250원\")"
   ]
  },
  {
   "cell_type": "code",
   "execution_count": 33,
   "metadata": {},
   "outputs": [
    {
     "name": "stdout",
     "output_type": "stream",
     "text": [
      "년도 입력 : 2000\n",
      "윤년이다\n"
     ]
    }
   ],
   "source": [
    "\"\"\"\n",
    "연도가 주어졌을 때, 윤년이면 True, 아니면 False를 출력하는 프로그램\n",
    "윤년은 연도가 4의 배수이면서,\n",
    "100의 배수가 아닌 때 또는 400의 배수일 때다.\n",
    "예를 들어, 2012년은 4의 배수라서 윤년이지만, \n",
    "1900년은 4의 배수이지만, 100의 배수이기떄문에 윤년이 아니다\n",
    "하지만 2000년은 400의 배수이기 때문에 윤년이다.\n",
    "\"\"\"\n",
    "\n",
    "year = int(input(\"년도 입력 : \"))\n",
    "\n",
    "if (year % 4 == 0 and year % 100 != 0 ) or year % 400 == 0 :\n",
    "    print(\"윤년이다\")\n",
    "\n",
    "else :\n",
    "    print(\"윤년아니다\")    "
   ]
  },
  {
   "cell_type": "code",
   "execution_count": 6,
   "metadata": {},
   "outputs": [
    {
     "name": "stdout",
     "output_type": "stream",
     "text": [
      "이름 입력 : 홍길동\n",
      "010-1111-1111\n"
     ]
    }
   ],
   "source": [
    "\"\"\"\n",
    "다음과 같이 등록된 학생의 이름을 출력하고, 이름을 입력하면 전화번호를 출력해주는\n",
    "딕셔너리 객체를 이용한 전화번호부 프로그램을 작성하십시오.\n",
    "\n",
    "[등록된 학생]\n",
    "\n",
    "홍길동: 010-1111-1111\n",
    "이순신: 010-1111-2222\n",
    "강감찬: 010-1111-3333\n",
    "\n",
    "\n",
    "[프로그램]\n",
    "\n",
    "아래 학생들의 전화번호를 조회할 수 있습니다.\n",
    "홍길동\n",
    "이순신\n",
    "강감찬\n",
    "전화번호를 조회하고자 하는 학생의 이름을 입력하십시오.\n",
    "\n",
    "\"\"\"\n",
    "name = input(\"이름 입력 : \")\n",
    "\n",
    "dic_phone = {'홍길동':'010-1111-1111', '이순신':'010-1111-2222', '강감찬':'010-1111-3333'}\n",
    "\n",
    "\n",
    "if name in ('홍길동', '이순신', '강감찬') :\n",
    "    print(dic_phone[name])\n",
    "\n",
    "else :\n",
    "    print(\"이름 없어\")"
   ]
  },
  {
   "cell_type": "code",
   "execution_count": 83,
   "metadata": {},
   "outputs": [
    {
     "data": {
      "text/plain": [
       "[('TV', 200), ('노트북', 120), ('세탁기', 100), ('책상', 35), ('가스레인지', 20)]"
      ]
     },
     "execution_count": 83,
     "metadata": {},
     "output_type": "execute_result"
    }
   ],
   "source": [
    "\"\"\"\n",
    "아래의 상품 딕셔너리 데이터를 가격에 따라 내림차순으로 정렬하는 프로그램을 작성하십시오.\n",
    " \"TV\": 2000000,\n",
    "\n",
    "\"냉장고\": 1500000,\n",
    "\n",
    "\"책상\": 350000,\n",
    "\n",
    "\"노트북\": 1200000,\n",
    "\n",
    "\"가스레인지\": 200000,\n",
    "\n",
    "\"세탁기\": 1000000,\n",
    "\"\"\"\n",
    "\n",
    "dic_prod = {'TV':200, '책상':35, '노트북':120, '가스레인지':20, '세탁기':100}\n",
    "\n",
    "sorted(dic_prod.items(), key = lambda x : x[1], reverse = True)"
   ]
  },
  {
   "cell_type": "code",
   "execution_count": 90,
   "metadata": {},
   "outputs": [
    {
     "name": "stdout",
     "output_type": "stream",
     "text": [
      "80\n",
      "{'A': 90, 'C': 70}\n",
      "{'A': 90}\n"
     ]
    }
   ],
   "source": [
    "\"\"\"\n",
    "딕셔너리 값 추출\n",
    "딕셔너리 a에서 ‘B’에 해당되는 값을 추출하고 삭제해 보자.\n",
    ">>> a = {'A':90, 'B':80, 'C':70}\n",
    "\"\"\"\n",
    "a = {'A':90, 'B':80, 'C':70}\n",
    "\n",
    "print(a['B'])\n",
    "\n",
    "del a['B']\n",
    "print(a)\n",
    "\n",
    "a.pop('C')\n",
    "print(a)"
   ]
  },
  {
   "cell_type": "markdown",
   "metadata": {},
   "source": [
    "### Mendel's First Law\n",
    "\n",
    "    경우의 수 문제\n",
    "    \n",
    "    k : homozygous dominant (우성, 우성)\n",
    "    m : heterozygous (우성, 열성)\n",
    "    n : homozygous recessive (열성, 열성)\n",
    "    \n",
    "    문제)\n",
    "        2개 랜덤하게 선택했을 때, 우성 가지고 있어서 발현될 가능성은 몇인가?\n",
    "        -> 우성이 나올 경우의 수가 많으니\n",
    "           열성이 발생될 가능성을 알아보고 \n",
    "           마지막에 \"(1-열성 가능성) = 우성 가능성\" 으로 알아보기"
   ]
  },
  {
   "cell_type": "code",
   "execution_count": 44,
   "metadata": {},
   "outputs": [
    {
     "name": "stdout",
     "output_type": "stream",
     "text": [
      "homozygous dominant의 개수 : 2\n",
      "heterozygous의 개수 : 2\n",
      "homozygous recessive의 개수 : 2\n",
      "우성 유전자가 나타날 확률은 78.33%\n"
     ]
    }
   ],
   "source": [
    "## 변수 지정\n",
    "k_cnt = int(input(\"homozygous dominant의 개수 : \"))\n",
    "m_cnt = int(input(\"heterozygous의 개수 : \"))\n",
    "n_cnt = int(input(\"homozygous recessive의 개수 : \"))\n",
    "\n",
    "total_cnt = k_cnt + m_cnt + n_cnt\n",
    "\n",
    "## 열성 나올 경우의 수 알아보기\n",
    "\"\"\"\n",
    "예시) k = 2, m = 2, n = 2 인 경우\n",
    "\n",
    "1. m 뽑고 m 뽑기\n",
    "    2/6 * 1/5 = 2/30\n",
    "   \n",
    "   m과 m 뽑았을 때 나올 수 있는 우성, 열성 관계\n",
    "    (우, 우), (우, 열), (우, 열), (열, 열) -> 1/4\n",
    "    \n",
    "2. m 뽑고 n 뽑기\n",
    "    2/6 * 2/5 = 4/30\n",
    "   \n",
    "   m과 n 뽑았을 때 나올 수 있는 우성, 열성 관계\n",
    "    (우, 열), (우, 열), (열, 열), (열, 열) -> 1/2\n",
    "    \n",
    "3. n 뽑고 m 뽑기\n",
    "    \n",
    "    2번과 동일\n",
    "    \n",
    "4. n 뽑고 n 뽑기\n",
    "    2/6 * 1/5 = 2/30\n",
    "   \n",
    "   n과 n 뽑았을 때 나올 수 있는 우성, 열성 관계\n",
    "    다 (열, 열) -> 1\n",
    "\"\"\"\n",
    "\n",
    "# 1. m과 m\n",
    "mm_cnt = ((m_cnt/total_cnt) * ((m_cnt - 1)/(total_cnt - 1))) * 1/4\n",
    "\n",
    "# 2. m과 n\n",
    "mn_cnt = ((m_cnt/total_cnt) * (n_cnt/(total_cnt - 1))) * 1/2\n",
    "\n",
    "# 3. n과 m\n",
    "nm_cnt = ((n_cnt/total_cnt) * (m_cnt/(total_cnt - 1))) * 1/2\n",
    "\n",
    "# 4. n과 n\n",
    "nn_cnt = ((n_cnt/total_cnt) * (n_cnt - 1)/(total_cnt - 1)) * 1\n",
    "\n",
    "# 열성이 나올 확률\n",
    "recess = mm_cnt + mn_cnt + nm_cnt + nn_cnt\n",
    "\n",
    "# 우성이 나올 확률\n",
    "dominant = round(((1 - recess) * 100), 2)\n",
    "\n",
    "# 결과 출력\n",
    "print(\"우성 유전자가 나타날 확률은 {}%\".format(dominant))"
   ]
  },
  {
   "cell_type": "code",
   "execution_count": null,
   "metadata": {},
   "outputs": [],
   "source": []
  },
  {
   "cell_type": "code",
   "execution_count": null,
   "metadata": {},
   "outputs": [],
   "source": []
  },
  {
   "cell_type": "code",
   "execution_count": null,
   "metadata": {},
   "outputs": [],
   "source": []
  },
  {
   "cell_type": "code",
   "execution_count": null,
   "metadata": {},
   "outputs": [],
   "source": []
  },
  {
   "cell_type": "code",
   "execution_count": null,
   "metadata": {},
   "outputs": [],
   "source": []
  },
  {
   "cell_type": "code",
   "execution_count": null,
   "metadata": {},
   "outputs": [],
   "source": []
  }
 ],
 "metadata": {
  "kernelspec": {
   "display_name": "Python 3",
   "language": "python",
   "name": "python3"
  },
  "language_info": {
   "codemirror_mode": {
    "name": "ipython",
    "version": 3
   },
   "file_extension": ".py",
   "mimetype": "text/x-python",
   "name": "python",
   "nbconvert_exporter": "python",
   "pygments_lexer": "ipython3",
   "version": "3.7.4"
  }
 },
 "nbformat": 4,
 "nbformat_minor": 2
}
